{
  "nbformat": 4,
  "nbformat_minor": 0,
  "metadata": {
    "colab": {
      "name": "NLP techniques.ipynb",
      "provenance": [],
      "collapsed_sections": [],
      "toc_visible": true,
      "authorship_tag": "ABX9TyN6vM4nXnzv4sfWEiBkb+oD",
      "include_colab_link": true
    },
    "kernelspec": {
      "name": "python3",
      "display_name": "Python 3"
    },
    "language_info": {
      "name": "python"
    }
  },
  "cells": [
    {
      "cell_type": "markdown",
      "metadata": {
        "id": "view-in-github",
        "colab_type": "text"
      },
      "source": [
        "<a href=\"https://colab.research.google.com/github/srikanthlakk/NLP_Pratical_Examples_spaCy_NLTK/blob/main/NLP_techniques.ipynb\" target=\"_parent\"><img src=\"https://colab.research.google.com/assets/colab-badge.svg\" alt=\"Open In Colab\"/></a>"
      ]
    },
    {
      "cell_type": "markdown",
      "metadata": {
        "id": "Tp1U2DVGkiuM"
      },
      "source": [
        "\n",
        "\n",
        "---\n",
        "**NLP has a wide number of applications in the real world.**\n",
        "\n",
        "\n",
        "1.   Sentiment Analysis\n",
        "2.   Speech Recognition\n",
        "3.   Text Classififcation\n",
        "4.   Machine Translation\n",
        "5.   Semantic Search\n",
        "6.   News/Article Summarization\n",
        "7.   Answering Questions\n",
        "\n",
        "---\n",
        "\n",
        "\n",
        "\n"
      ]
    },
    {
      "cell_type": "markdown",
      "metadata": {
        "id": "guZocpO-G0ig"
      },
      "source": [
        "# Importing Libraries"
      ]
    },
    {
      "cell_type": "code",
      "metadata": {
        "id": "2SauONBQEtKr"
      },
      "source": [
        "# Install\n",
        "!pip install nltk # Natural Language Toolkit \n",
        "!pip install gensim # Developed for topic modelling. It supports the NLP tasks like Word Embedding, text summarization and many others.\n",
        "!pip install transformers # Developed by HuggingFace and provides state of the art models. It is an advanced library known for the transformer modules."
      ],
      "execution_count": null,
      "outputs": []
    },
    {
      "cell_type": "code",
      "metadata": {
        "colab": {
          "base_uri": "https://localhost:8080/"
        },
        "id": "X4U-GUIOEQIM",
        "outputId": "f35c35c7-252c-445e-c202-401ec95ebc4c"
      },
      "source": [
        "# importing nltk\n",
        "import nltk\n",
        "nltk.download('punkt')"
      ],
      "execution_count": 2,
      "outputs": [
        {
          "output_type": "stream",
          "text": [
            "[nltk_data] Downloading package punkt to /root/nltk_data...\n",
            "[nltk_data]   Unzipping tokenizers/punkt.zip.\n"
          ],
          "name": "stdout"
        },
        {
          "output_type": "execute_result",
          "data": {
            "text/plain": [
              "True"
            ]
          },
          "metadata": {
            "tags": []
          },
          "execution_count": 2
        }
      ]
    },
    {
      "cell_type": "code",
      "metadata": {
        "id": "X5idKl5hEZtd"
      },
      "source": [
        "# Importing spaCy and creating nlp object. Advanced library for implementing NLP today. It is many distinct features that provide clear advantage for processing text data and modeling\n",
        "import spacy\n",
        "nlp = spacy.load('en_core_web_sm')"
      ],
      "execution_count": 3,
      "outputs": []
    },
    {
      "cell_type": "code",
      "metadata": {
        "id": "xRn5vp0xEysB"
      },
      "source": [
        "# Importing gensim\n",
        "import gensim"
      ],
      "execution_count": 4,
      "outputs": []
    },
    {
      "cell_type": "markdown",
      "metadata": {
        "id": "RzKSR0B2GyAq"
      },
      "source": [
        "# Text Pre-processing"
      ]
    },
    {
      "cell_type": "code",
      "metadata": {
        "colab": {
          "base_uri": "https://localhost:8080/"
        },
        "id": "rH6-3UTpFekY",
        "outputId": "616ce3bc-6c50-447f-f283-8e8dcddd5d45"
      },
      "source": [
        "# Converting text into a spaCy object\n",
        "raw_text = 'NLP is a very powerful tool'\n",
        "text_doc = nlp(raw_text) # Conversion of text into nlp object of spaCy\n",
        "print(\"Type of the nlp object :\", type(text_doc))\n",
        "text_doc"
      ],
      "execution_count": 5,
      "outputs": [
        {
          "output_type": "stream",
          "text": [
            "Type of the nlp object : <class 'spacy.tokens.doc.Doc'>\n"
          ],
          "name": "stdout"
        },
        {
          "output_type": "execute_result",
          "data": {
            "text/plain": [
              "NLP is a very powerful tool"
            ]
          },
          "metadata": {
            "tags": []
          },
          "execution_count": 5
        }
      ]
    },
    {
      "cell_type": "code",
      "metadata": {
        "colab": {
          "base_uri": "https://localhost:8080/"
        },
        "id": "k6SkfHjGIjVW",
        "outputId": "225d1fa6-dc64-48ca-e61f-a8acc499d0ad"
      },
      "source": [
        "# Generating token from text , this process is known as tokenization\n",
        "for token in text_doc:\n",
        "    print(token.text)"
      ],
      "execution_count": 6,
      "outputs": [
        {
          "output_type": "stream",
          "text": [
            "NLP\n",
            "is\n",
            "a\n",
            "very\n",
            "powerful\n",
            "tool\n"
          ],
          "name": "stdout"
        }
      ]
    },
    {
      "cell_type": "code",
      "metadata": {
        "id": "Pu6pAsOfJRUJ",
        "colab": {
          "base_uri": "https://localhost:8080/"
        },
        "outputId": "d0b5814f-6fc5-4f85-efdf-26a657dc71b8"
      },
      "source": [
        "# Spacy provides many attributes with tokenization. \n",
        "# What if you want to know if a particular token has alphabetic characters or not ?.\n",
        "# To check if the tokens of a text are alphabets\n",
        "\n",
        "mixed_text = 'My favorite number is 10'\n",
        "mixed_text_doc = nlp(mixed_text)\n",
        "\n",
        "for token in mixed_text_doc:\n",
        "    print(token.text,token.is_alpha)\n"
      ],
      "execution_count": 7,
      "outputs": [
        {
          "output_type": "stream",
          "text": [
            "My True\n",
            "favorite True\n",
            "number True\n",
            "is True\n",
            "10 False\n"
          ],
          "name": "stdout"
        }
      ]
    },
    {
      "cell_type": "code",
      "metadata": {
        "colab": {
          "base_uri": "https://localhost:8080/"
        },
        "id": "xb8szo3fnRRv",
        "outputId": "a7b1a06d-10ec-4c56-d4d9-a955d98baa95"
      },
      "source": [
        "# Similarly what if you want to know if the particular token is space, or a stop word or punctuation?\n",
        "# All this information is stored in attributes of token. is_stop returns True if the token is a stop word. ( Stop words are ‘It’, ‘was’, etc..)\n",
        "# is_punct returns True if the token is a punctuation. (! , . etc)\n",
        "# Accessing information about tokens through the attributes\n",
        "random_text='It was amazing! It is a great pleasure to be a part of the band.'\n",
        "random_text_doc=nlp(random_text)\n",
        "print(\"Text\".ljust(10), ' ', \"Alpha\", \"Space\", \"Stop\", \"Punct\")\n",
        "for token in random_text_doc:\n",
        "    print(token.text.ljust(10), \":\", token.is_alpha,token.is_space, token.is_stop,token.is_punct)\n"
      ],
      "execution_count": 8,
      "outputs": [
        {
          "output_type": "stream",
          "text": [
            "Text         Alpha Space Stop Punct\n",
            "It         : True False True False\n",
            "was        : True False True False\n",
            "amazing    : True False False False\n",
            "!          : False False False True\n",
            "It         : True False True False\n",
            "is         : True False True False\n",
            "a          : True False True False\n",
            "great      : True False False False\n",
            "pleasure   : True False False False\n",
            "to         : True False True False\n",
            "be         : True False True False\n",
            "a          : True False True False\n",
            "part       : True False True False\n",
            "of         : True False True False\n",
            "the        : True False True False\n",
            "band       : True False False False\n",
            ".          : False False False True\n"
          ],
          "name": "stdout"
        }
      ]
    },
    {
      "cell_type": "markdown",
      "metadata": {
        "id": "vBkrNEWdpADc"
      },
      "source": [
        "# Tokenization"
      ]
    },
    {
      "cell_type": "code",
      "metadata": {
        "id": "HQiYc-HHooAa"
      },
      "source": [
        "raw_text= 'Amazon Alexa, also known simply as Alexa, is a virtual assistant AI technology developed by Amazon, first used in the Amazon Echo smart speakers developed by Amazon Lab126. It is capable of voice interaction, music playback, making to-do lists, setting alarms, streaming podcasts, playing audiobooks, and providing weather, traffic, sports, and other real-time information, such as news. Alexa can also control several smart devices using itself as a home automation system. Users are able to extend the Alexa capabilities by installing \"skills\" additional functionality developed by third-party vendors, in other settings more commonly called apps such as weather programs and audio features.Most devices with Alexa allow users to activate the device using a wake-word (such as Alexa or Amazon); other devices (such as the Amazon mobile app on iOS or Android and Amazon Dash Wand) require the user to push a button to activate Alexa listening mode, although, some phones also allow a user to say a command, such as \"Alexa\" or \"Alexa wake\". Currently, interaction and communication with Alexa are available only in English, German, French, Italian, Spanish, Portuguese, Japanese, and Hindi. In Canada, Alexa is available in English and French with the Quebec accent).[6][7]As of November 2018, Amazon had more than 10,000 employees working on Alexa and related products.[8] In January 2019, Amazons devices team announced that they had sold over 100 million Alexa-enabled devices.[9]In September 2019, Amazon launched many new devices achieving many records while competing with the worlds smart home industry. The new Echo Studio became the first smart speaker with 360 sound and Dolby sound. Other new devices included an Echo dot with a clock behind the fabric, a new third-generation Amazon Echo, Echo Show 8, a plug-in Echo device, Echo Flex, Alexa built-in wireless earphones, Echo buds, Alexa built-in spectacles, Echo frames, an Alexa built-in Ring, and Echo Loop.Alexa can perform a number of preset functions out-of-the-box such as set timers, share the current weather, create lists, access Wikipedia articles, and many more things. Users say a designated \"wake word\" (the default is simply \"Alexa\") to alert an Alexa-enabled device of an ensuing function command. Alexa listens for the command and performs the appropriate function, or skill, to answer a question or command. Alexas question answering ability is partly powered by the Wolfram Language. When questions are asked, Alexa converts sound waves into text which allows it to gather information from various sources. Behind the scenes, the data gathered is then parsed by Wolfram technology to generate suitable and accurate answers. Alexa-supported devices can stream music from the owners Amazon Music accounts and have built-in support for Pandora and Spotify accounts. Alexa can play music from streaming services such as Apple Music and Google Play Music from a phone or tablet.In addition to performing pre-set functions, Alexa can also perform additional functions through third-party skills that users can enable. Some of the most popular Alexa skills in 2018 included \"Question of the Day\" and \"National Geographic Geo Quiz\" for trivia; \"TuneIn Live\" to listen to live sporting events and news stations; \"Big Sky\" for hyper local weather updates; \"Sleep and Relaxation Sounds\" for listening to calming sounds; \"Sesame Street\" for children entertainment; and \"Fitbit\" for Fitbit users who want to check in on their health stats. In 2019, Apple, Google, Amazon, and Zigbee Alliance announced a partnership to make smart home products work together.'\n",
        "text_doc=nlp(raw_text)\n",
        "token_count=0\n",
        "\n",
        "for token in text_doc:\n",
        "    print(token.text)\n",
        "    token_count+=1"
      ],
      "execution_count": null,
      "outputs": []
    },
    {
      "cell_type": "code",
      "metadata": {
        "colab": {
          "base_uri": "https://localhost:8080/"
        },
        "id": "IKn3Hj2npbhx",
        "outputId": "6ebec4e8-94b9-4325-e438-cccffbaa022f"
      },
      "source": [
        "print('No of tokens originally',token_count)"
      ],
      "execution_count": 10,
      "outputs": [
        {
          "output_type": "stream",
          "text": [
            "No of tokens originally 708\n"
          ],
          "name": "stdout"
        }
      ]
    },
    {
      "cell_type": "code",
      "metadata": {
        "id": "txqxSo6EpkkU"
      },
      "source": [
        "# spaCy has an inbuilt list of stop words.\n",
        "# Accessing the built-in stop words in Spacy\n",
        "stopwords = spacy.lang.en.stop_words.STOP_WORDS\n",
        "list_stopwords=list(stopwords)\n",
        "count_stop = 0\n",
        "# printing a fraction of the list through indexing\n",
        "for word in list_stopwords[:500]:\n",
        "    #print(word)\n",
        "    count_stop+=1\n"
      ],
      "execution_count": 11,
      "outputs": []
    },
    {
      "cell_type": "code",
      "metadata": {
        "colab": {
          "base_uri": "https://localhost:8080/"
        },
        "id": "1H25jqT9H3TK",
        "outputId": "6a6ea6cd-f19b-40d1-aac0-6d382933bfc3"
      },
      "source": [
        "print(\"Number of stop words\", count_stop)"
      ],
      "execution_count": 12,
      "outputs": [
        {
          "output_type": "stream",
          "text": [
            "Number of stop words 326\n"
          ],
          "name": "stdout"
        }
      ]
    },
    {
      "cell_type": "code",
      "metadata": {
        "id": "RjodG8cAqPIE"
      },
      "source": [
        "# How to remove the stop words and punctuation ?\n",
        "\n",
        "# Raw text document\n",
        "raw_text= 'Amazon Alexa, also known simply as Alexa, is a virtual assistant AI technology developed by Amazon, first used in the Amazon Echo smart speakers developed by Amazon Lab126. It is capable of voice interaction, music playback, making to-do lists, setting alarms, streaming podcasts, playing audiobooks, and providing weather, traffic, sports, and other real-time information, such as news. Alexa can also control several smart devices using itself as a home automation system. Users are able to extend the Alexa capabilities by installing \"skills\" additional functionality developed by third-party vendors, in other settings more commonly called apps such as weather programs and audio features.Most devices with Alexa allow users to activate the device using a wake-word (such as Alexa or Amazon); other devices (such as the Amazon mobile app on iOS or Android and Amazon Dash Wand) require the user to push a button to activate Alexa listening mode, although, some phones also allow a user to say a command, such as \"Alexa\" or \"Alexa wake\". Currently, interaction and communication with Alexa are available only in English, German, French, Italian, Spanish, Portuguese, Japanese, and Hindi. In Canada, Alexa is available in English and French with the Quebec accent).[6][7]As of November 2018, Amazon had more than 10,000 employees working on Alexa and related products.[8] In January 2019, Amazons devices team announced that they had sold over 100 million Alexa-enabled devices.[9]In September 2019, Amazon launched many new devices achieving many records while competing with the worlds smart home industry. The new Echo Studio became the first smart speaker with 360 sound and Dolby sound. Other new devices included an Echo dot with a clock behind the fabric, a new third-generation Amazon Echo, Echo Show 8, a plug-in Echo device, Echo Flex, Alexa built-in wireless earphones, Echo buds, Alexa built-in spectacles, Echo frames, an Alexa built-in Ring, and Echo Loop.Alexa can perform a number of preset functions out-of-the-box such as set timers, share the current weather, create lists, access Wikipedia articles, and many more things. Users say a designated \"wake word\" (the default is simply \"Alexa\") to alert an Alexa-enabled device of an ensuing function command. Alexa listens for the command and performs the appropriate function, or skill, to answer a question or command. Alexas question answering ability is partly powered by the Wolfram Language. When questions are asked, Alexa converts sound waves into text which allows it to gather information from various sources. Behind the scenes, the data gathered is then parsed by Wolfram technology to generate suitable and accurate answers. Alexa-supported devices can stream music from the owners Amazon Music accounts and have built-in support for Pandora and Spotify accounts. Alexa can play music from streaming services such as Apple Music and Google Play Music from a phone or tablet.In addition to performing pre-set functions, Alexa can also perform additional functions through third-party skills that users can enable. Some of the most popular Alexa skills in 2018 included \"Question of the Day\" and \"National Geographic Geo Quiz\" for trivia; \"TuneIn Live\" to listen to live sporting events and news stations; \"Big Sky\" for hyper local weather updates; \"Sleep and Relaxation Sounds\" for listening to calming sounds; \"Sesame Street\" for children entertainment; and \"Fitbit\" for Fitbit users who want to check in on their health stats. In 2019, Apple, Google, Amazon, and Zigbee Alliance announced a partnership to make smart home products work together.'\n",
        "text_doc=nlp(raw_text)\n",
        "\n",
        "token_count_without_stopwords=0\n",
        "\n",
        "# Filtring out the stopwords\n",
        "filtered_text= [token for token in text_doc if not token.is_stop]   #is_stop is to identify the stop words\n",
        "\n",
        "# Counting the tokens after removal of stopwords\n",
        "for token in filtered_text:\n",
        "    print(token)\n",
        "    token_count_without_stopwords+=1\n"
      ],
      "execution_count": null,
      "outputs": []
    },
    {
      "cell_type": "code",
      "metadata": {
        "colab": {
          "base_uri": "https://localhost:8080/"
        },
        "id": "kkqb0TLDH7-1",
        "outputId": "29fee07c-1b3c-4811-9a00-70eca6074406"
      },
      "source": [
        "print(\"Number of tokens after removing stop words and punctuation\", token_count_without_stopwords)"
      ],
      "execution_count": 14,
      "outputs": [
        {
          "output_type": "stream",
          "text": [
            "Number of tokens after removing stop words and punctuation 488\n"
          ],
          "name": "stdout"
        }
      ]
    },
    {
      "cell_type": "code",
      "metadata": {
        "id": "5065Lbworcwt"
      },
      "source": [
        "# Removing punctuations\n",
        "filtered_text=[token for token in filtered_text if not token.is_punct]\n",
        "\n",
        "token_count_without_stop_and_punct=0\n",
        "\n",
        "# Counting the new no of tokens\n",
        "for token in filtered_text:\n",
        "    print(token)\n",
        "    token_count_without_stop_and_punct += 1\n",
        "\n"
      ],
      "execution_count": null,
      "outputs": []
    },
    {
      "cell_type": "code",
      "metadata": {
        "colab": {
          "base_uri": "https://localhost:8080/"
        },
        "id": "ePtLcTn25vkk",
        "outputId": "3f1f4257-af19-405f-a6bb-fd74c707e249"
      },
      "source": [
        "print('No of tokens after removing stopwords and punctuations', token_count_without_stop_and_punct)"
      ],
      "execution_count": 16,
      "outputs": [
        {
          "output_type": "stream",
          "text": [
            "No of tokens after removing stopwords and punctuations 361\n"
          ],
          "name": "stdout"
        }
      ]
    },
    {
      "cell_type": "markdown",
      "metadata": {
        "id": "iw1Jl_R1soLI"
      },
      "source": [
        "# Stemming - Stemming means reducing a word to its ‘root form’.\n",
        "\n",
        "NLTK Stemmers\n",
        "\n",
        "Interfaces used to remove morphological affixes from words, leaving\n",
        "only the word stem.  Stemming algorithms aim to remove those affixes\n",
        "required for eg. grammatical role, tense, derivational morphology\n",
        "leaving only the stem of the word.  This is a difficult problem due to\n",
        "irregular words (eg. common verbs in English), complicated\n",
        "morphological rules, and part-of-speech and sense ambiguities\n",
        "(eg. ``ceil-`` is not the stem of ``ceiling``).\n",
        "\n",
        "StemmerI defines a standard interface for stemmers."
      ]
    },
    {
      "cell_type": "code",
      "metadata": {
        "id": "BzYjPSZYsfe7"
      },
      "source": [
        "# Import stemmer and perform stemming on a list of words\n",
        "from nltk.stem import PorterStemmer\n",
        "ps = PorterStemmer()"
      ],
      "execution_count": 17,
      "outputs": []
    },
    {
      "cell_type": "code",
      "metadata": {
        "colab": {
          "base_uri": "https://localhost:8080/"
        },
        "id": "YRLL4QC756nK",
        "outputId": "ff133f94-a7ea-48d2-e44f-cb35a862548d"
      },
      "source": [
        "words = ['dance ','dances', 'dancing ','danced']\n",
        "\n",
        "for word in words:\n",
        "    print(word.ljust(8),'-------', ps.stem(word))"
      ],
      "execution_count": 18,
      "outputs": [
        {
          "output_type": "stream",
          "text": [
            "dance    ------- dance \n",
            "dances   ------- danc\n",
            "dancing  ------- dancing \n",
            "danced   ------- danc\n"
          ],
          "name": "stdout"
        }
      ]
    },
    {
      "cell_type": "markdown",
      "metadata": {
        "id": "SGNrP8WR6WnZ"
      },
      "source": [
        "You can observe that some words were reduced to the base stems ‘danc’\n",
        "\n",
        "But, the word ‘danc’ is not semantically correct. Stemming may give us root words that are not present in the dictionary. How to overcome this ?\n",
        "\n",
        "That’s where Lemmatization comes to rescue."
      ]
    },
    {
      "cell_type": "markdown",
      "metadata": {
        "id": "cOilYRR86gP1"
      },
      "source": [
        "# Lemmatization\n",
        "It is similar to stemming, except that the root word is correct and always meaningful."
      ]
    },
    {
      "cell_type": "markdown",
      "metadata": {
        "id": "1umIsplp7kXH"
      },
      "source": [
        "### Lemmatization through NLTK\n",
        "\n",
        "The most commonly used Lemmatization technique is through WordNetLemmatizer from nltk library.\n",
        "\n"
      ]
    },
    {
      "cell_type": "code",
      "metadata": {
        "id": "MkGMT2fN6AO0",
        "colab": {
          "base_uri": "https://localhost:8080/"
        },
        "outputId": "41544870-1d21-4360-c438-890dd667274a"
      },
      "source": [
        "# download wordnet\n",
        "nltk.download('wordnet')\n",
        "\n",
        "# Importing the lemmatizer\n",
        "from nltk.stem import WordNetLemmatizer\n",
        "\n",
        "# Initialize the Wordnet Lemmatizer\n",
        "lemmatizer = WordNetLemmatizer()\n",
        "\n",
        "# Lemmatizing a single word\n",
        "print(lemmatizer.lemmatize('dances'))\n",
        "print(lemmatizer.lemmatize('danced'))\n",
        "print(lemmatizer.lemmatize('abaci'))\n",
        "print(lemmatizer.lemmatize('churches'))\n"
      ],
      "execution_count": 19,
      "outputs": [
        {
          "output_type": "stream",
          "text": [
            "[nltk_data] Downloading package wordnet to /root/nltk_data...\n",
            "[nltk_data]   Unzipping corpora/wordnet.zip.\n",
            "dance\n",
            "danced\n",
            "abacus\n",
            "church\n"
          ],
          "name": "stdout"
        }
      ]
    },
    {
      "cell_type": "code",
      "metadata": {
        "colab": {
          "base_uri": "https://localhost:8080/"
        },
        "id": "V9Ni9viQ8Rki",
        "outputId": "b56a4f8f-76f5-43c5-9107-9703a6871a69"
      },
      "source": [
        "# Tokenize\n",
        "my_text='The model AIM has a performce accuracy of 87% and it is redady to be released. The release is going to be held on day 12.3.2000 and  it has amzing performance recod.Model AIM2.0 has accuracy of 89% and better performing expectations are there.le us see how it performs'\n",
        "\n",
        "words=nltk.word_tokenize(my_text)\n",
        "\n",
        "print(words)"
      ],
      "execution_count": 20,
      "outputs": [
        {
          "output_type": "stream",
          "text": [
            "['The', 'model', 'AIM', 'has', 'a', 'performce', 'accuracy', 'of', '87', '%', 'and', 'it', 'is', 'redady', 'to', 'be', 'released', '.', 'The', 'release', 'is', 'going', 'to', 'be', 'held', 'on', 'day', '12.3.2000', 'and', 'it', 'has', 'amzing', 'performance', 'recod.Model', 'AIM2.0', 'has', 'accuracy', 'of', '89', '%', 'and', 'better', 'performing', 'expectations', 'are', 'there.le', 'us', 'see', 'how', 'it', 'performs']\n"
          ],
          "name": "stdout"
        }
      ]
    },
    {
      "cell_type": "code",
      "metadata": {
        "colab": {
          "base_uri": "https://localhost:8080/"
        },
        "id": "ixUZ9hRw_WSv",
        "outputId": "68e9483b-a523-4a9e-8396-de557aa15576"
      },
      "source": [
        "lemmatized_output = ' '.join([lemmatizer.lemmatize(w) for w in words])\n",
        "print( lemmatized_output)"
      ],
      "execution_count": 21,
      "outputs": [
        {
          "output_type": "stream",
          "text": [
            "The model AIM ha a performce accuracy of 87 % and it is redady to be released . The release is going to be held on day 12.3.2000 and it ha amzing performance recod.Model AIM2.0 ha accuracy of 89 % and better performing expectation are there.le u see how it performs\n"
          ],
          "name": "stdout"
        }
      ]
    },
    {
      "cell_type": "markdown",
      "metadata": {
        "id": "AAeByfwXATmc"
      },
      "source": [
        "## Lemmatization using spaCy\n",
        "\n",
        "In spaCy , the token object has an attribute .lemma_ which allows you to access the lemmatized version of that token."
      ]
    },
    {
      "cell_type": "code",
      "metadata": {
        "colab": {
          "base_uri": "https://localhost:8080/"
        },
        "id": "c4s87D3W_32S",
        "outputId": "7b585719-591d-42ab-da17-0be16148cfbe"
      },
      "source": [
        "# Lemmatization using spaCy\n",
        "\n",
        "text='dance dances dancing danced'\n",
        "text_doc=nlp(text)\n",
        "\n",
        "for token in text_doc:\n",
        "    print(token.text,'-------',token.lemma_)"
      ],
      "execution_count": 22,
      "outputs": [
        {
          "output_type": "stream",
          "text": [
            "dance ------- dance\n",
            "dances ------- dance\n",
            "dancing ------- dance\n",
            "danced ------- dance\n"
          ],
          "name": "stdout"
        }
      ]
    },
    {
      "cell_type": "code",
      "metadata": {
        "colab": {
          "base_uri": "https://localhost:8080/",
          "height": 35
        },
        "id": "a8VkPtFVAmbD",
        "outputId": "59426dc9-809a-4568-a21a-9506c3bdd6b3"
      },
      "source": [
        "# lemmatizing a text document using spacy\n",
        "\n",
        "text=' I had calculated it wrong.I am calculating the bill again.'\n",
        "text_doc=nlp(text)\n",
        "\n",
        "filter_text=[token for token in text_doc if not token.is_stop]\n",
        "filter_text=[token for token in text_doc if not token.is_punct]\n",
        "\n",
        "\n",
        "\" \".join([token.lemma_ for token in filter_text])"
      ],
      "execution_count": 23,
      "outputs": [
        {
          "output_type": "execute_result",
          "data": {
            "application/vnd.google.colaboratory.intrinsic+json": {
              "type": "string"
            },
            "text/plain": [
              "'  -PRON- have calculate -PRON- wrong -PRON- be calculate the bill again'"
            ]
          },
          "metadata": {
            "tags": []
          },
          "execution_count": 23
        }
      ]
    },
    {
      "cell_type": "markdown",
      "metadata": {
        "id": "juHxZWFzBF7d"
      },
      "source": [
        "You can see that the words are lemmatized. Also, spacy prints PRON before every pronoun in the sentence"
      ]
    },
    {
      "cell_type": "markdown",
      "metadata": {
        "id": "GZ356J-MBKMt"
      },
      "source": [
        "# Word Frequency Analysis\n",
        "\n",
        "Once the stop words are removed and lemmatization is done ,the tokens we have can be analysed further for information about the text data.\n",
        "\n",
        "The words which occur more frequently in the text often have the key to the core of the text. So, we shall try to store all tokens with their frequencies for the same purpose.\n",
        "\n",
        "You can use Counter to get the frequency of each token as shown below. If you provide a list to the Counter it returns a dictionary of all elements with their frequency as values."
      ]
    },
    {
      "cell_type": "code",
      "metadata": {
        "colab": {
          "base_uri": "https://localhost:8080/"
        },
        "id": "TYhQzH3KA8-b",
        "outputId": "bd941e6f-e7de-4402-de15-e6c8be3da379"
      },
      "source": [
        "# import Counter\n",
        "import collections\n",
        "from collections import Counter\n",
        "\n",
        "# creating nlp object using spaCy\n",
        "\n",
        "data='It is my birthday today. I could not have a birthday party. I felt sad'\n",
        "data_doc = nlp(data)\n",
        "\n",
        "# creating a list of tokens after preprocessing.\n",
        "list_of_tokens = [token.text for token in data_doc if not token.is_stop and not token.is_punct]\n",
        "\n",
        "# passing th list of tokens to Counter\n",
        "token_frequency = Counter(list_of_tokens)\n",
        "print(type(token_frequency))\n",
        "print(token_frequency)"
      ],
      "execution_count": 24,
      "outputs": [
        {
          "output_type": "stream",
          "text": [
            "<class 'collections.Counter'>\n",
            "Counter({'birthday': 2, 'today': 1, 'party': 1, 'felt': 1, 'sad': 1})\n"
          ],
          "name": "stdout"
        }
      ]
    },
    {
      "cell_type": "code",
      "metadata": {
        "colab": {
          "base_uri": "https://localhost:8080/"
        },
        "id": "X6W81YfRLrYa",
        "outputId": "59dbe28b-0346-45bd-8f6e-66bd5d2fbb34"
      },
      "source": [
        "# Word Frequency\n",
        "longtext=\"Robotics  an interdisciplinary field that integrates computer science and engineering.Robotics involves design, construction, operation, and use of robots. The goal of robotics is to design machines that can help and assist humans. Robotics integrates fields of mechanical engineering, electrical engineering, information engineering, mechatronics, electronics, bioengineering, computer engineering, control engineering, software engineering, mathematics, among others.Robotics develops machines that can substitute for humans and replicate human actions. Robots can be used in many situations and for many purposes, but today many are used in dangerous environments (including inspection of radioactive materials, bomb detection and deactivation), manufacturing processes, or where humans cannot survive (e.g. in space, underwater, in high heat, and clean up and containment of hazardous materials and radiation). Robots can take on any form but some are made to resemble humans in appearance. This is said to help in the acceptance of a robot in certain replicative behaviors usually performed by people. Such robots attempt to replicate walking, lifting, speech, cognition, or any other human activity. Many of today's robots are inspired by nature, contributing to the field of bio-inspired robotics.Certain robots require user input to operate while other robots function autonomously. The concept of creating robots that can operate autonomously dates back to classical times, but research into the functionality and potential uses of robots did not grow substantially until the 20th century. Throughout history, it has been frequently assumed by various scholars, inventors, engineers, and technicians that robots will one day be able to mimic human behavior and manage tasks in a human-like fashion. Today, robotics is a rapidly growing field, as technological advances continue; researching, designing, and building new robots serve various practical purposes, whether domestically, commercially, or militarily. Many robots are built to do jobs that are hazardous to people, such as defusing bombs, finding survivors in unstable ruins, and exploring mines and shipwrecks. Robotics is also used in STEM (science, technology, engineering, and mathematics) as a teaching aid\"\n",
        "long_text=nlp(longtext)\n",
        "\n",
        "\n",
        "list_of_tokens=[token.text for token in long_text if not token.is_stop and not token.is_punct]\n",
        "token_frequency=Counter(list_of_tokens)\n",
        "print(token_frequency)"
      ],
      "execution_count": 25,
      "outputs": [
        {
          "output_type": "stream",
          "text": [
            "Counter({'robots': 10, 'engineering': 8, 'Robotics': 5, 'humans': 4, 'human': 4, 'field': 3, 'robotics': 3, 'integrates': 2, 'computer': 2, 'science': 2, 'design': 2, 'machines': 2, 'help': 2, 'mathematics': 2, 'replicate': 2, 'Robots': 2, 'purposes': 2, 'today': 2, 'materials': 2, 'hazardous': 2, 'people': 2, 'inspired': 2, 'operate': 2, 'autonomously': 2, ' ': 1, 'interdisciplinary': 1, 'involves': 1, 'construction': 1, 'operation': 1, 'use': 1, 'goal': 1, 'assist': 1, 'fields': 1, 'mechanical': 1, 'electrical': 1, 'information': 1, 'mechatronics': 1, 'electronics': 1, 'bioengineering': 1, 'control': 1, 'software': 1, 'develops': 1, 'substitute': 1, 'actions': 1, 'situations': 1, 'dangerous': 1, 'environments': 1, 'including': 1, 'inspection': 1, 'radioactive': 1, 'bomb': 1, 'detection': 1, 'deactivation': 1, 'manufacturing': 1, 'processes': 1, 'survive': 1, 'e.g.': 1, 'space': 1, 'underwater': 1, 'high': 1, 'heat': 1, 'clean': 1, 'containment': 1, 'radiation': 1, 'form': 1, 'resemble': 1, 'appearance': 1, 'said': 1, 'acceptance': 1, 'robot': 1, 'certain': 1, 'replicative': 1, 'behaviors': 1, 'usually': 1, 'performed': 1, 'attempt': 1, 'walking': 1, 'lifting': 1, 'speech': 1, 'cognition': 1, 'activity': 1, 'nature': 1, 'contributing': 1, 'bio': 1, 'Certain': 1, 'require': 1, 'user': 1, 'input': 1, 'function': 1, 'concept': 1, 'creating': 1, 'dates': 1, 'classical': 1, 'times': 1, 'research': 1, 'functionality': 1, 'potential': 1, 'uses': 1, 'grow': 1, 'substantially': 1, '20th': 1, 'century': 1, 'history': 1, 'frequently': 1, 'assumed': 1, 'scholars': 1, 'inventors': 1, 'engineers': 1, 'technicians': 1, 'day': 1, 'able': 1, 'mimic': 1, 'behavior': 1, 'manage': 1, 'tasks': 1, 'like': 1, 'fashion': 1, 'Today': 1, 'rapidly': 1, 'growing': 1, 'technological': 1, 'advances': 1, 'continue': 1, 'researching': 1, 'designing': 1, 'building': 1, 'new': 1, 'serve': 1, 'practical': 1, 'domestically': 1, 'commercially': 1, 'militarily': 1, 'built': 1, 'jobs': 1, 'defusing': 1, 'bombs': 1, 'finding': 1, 'survivors': 1, 'unstable': 1, 'ruins': 1, 'exploring': 1, 'mines': 1, 'shipwrecks': 1, 'STEM': 1, 'technology': 1, 'teaching': 1, 'aid': 1})\n"
          ],
          "name": "stdout"
        }
      ]
    },
    {
      "cell_type": "markdown",
      "metadata": {
        "id": "lPCgV87tNygU"
      },
      "source": [
        "As the length or size of text data increases, it is difficult to analyse frequency of all tokens. so, you can print the **n most common tokens** using most_common function of **Counter**."
      ]
    },
    {
      "cell_type": "code",
      "metadata": {
        "colab": {
          "base_uri": "https://localhost:8080/"
        },
        "id": "BmEtWrx9MEHR",
        "outputId": "0565a92b-3ab0-45d2-cf5a-f9c00fcd65c7"
      },
      "source": [
        "#printing 6 most coomon words using most_common() method of Counter\n",
        "\n",
        "most_frequent_tokens=token_frequency.most_common(6)\n",
        "print(most_frequent_tokens)"
      ],
      "execution_count": 26,
      "outputs": [
        {
          "output_type": "stream",
          "text": [
            "[('robots', 10), ('engineering', 8), ('Robotics', 5), ('humans', 4), ('human', 4), ('field', 3)]\n"
          ],
          "name": "stdout"
        }
      ]
    },
    {
      "cell_type": "markdown",
      "metadata": {
        "id": "Qz_N3nzgOBko"
      },
      "source": [
        "# Methods to understand the text data"
      ]
    },
    {
      "cell_type": "markdown",
      "metadata": {
        "id": "h4_t6QvbOJhc"
      },
      "source": [
        "## Part of Speech Tagging\n",
        "\n",
        "Each word has it’s own role in a sentence. For example,’Geeta is dancing’. Geeta is the person or ‘Noun’ and dancing is the action performed by her, so it is a ‘Verb’. Likewise,each word can be classified. This is referred as POS or Part of Speech Tagging.\n",
        "\n",
        "1.   Noun\n",
        "2.   Veb\n",
        "3.   Adjective\n",
        "4.   Pronoun\n",
        "5.   Adverb\n",
        "6.   Preposition\n",
        "7.   Conjunction\n",
        "8.   Interjection\n",
        "\n",
        "and so on ..."
      ]
    },
    {
      "cell_type": "markdown",
      "metadata": {
        "id": "PqHOpgkTZwTC"
      },
      "source": [
        "### POS can be implemented using spaCy\n",
        "\n",
        "In **spaCy**, the POS tags are present in the attribute of Token object. You can access the POS tag of particular token through the          **token.pos_** attribute."
      ]
    },
    {
      "cell_type": "code",
      "metadata": {
        "id": "6Oz2oMGCMS2n",
        "colab": {
          "base_uri": "https://localhost:8080/"
        },
        "outputId": "8dbe7493-fe27-4466-bb08-f292198237cf"
      },
      "source": [
        "text='Nitika was screaming out loud as usual Her roommate kept ignoring her '\n",
        "text_doc=nlp(text)\n",
        "for token in text_doc:\n",
        "    #print(type(token))\n",
        "    print(token.text.ljust(10),'-----',token.pos_)"
      ],
      "execution_count": 27,
      "outputs": [
        {
          "output_type": "stream",
          "text": [
            "Nitika     ----- PROPN\n",
            "was        ----- AUX\n",
            "screaming  ----- VERB\n",
            "out        ----- ADP\n",
            "loud       ----- ADV\n",
            "as         ----- SCONJ\n",
            "usual      ----- ADJ\n",
            "Her        ----- DET\n",
            "roommate   ----- NOUN\n",
            "kept       ----- VERB\n",
            "ignoring   ----- VERB\n",
            "her        ----- PRON\n"
          ],
          "name": "stdout"
        }
      ]
    },
    {
      "cell_type": "code",
      "metadata": {
        "colab": {
          "base_uri": "https://localhost:8080/"
        },
        "id": "nFmaFCNjaylB",
        "outputId": "04cf0ab9-4cba-42e2-aba1-2013d83c7aa6"
      },
      "source": [
        "pos_tags = [ token.pos_ for token in text_doc]\n",
        "pos_tags"
      ],
      "execution_count": 28,
      "outputs": [
        {
          "output_type": "execute_result",
          "data": {
            "text/plain": [
              "['PROPN',\n",
              " 'AUX',\n",
              " 'VERB',\n",
              " 'ADP',\n",
              " 'ADV',\n",
              " 'SCONJ',\n",
              " 'ADJ',\n",
              " 'DET',\n",
              " 'NOUN',\n",
              " 'VERB',\n",
              " 'VERB',\n",
              " 'PRON']"
            ]
          },
          "metadata": {
            "tags": []
          },
          "execution_count": 28
        }
      ]
    },
    {
      "cell_type": "code",
      "metadata": {
        "colab": {
          "base_uri": "https://localhost:8080/"
        },
        "id": "6HvT3bt9hOWq",
        "outputId": "aa483f88-9f70-4340-a4b7-9bdaec16194f"
      },
      "source": [
        "# Load the Drive helper and mount\n",
        "from google.colab import drive \n",
        "# This will prompt for authorization.\n",
        "drive.mount('/content/gdrive')"
      ],
      "execution_count": 29,
      "outputs": [
        {
          "output_type": "stream",
          "text": [
            "Mounted at /content/gdrive\n"
          ],
          "name": "stdout"
        }
      ]
    },
    {
      "cell_type": "code",
      "metadata": {
        "colab": {
          "base_uri": "https://localhost:8080/"
        },
        "id": "sYdS08mfiWGj",
        "outputId": "6019b77d-0fae-42c0-8f7b-e6e705d318c4"
      },
      "source": [
        "%cd /content/gdrive/MyDrive/NLP_Practical_Examples"
      ],
      "execution_count": 30,
      "outputs": [
        {
          "output_type": "stream",
          "text": [
            "/content/gdrive/MyDrive/NLP_Practical_Examples\n"
          ],
          "name": "stdout"
        }
      ]
    },
    {
      "cell_type": "code",
      "metadata": {
        "id": "i0lP-Kz1bDOl",
        "colab": {
          "base_uri": "https://localhost:8080/",
          "height": 108
        },
        "outputId": "df38fe00-408f-4f12-e55b-fb1966a5887c"
      },
      "source": [
        "# opening the text file and reading it into a string\n",
        "\n",
        "with open('robotics.txt') as file:\n",
        "    robot_text=file.read()\n",
        "\n",
        "robot_text"
      ],
      "execution_count": 31,
      "outputs": [
        {
          "output_type": "execute_result",
          "data": {
            "application/vnd.google.colaboratory.intrinsic+json": {
              "type": "string"
            },
            "text/plain": [
              "\"Robotics is an interdisciplinary field that integrates computer science and engineering.Robotics involves design, construction, operation, and use of robots. The goal of robotics is to design machines that can help and assist humans. Robotics integrates fields of mechanical engineering, electrical engineering, information engineering, mechatronics, electronics, bioengineering, computer engineering, control engineering, software engineering, mathematics, among others.\\nRobotics develops machines that can substitute for humans and replicate human actions. Robots can be used in many situations and for many purposes, but today many are used in dangerous environments (including inspection of radioactive materials, bomb detection and deactivation), manufacturing processes, or where humans cannot survive (e.g. in space, underwater, in high heat, and clean up and containment of hazardous materials and radiation). Robots can take on any form but some are made to resemble humans in appearance. This is said to help in the acceptance of a robot in certain replicative behaviors usually performed by people. Such robots attempt to replicate walking, lifting, speech, cognition, or any other human activity. Many of today's robots are inspired by nature, contributing to the field of bio-inspired robotics.\\nCertain robots require user input to operate while other robots function autonomously. The concept of creating robots that can operate autonomously dates back to classical times, but research into the functionality and potential uses of robots did not grow substantially until the 20th century. Throughout history, it has been frequently assumed by various scholars, inventors, engineers, and technicians that robots will one day be able to mimic human behavior and manage tasks in a human-like fashion. Today, robotics is a rapidly growing field, as technological advances continue; researching, designing, and building new robots serve various practical purposes, whether domestically, commercially, or militarily. Many robots are built to do jobs that are hazardous to people, such as defusing bombs, finding survivors in unstable ruins, and exploring mines and shipwrecks. Robotics is also used in STEM (science, technology, engineering, and mathematics) as a teaching aid.\""
            ]
          },
          "metadata": {
            "tags": []
          },
          "execution_count": 31
        }
      ]
    },
    {
      "cell_type": "code",
      "metadata": {
        "id": "shGB9voSedin",
        "colab": {
          "base_uri": "https://localhost:8080/"
        },
        "outputId": "c55fb819-dc3e-44cc-af9e-883a89dd832f"
      },
      "source": [
        "# Preprocessing the text\n",
        "robot_doc=nlp(robot_text)\n",
        "print(type(robot_doc))\n",
        "\n",
        "robot_doc_text = [token.text for token in robot_doc if not token.is_stop and not token.is_punct and not token.is_space and not token.is_digit]\n",
        "print(type(robot_doc_text))\n",
        "print(robot_doc_text)\n",
        "\n",
        "robot_doc_token = [token for token in robot_doc if not token.is_stop and not token.is_punct ]\n",
        "print(type(robot_doc_token))\n",
        "print(robot_doc_token)\n"
      ],
      "execution_count": 32,
      "outputs": [
        {
          "output_type": "stream",
          "text": [
            "<class 'spacy.tokens.doc.Doc'>\n",
            "<class 'list'>\n",
            "['Robotics', 'interdisciplinary', 'field', 'integrates', 'computer', 'science', 'engineering', 'Robotics', 'involves', 'design', 'construction', 'operation', 'use', 'robots', 'goal', 'robotics', 'design', 'machines', 'help', 'assist', 'humans', 'Robotics', 'integrates', 'fields', 'mechanical', 'engineering', 'electrical', 'engineering', 'information', 'engineering', 'mechatronics', 'electronics', 'bioengineering', 'computer', 'engineering', 'control', 'engineering', 'software', 'engineering', 'mathematics', 'Robotics', 'develops', 'machines', 'substitute', 'humans', 'replicate', 'human', 'actions', 'Robots', 'situations', 'purposes', 'today', 'dangerous', 'environments', 'including', 'inspection', 'radioactive', 'materials', 'bomb', 'detection', 'deactivation', 'manufacturing', 'processes', 'humans', 'survive', 'e.g.', 'space', 'underwater', 'high', 'heat', 'clean', 'containment', 'hazardous', 'materials', 'radiation', 'Robots', 'form', 'resemble', 'humans', 'appearance', 'said', 'help', 'acceptance', 'robot', 'certain', 'replicative', 'behaviors', 'usually', 'performed', 'people', 'robots', 'attempt', 'replicate', 'walking', 'lifting', 'speech', 'cognition', 'human', 'activity', 'today', 'robots', 'inspired', 'nature', 'contributing', 'field', 'bio', 'inspired', 'robotics', 'Certain', 'robots', 'require', 'user', 'input', 'operate', 'robots', 'function', 'autonomously', 'concept', 'creating', 'robots', 'operate', 'autonomously', 'dates', 'classical', 'times', 'research', 'functionality', 'potential', 'uses', 'robots', 'grow', 'substantially', '20th', 'century', 'history', 'frequently', 'assumed', 'scholars', 'inventors', 'engineers', 'technicians', 'robots', 'day', 'able', 'mimic', 'human', 'behavior', 'manage', 'tasks', 'human', 'like', 'fashion', 'Today', 'robotics', 'rapidly', 'growing', 'field', 'technological', 'advances', 'continue', 'researching', 'designing', 'building', 'new', 'robots', 'serve', 'practical', 'purposes', 'domestically', 'commercially', 'militarily', 'robots', 'built', 'jobs', 'hazardous', 'people', 'defusing', 'bombs', 'finding', 'survivors', 'unstable', 'ruins', 'exploring', 'mines', 'shipwrecks', 'Robotics', 'STEM', 'science', 'technology', 'engineering', 'mathematics', 'teaching', 'aid']\n",
            "<class 'list'>\n",
            "[Robotics, interdisciplinary, field, integrates, computer, science, engineering, Robotics, involves, design, construction, operation, use, robots, goal, robotics, design, machines, help, assist, humans, Robotics, integrates, fields, mechanical, engineering, electrical, engineering, information, engineering, mechatronics, electronics, bioengineering, computer, engineering, control, engineering, software, engineering, mathematics, \n",
            ", Robotics, develops, machines, substitute, humans, replicate, human, actions, Robots, situations, purposes, today, dangerous, environments, including, inspection, radioactive, materials, bomb, detection, deactivation, manufacturing, processes, humans, survive, e.g., space, underwater, high, heat, clean, containment, hazardous, materials, radiation, Robots, form, resemble, humans, appearance, said, help, acceptance, robot, certain, replicative, behaviors, usually, performed, people, robots, attempt, replicate, walking, lifting, speech, cognition, human, activity, today, robots, inspired, nature, contributing, field, bio, inspired, robotics, \n",
            ", Certain, robots, require, user, input, operate, robots, function, autonomously, concept, creating, robots, operate, autonomously, dates, classical, times, research, functionality, potential, uses, robots, grow, substantially, 20th, century, history, frequently, assumed, scholars, inventors, engineers, technicians, robots, day, able, mimic, human, behavior, manage, tasks, human, like, fashion, Today, robotics, rapidly, growing, field, technological, advances, continue, researching, designing, building, new, robots, serve, practical, purposes, domestically, commercially, militarily, robots, built, jobs, hazardous, people, defusing, bombs, finding, survivors, unstable, ruins, exploring, mines, shipwrecks, Robotics, STEM, science, technology, engineering, mathematics, teaching, aid]\n"
          ],
          "name": "stdout"
        }
      ]
    },
    {
      "cell_type": "code",
      "metadata": {
        "id": "9klz4v37iipj",
        "colab": {
          "base_uri": "https://localhost:8080/"
        },
        "outputId": "ed2d6279-027e-4c8e-e09f-6ef79ff0b052"
      },
      "source": [
        "robot_token_frequency=Counter(robot_doc_text)\n",
        "print(robot_token_frequency)"
      ],
      "execution_count": 33,
      "outputs": [
        {
          "output_type": "stream",
          "text": [
            "Counter({'robots': 10, 'engineering': 8, 'Robotics': 5, 'humans': 4, 'human': 4, 'field': 3, 'robotics': 3, 'integrates': 2, 'computer': 2, 'science': 2, 'design': 2, 'machines': 2, 'help': 2, 'mathematics': 2, 'replicate': 2, 'Robots': 2, 'purposes': 2, 'today': 2, 'materials': 2, 'hazardous': 2, 'people': 2, 'inspired': 2, 'operate': 2, 'autonomously': 2, 'interdisciplinary': 1, 'involves': 1, 'construction': 1, 'operation': 1, 'use': 1, 'goal': 1, 'assist': 1, 'fields': 1, 'mechanical': 1, 'electrical': 1, 'information': 1, 'mechatronics': 1, 'electronics': 1, 'bioengineering': 1, 'control': 1, 'software': 1, 'develops': 1, 'substitute': 1, 'actions': 1, 'situations': 1, 'dangerous': 1, 'environments': 1, 'including': 1, 'inspection': 1, 'radioactive': 1, 'bomb': 1, 'detection': 1, 'deactivation': 1, 'manufacturing': 1, 'processes': 1, 'survive': 1, 'e.g.': 1, 'space': 1, 'underwater': 1, 'high': 1, 'heat': 1, 'clean': 1, 'containment': 1, 'radiation': 1, 'form': 1, 'resemble': 1, 'appearance': 1, 'said': 1, 'acceptance': 1, 'robot': 1, 'certain': 1, 'replicative': 1, 'behaviors': 1, 'usually': 1, 'performed': 1, 'attempt': 1, 'walking': 1, 'lifting': 1, 'speech': 1, 'cognition': 1, 'activity': 1, 'nature': 1, 'contributing': 1, 'bio': 1, 'Certain': 1, 'require': 1, 'user': 1, 'input': 1, 'function': 1, 'concept': 1, 'creating': 1, 'dates': 1, 'classical': 1, 'times': 1, 'research': 1, 'functionality': 1, 'potential': 1, 'uses': 1, 'grow': 1, 'substantially': 1, '20th': 1, 'century': 1, 'history': 1, 'frequently': 1, 'assumed': 1, 'scholars': 1, 'inventors': 1, 'engineers': 1, 'technicians': 1, 'day': 1, 'able': 1, 'mimic': 1, 'behavior': 1, 'manage': 1, 'tasks': 1, 'like': 1, 'fashion': 1, 'Today': 1, 'rapidly': 1, 'growing': 1, 'technological': 1, 'advances': 1, 'continue': 1, 'researching': 1, 'designing': 1, 'building': 1, 'new': 1, 'serve': 1, 'practical': 1, 'domestically': 1, 'commercially': 1, 'militarily': 1, 'built': 1, 'jobs': 1, 'defusing': 1, 'bombs': 1, 'finding': 1, 'survivors': 1, 'unstable': 1, 'ruins': 1, 'exploring': 1, 'mines': 1, 'shipwrecks': 1, 'STEM': 1, 'technology': 1, 'teaching': 1, 'aid': 1})\n"
          ],
          "name": "stdout"
        }
      ]
    },
    {
      "cell_type": "code",
      "metadata": {
        "id": "usEKba9VjJCn",
        "colab": {
          "base_uri": "https://localhost:8080/"
        },
        "outputId": "c518d379-cddc-468e-90ec-0368b39372d7"
      },
      "source": [
        "#printing 6 most coomon words using most_common() method of Counter\n",
        "most_frequent_robot_tokens=robot_token_frequency.most_common(10)\n",
        "print(most_frequent_robot_tokens)"
      ],
      "execution_count": 34,
      "outputs": [
        {
          "output_type": "stream",
          "text": [
            "[('robots', 10), ('engineering', 8), ('Robotics', 5), ('humans', 4), ('human', 4), ('field', 3), ('robotics', 3), ('integrates', 2), ('computer', 2), ('science', 2)]\n"
          ],
          "name": "stdout"
        }
      ]
    },
    {
      "cell_type": "code",
      "metadata": {
        "id": "_AuT8uJtkHc8",
        "colab": {
          "base_uri": "https://localhost:8080/"
        },
        "outputId": "a668463e-3949-40bd-80f8-0fdc20abfa65"
      },
      "source": [
        "# creating a dictionary with parts of speech present in the doc\n",
        "all_tags = {token.pos:token.pos_ for token in robot_doc_token}\n",
        "print(all_tags)"
      ],
      "execution_count": 35,
      "outputs": [
        {
          "output_type": "stream",
          "text": [
            "{92: 'NOUN', 84: 'ADJ', 100: 'VERB', 103: 'SPACE', 96: 'PROPN', 86: 'ADV'}\n"
          ],
          "name": "stdout"
        }
      ]
    },
    {
      "cell_type": "markdown",
      "metadata": {
        "id": "H2pyS_0S4M8t"
      },
      "source": [
        "Categorize the tokens depending on the POS tags. Below example demonstrates how to print all the NOUNS in robot_doc"
      ]
    },
    {
      "cell_type": "code",
      "metadata": {
        "id": "Anf_5jWC0LOW",
        "colab": {
          "base_uri": "https://localhost:8080/"
        },
        "outputId": "630ff5ea-fa19-43c8-8ede-77faf0fc5243"
      },
      "source": [
        "# creating list to store nouns and verbs\n",
        "nouns=[]\n",
        "verbs=[]\n",
        "\n",
        "# appending tokens to the list according POS category\n",
        "for token in robot_doc:\n",
        "    if token.pos_ =='NOUN':\n",
        "        nouns.append(token)\n",
        "    if token.pos_ =='VERB':\n",
        "        verbs.append(token)\n",
        "\n",
        "print('List of Nouns in the text :\\n',nouns)\n",
        "print('\\n')\n",
        "print('List of verbs in the text :\\n',verbs)"
      ],
      "execution_count": 40,
      "outputs": [
        {
          "output_type": "stream",
          "text": [
            "List of Nouns in the text :\n",
            " [Robotics, field, computer, science, engineering, Robotics, design, construction, operation, use, robots, goal, robotics, machines, humans, Robotics, fields, engineering, engineering, information, engineering, mechatronics, electronics, bioengineering, computer, engineering, control, engineering, software, engineering, mathematics, others, machines, humans, actions, Robots, situations, purposes, today, environments, inspection, materials, bomb, detection, deactivation, manufacturing, processes, humans, space, underwater, heat, containment, materials, radiation, Robots, form, humans, appearance, acceptance, robot, behaviors, people, robots, lifting, speech, cognition, activity, today, robots, nature, field, bio, robotics, robots, user, input, robots, concept, robots, times, research, functionality, uses, robots, century, history, scholars, inventors, engineers, technicians, day, behavior, tasks, human, fashion, Today, robotics, field, advances, designing, robots, purposes, robots, jobs, people, bombs, survivors, ruins, mines, shipwrecks, Robotics, science, technology, engineering, mathematics, teaching, aid]\n",
            "\n",
            "\n",
            "List of verbs in the text :\n",
            " [integrates, involves, design, can, help, assist, integrates, develops, can, substitute, replicate, can, used, used, including, can, survive, clean, can, take, made, resemble, said, help, performed, attempt, replicate, walking, inspired, contributing, inspired, require, operate, function, creating, can, operate, dates, grow, assumed, robots, will, mimic, manage, growing, continue, researching, building, serve, built, defusing, finding, exploring, used]\n"
          ],
          "name": "stdout"
        }
      ]
    },
    {
      "cell_type": "markdown",
      "metadata": {
        "id": "7_SB_N9L7Wfx"
      },
      "source": [
        "**How to remove token of certain POS categories ( 'X' , 'SCONJ') ?**"
      ]
    },
    {
      "cell_type": "code",
      "metadata": {
        "id": "H4Pnkbzn7Vxw",
        "colab": {
          "base_uri": "https://localhost:8080/"
        },
        "outputId": "5585f80d-7be7-4ba6-ac28-66be5e759187"
      },
      "source": [
        "# Storing the junk POS tags  \n",
        "junk_pos=['X','SCONJ']\n",
        "\n",
        "# Function to check if the token falls in the JUNK POS category.\n",
        "def remove_pos(word):\n",
        "    flag=False\n",
        "    if word.pos_ in junk_pos:\n",
        "        flag=True\n",
        "    return flag\n",
        "\n",
        "# Creating a new doc without the un-required tokens\n",
        "revised_robot_doc=[token for token in robot_doc if remove_pos(token)==False]\n",
        "\n",
        "# Printing POS tags present in the new document.                   \n",
        "all_tags = {token.pos: token.pos_ for token in revised_robot_doc if not token.is_stop and not token.is_punct and not token.is_space}\n",
        "print(all_tags) "
      ],
      "execution_count": 37,
      "outputs": [
        {
          "output_type": "stream",
          "text": [
            "{92: 'NOUN', 84: 'ADJ', 100: 'VERB', 96: 'PROPN', 86: 'ADV'}\n"
          ],
          "name": "stdout"
        }
      ]
    },
    {
      "cell_type": "code",
      "metadata": {
        "id": "BNOUAsBH4XBW"
      },
      "source": [
        "# Using displacy function\n",
        "from spacy import displacy\n",
        "with open('robotics.txt') as file:\n",
        "    text=file.read()\n",
        "    doc=nlp(text)\n",
        "    displacy.render(doc,style='dep',jupyter=True)"
      ],
      "execution_count": null,
      "outputs": []
    },
    {
      "cell_type": "markdown",
      "metadata": {
        "id": "pTBSwulLDwfV"
      },
      "source": [
        "## Dependency Parsing\n",
        "\n",
        "In a sentence, the words have a relationship with each other. The one word in a sentence which is independent of others, is called as Head /Root word. All the other word are dependent on the root word, they are termed as dependents.\n",
        "\n",
        "Dependency Parsing is the method of analyzing the relationship/ dependency between different words of a sentence.\n",
        "\n",
        "Usually, in a sentence, the verb is the head word.\n",
        "\n",
        "You can access the dependency of a token through **token.dep_** attribute.\n",
        "\n",
        "**token.dep_** prints dependency tags for each token\n",
        "\n",
        "What is the meaning of these dependency tags ?\n",
        "\n",
        "1. nsubj :Subject of the sentence\n",
        "2. ROOT: The headword or independent word,(generally the verb)\n",
        "3. prep: prepositional modifier, it modifies the meaning of a noun, verb ,    adjective, or preposition.\n",
        "4. cc and conj : Linkages between words.For example : is , and, etc..\n",
        "5. pobj : Denotes the object of the preposition\n",
        "6. aux : Denotes it is an auxiliary word\n",
        "7. dobj : direct object of the verb\n",
        "8. det : Not specific, but not an independent word."
      ]
    },
    {
      "cell_type": "code",
      "metadata": {
        "id": "zHkzeSNU8im4",
        "colab": {
          "base_uri": "https://localhost:8080/"
        },
        "outputId": "b6f9a35f-5470-482a-c17c-998dd3a477a3"
      },
      "source": [
        "# Printing the dependency of each token\n",
        "my_text='Ardra fell into a well and fractured her leg'\n",
        "my_doc=nlp(my_text)\n",
        "\n",
        "for token in my_doc:\n",
        "    print(token.text,'---',token.dep_)"
      ],
      "execution_count": 41,
      "outputs": [
        {
          "output_type": "stream",
          "text": [
            "Ardra --- nsubj\n",
            "fell --- ROOT\n",
            "into --- prep\n",
            "a --- det\n",
            "well --- pobj\n",
            "and --- cc\n",
            "fractured --- conj\n",
            "her --- poss\n",
            "leg --- dobj\n"
          ],
          "name": "stdout"
        }
      ]
    },
    {
      "cell_type": "code",
      "metadata": {
        "colab": {
          "base_uri": "https://localhost:8080/",
          "height": 527
        },
        "id": "RWh2lkgyzw5m",
        "outputId": "9a0f1eb6-8ae0-4edb-e28e-5d6ca3c861c4"
      },
      "source": [
        "displacy.render(my_doc ,style='dep', jupyter=True)"
      ],
      "execution_count": 42,
      "outputs": [
        {
          "output_type": "display_data",
          "data": {
            "text/html": [
              "<span class=\"tex2jax_ignore\"><svg xmlns=\"http://www.w3.org/2000/svg\" xmlns:xlink=\"http://www.w3.org/1999/xlink\" xml:lang=\"en\" id=\"bb79633b057849999497261344c646c6-0\" class=\"displacy\" width=\"1625\" height=\"487.0\" direction=\"ltr\" style=\"max-width: none; height: 487.0px; color: #000000; background: #ffffff; font-family: Arial; direction: ltr\">\n",
              "<text class=\"displacy-token\" fill=\"currentColor\" text-anchor=\"middle\" y=\"397.0\">\n",
              "    <tspan class=\"displacy-word\" fill=\"currentColor\" x=\"50\">Ardra</tspan>\n",
              "    <tspan class=\"displacy-tag\" dy=\"2em\" fill=\"currentColor\" x=\"50\">NOUN</tspan>\n",
              "</text>\n",
              "\n",
              "<text class=\"displacy-token\" fill=\"currentColor\" text-anchor=\"middle\" y=\"397.0\">\n",
              "    <tspan class=\"displacy-word\" fill=\"currentColor\" x=\"225\">fell</tspan>\n",
              "    <tspan class=\"displacy-tag\" dy=\"2em\" fill=\"currentColor\" x=\"225\">VERB</tspan>\n",
              "</text>\n",
              "\n",
              "<text class=\"displacy-token\" fill=\"currentColor\" text-anchor=\"middle\" y=\"397.0\">\n",
              "    <tspan class=\"displacy-word\" fill=\"currentColor\" x=\"400\">into</tspan>\n",
              "    <tspan class=\"displacy-tag\" dy=\"2em\" fill=\"currentColor\" x=\"400\">ADP</tspan>\n",
              "</text>\n",
              "\n",
              "<text class=\"displacy-token\" fill=\"currentColor\" text-anchor=\"middle\" y=\"397.0\">\n",
              "    <tspan class=\"displacy-word\" fill=\"currentColor\" x=\"575\">a</tspan>\n",
              "    <tspan class=\"displacy-tag\" dy=\"2em\" fill=\"currentColor\" x=\"575\">DET</tspan>\n",
              "</text>\n",
              "\n",
              "<text class=\"displacy-token\" fill=\"currentColor\" text-anchor=\"middle\" y=\"397.0\">\n",
              "    <tspan class=\"displacy-word\" fill=\"currentColor\" x=\"750\">well</tspan>\n",
              "    <tspan class=\"displacy-tag\" dy=\"2em\" fill=\"currentColor\" x=\"750\">NOUN</tspan>\n",
              "</text>\n",
              "\n",
              "<text class=\"displacy-token\" fill=\"currentColor\" text-anchor=\"middle\" y=\"397.0\">\n",
              "    <tspan class=\"displacy-word\" fill=\"currentColor\" x=\"925\">and</tspan>\n",
              "    <tspan class=\"displacy-tag\" dy=\"2em\" fill=\"currentColor\" x=\"925\">CCONJ</tspan>\n",
              "</text>\n",
              "\n",
              "<text class=\"displacy-token\" fill=\"currentColor\" text-anchor=\"middle\" y=\"397.0\">\n",
              "    <tspan class=\"displacy-word\" fill=\"currentColor\" x=\"1100\">fractured</tspan>\n",
              "    <tspan class=\"displacy-tag\" dy=\"2em\" fill=\"currentColor\" x=\"1100\">VERB</tspan>\n",
              "</text>\n",
              "\n",
              "<text class=\"displacy-token\" fill=\"currentColor\" text-anchor=\"middle\" y=\"397.0\">\n",
              "    <tspan class=\"displacy-word\" fill=\"currentColor\" x=\"1275\">her</tspan>\n",
              "    <tspan class=\"displacy-tag\" dy=\"2em\" fill=\"currentColor\" x=\"1275\">DET</tspan>\n",
              "</text>\n",
              "\n",
              "<text class=\"displacy-token\" fill=\"currentColor\" text-anchor=\"middle\" y=\"397.0\">\n",
              "    <tspan class=\"displacy-word\" fill=\"currentColor\" x=\"1450\">leg</tspan>\n",
              "    <tspan class=\"displacy-tag\" dy=\"2em\" fill=\"currentColor\" x=\"1450\">NOUN</tspan>\n",
              "</text>\n",
              "\n",
              "<g class=\"displacy-arrow\">\n",
              "    <path class=\"displacy-arc\" id=\"arrow-bb79633b057849999497261344c646c6-0-0\" stroke-width=\"2px\" d=\"M70,352.0 C70,264.5 210.0,264.5 210.0,352.0\" fill=\"none\" stroke=\"currentColor\"/>\n",
              "    <text dy=\"1.25em\" style=\"font-size: 0.8em; letter-spacing: 1px\">\n",
              "        <textPath xlink:href=\"#arrow-bb79633b057849999497261344c646c6-0-0\" class=\"displacy-label\" startOffset=\"50%\" side=\"left\" fill=\"currentColor\" text-anchor=\"middle\">nsubj</textPath>\n",
              "    </text>\n",
              "    <path class=\"displacy-arrowhead\" d=\"M70,354.0 L62,342.0 78,342.0\" fill=\"currentColor\"/>\n",
              "</g>\n",
              "\n",
              "<g class=\"displacy-arrow\">\n",
              "    <path class=\"displacy-arc\" id=\"arrow-bb79633b057849999497261344c646c6-0-1\" stroke-width=\"2px\" d=\"M245,352.0 C245,264.5 385.0,264.5 385.0,352.0\" fill=\"none\" stroke=\"currentColor\"/>\n",
              "    <text dy=\"1.25em\" style=\"font-size: 0.8em; letter-spacing: 1px\">\n",
              "        <textPath xlink:href=\"#arrow-bb79633b057849999497261344c646c6-0-1\" class=\"displacy-label\" startOffset=\"50%\" side=\"left\" fill=\"currentColor\" text-anchor=\"middle\">prep</textPath>\n",
              "    </text>\n",
              "    <path class=\"displacy-arrowhead\" d=\"M385.0,354.0 L393.0,342.0 377.0,342.0\" fill=\"currentColor\"/>\n",
              "</g>\n",
              "\n",
              "<g class=\"displacy-arrow\">\n",
              "    <path class=\"displacy-arc\" id=\"arrow-bb79633b057849999497261344c646c6-0-2\" stroke-width=\"2px\" d=\"M595,352.0 C595,264.5 735.0,264.5 735.0,352.0\" fill=\"none\" stroke=\"currentColor\"/>\n",
              "    <text dy=\"1.25em\" style=\"font-size: 0.8em; letter-spacing: 1px\">\n",
              "        <textPath xlink:href=\"#arrow-bb79633b057849999497261344c646c6-0-2\" class=\"displacy-label\" startOffset=\"50%\" side=\"left\" fill=\"currentColor\" text-anchor=\"middle\">det</textPath>\n",
              "    </text>\n",
              "    <path class=\"displacy-arrowhead\" d=\"M595,354.0 L587,342.0 603,342.0\" fill=\"currentColor\"/>\n",
              "</g>\n",
              "\n",
              "<g class=\"displacy-arrow\">\n",
              "    <path class=\"displacy-arc\" id=\"arrow-bb79633b057849999497261344c646c6-0-3\" stroke-width=\"2px\" d=\"M420,352.0 C420,177.0 740.0,177.0 740.0,352.0\" fill=\"none\" stroke=\"currentColor\"/>\n",
              "    <text dy=\"1.25em\" style=\"font-size: 0.8em; letter-spacing: 1px\">\n",
              "        <textPath xlink:href=\"#arrow-bb79633b057849999497261344c646c6-0-3\" class=\"displacy-label\" startOffset=\"50%\" side=\"left\" fill=\"currentColor\" text-anchor=\"middle\">pobj</textPath>\n",
              "    </text>\n",
              "    <path class=\"displacy-arrowhead\" d=\"M740.0,354.0 L748.0,342.0 732.0,342.0\" fill=\"currentColor\"/>\n",
              "</g>\n",
              "\n",
              "<g class=\"displacy-arrow\">\n",
              "    <path class=\"displacy-arc\" id=\"arrow-bb79633b057849999497261344c646c6-0-4\" stroke-width=\"2px\" d=\"M245,352.0 C245,89.5 920.0,89.5 920.0,352.0\" fill=\"none\" stroke=\"currentColor\"/>\n",
              "    <text dy=\"1.25em\" style=\"font-size: 0.8em; letter-spacing: 1px\">\n",
              "        <textPath xlink:href=\"#arrow-bb79633b057849999497261344c646c6-0-4\" class=\"displacy-label\" startOffset=\"50%\" side=\"left\" fill=\"currentColor\" text-anchor=\"middle\">cc</textPath>\n",
              "    </text>\n",
              "    <path class=\"displacy-arrowhead\" d=\"M920.0,354.0 L928.0,342.0 912.0,342.0\" fill=\"currentColor\"/>\n",
              "</g>\n",
              "\n",
              "<g class=\"displacy-arrow\">\n",
              "    <path class=\"displacy-arc\" id=\"arrow-bb79633b057849999497261344c646c6-0-5\" stroke-width=\"2px\" d=\"M245,352.0 C245,2.0 1100.0,2.0 1100.0,352.0\" fill=\"none\" stroke=\"currentColor\"/>\n",
              "    <text dy=\"1.25em\" style=\"font-size: 0.8em; letter-spacing: 1px\">\n",
              "        <textPath xlink:href=\"#arrow-bb79633b057849999497261344c646c6-0-5\" class=\"displacy-label\" startOffset=\"50%\" side=\"left\" fill=\"currentColor\" text-anchor=\"middle\">conj</textPath>\n",
              "    </text>\n",
              "    <path class=\"displacy-arrowhead\" d=\"M1100.0,354.0 L1108.0,342.0 1092.0,342.0\" fill=\"currentColor\"/>\n",
              "</g>\n",
              "\n",
              "<g class=\"displacy-arrow\">\n",
              "    <path class=\"displacy-arc\" id=\"arrow-bb79633b057849999497261344c646c6-0-6\" stroke-width=\"2px\" d=\"M1295,352.0 C1295,264.5 1435.0,264.5 1435.0,352.0\" fill=\"none\" stroke=\"currentColor\"/>\n",
              "    <text dy=\"1.25em\" style=\"font-size: 0.8em; letter-spacing: 1px\">\n",
              "        <textPath xlink:href=\"#arrow-bb79633b057849999497261344c646c6-0-6\" class=\"displacy-label\" startOffset=\"50%\" side=\"left\" fill=\"currentColor\" text-anchor=\"middle\">poss</textPath>\n",
              "    </text>\n",
              "    <path class=\"displacy-arrowhead\" d=\"M1295,354.0 L1287,342.0 1303,342.0\" fill=\"currentColor\"/>\n",
              "</g>\n",
              "\n",
              "<g class=\"displacy-arrow\">\n",
              "    <path class=\"displacy-arc\" id=\"arrow-bb79633b057849999497261344c646c6-0-7\" stroke-width=\"2px\" d=\"M1120,352.0 C1120,177.0 1440.0,177.0 1440.0,352.0\" fill=\"none\" stroke=\"currentColor\"/>\n",
              "    <text dy=\"1.25em\" style=\"font-size: 0.8em; letter-spacing: 1px\">\n",
              "        <textPath xlink:href=\"#arrow-bb79633b057849999497261344c646c6-0-7\" class=\"displacy-label\" startOffset=\"50%\" side=\"left\" fill=\"currentColor\" text-anchor=\"middle\">dobj</textPath>\n",
              "    </text>\n",
              "    <path class=\"displacy-arrowhead\" d=\"M1440.0,354.0 L1448.0,342.0 1432.0,342.0\" fill=\"currentColor\"/>\n",
              "</g>\n",
              "</svg></span>"
            ],
            "text/plain": [
              "<IPython.core.display.HTML object>"
            ]
          },
          "metadata": {
            "tags": []
          }
        }
      ]
    },
    {
      "cell_type": "markdown",
      "metadata": {
        "id": "cBzveBgW0Bpm"
      },
      "source": [
        "**In spacy, you can access the head word of every token through token.head.text**"
      ]
    },
    {
      "cell_type": "code",
      "metadata": {
        "colab": {
          "base_uri": "https://localhost:8080/"
        },
        "id": "wmkCQk3J0BZ6",
        "outputId": "d8bd58be-c7ed-4b60-da33-be7634dba768"
      },
      "source": [
        "# Acessing headword of each token\n",
        "my_text=\"The robot displayed its functions on the big screen  The audience applauded\"\n",
        "my_doc=nlp(my_text)\n",
        "\n",
        "for token in my_doc:\n",
        "    print(token.text,'---',token.head.text)"
      ],
      "execution_count": 43,
      "outputs": [
        {
          "output_type": "stream",
          "text": [
            "The --- robot\n",
            "robot --- displayed\n",
            "displayed --- displayed\n",
            "its --- functions\n",
            "functions --- displayed\n",
            "on --- displayed\n",
            "the --- screen\n",
            "big --- screen\n",
            "screen --- on\n",
            "  --- screen\n",
            "The --- audience\n",
            "audience --- applauded\n",
            "applauded --- applauded\n"
          ],
          "name": "stdout"
        }
      ]
    },
    {
      "cell_type": "code",
      "metadata": {
        "colab": {
          "base_uri": "https://localhost:8080/",
          "height": 440
        },
        "id": "66vch7qiz16k",
        "outputId": "1b60ef7d-3c76-42a1-97fb-e823333d8836"
      },
      "source": [
        "displacy.render(my_doc ,style='dep', jupyter=True)"
      ],
      "execution_count": 44,
      "outputs": [
        {
          "output_type": "display_data",
          "data": {
            "text/html": [
              "<span class=\"tex2jax_ignore\"><svg xmlns=\"http://www.w3.org/2000/svg\" xmlns:xlink=\"http://www.w3.org/1999/xlink\" xml:lang=\"en\" id=\"b718c2cbf5604368ae7781fef851062b-0\" class=\"displacy\" width=\"2325\" height=\"399.5\" direction=\"ltr\" style=\"max-width: none; height: 399.5px; color: #000000; background: #ffffff; font-family: Arial; direction: ltr\">\n",
              "<text class=\"displacy-token\" fill=\"currentColor\" text-anchor=\"middle\" y=\"309.5\">\n",
              "    <tspan class=\"displacy-word\" fill=\"currentColor\" x=\"50\">The</tspan>\n",
              "    <tspan class=\"displacy-tag\" dy=\"2em\" fill=\"currentColor\" x=\"50\">DET</tspan>\n",
              "</text>\n",
              "\n",
              "<text class=\"displacy-token\" fill=\"currentColor\" text-anchor=\"middle\" y=\"309.5\">\n",
              "    <tspan class=\"displacy-word\" fill=\"currentColor\" x=\"225\">robot</tspan>\n",
              "    <tspan class=\"displacy-tag\" dy=\"2em\" fill=\"currentColor\" x=\"225\">NOUN</tspan>\n",
              "</text>\n",
              "\n",
              "<text class=\"displacy-token\" fill=\"currentColor\" text-anchor=\"middle\" y=\"309.5\">\n",
              "    <tspan class=\"displacy-word\" fill=\"currentColor\" x=\"400\">displayed</tspan>\n",
              "    <tspan class=\"displacy-tag\" dy=\"2em\" fill=\"currentColor\" x=\"400\">VERB</tspan>\n",
              "</text>\n",
              "\n",
              "<text class=\"displacy-token\" fill=\"currentColor\" text-anchor=\"middle\" y=\"309.5\">\n",
              "    <tspan class=\"displacy-word\" fill=\"currentColor\" x=\"575\">its</tspan>\n",
              "    <tspan class=\"displacy-tag\" dy=\"2em\" fill=\"currentColor\" x=\"575\">DET</tspan>\n",
              "</text>\n",
              "\n",
              "<text class=\"displacy-token\" fill=\"currentColor\" text-anchor=\"middle\" y=\"309.5\">\n",
              "    <tspan class=\"displacy-word\" fill=\"currentColor\" x=\"750\">functions</tspan>\n",
              "    <tspan class=\"displacy-tag\" dy=\"2em\" fill=\"currentColor\" x=\"750\">NOUN</tspan>\n",
              "</text>\n",
              "\n",
              "<text class=\"displacy-token\" fill=\"currentColor\" text-anchor=\"middle\" y=\"309.5\">\n",
              "    <tspan class=\"displacy-word\" fill=\"currentColor\" x=\"925\">on</tspan>\n",
              "    <tspan class=\"displacy-tag\" dy=\"2em\" fill=\"currentColor\" x=\"925\">ADP</tspan>\n",
              "</text>\n",
              "\n",
              "<text class=\"displacy-token\" fill=\"currentColor\" text-anchor=\"middle\" y=\"309.5\">\n",
              "    <tspan class=\"displacy-word\" fill=\"currentColor\" x=\"1100\">the</tspan>\n",
              "    <tspan class=\"displacy-tag\" dy=\"2em\" fill=\"currentColor\" x=\"1100\">DET</tspan>\n",
              "</text>\n",
              "\n",
              "<text class=\"displacy-token\" fill=\"currentColor\" text-anchor=\"middle\" y=\"309.5\">\n",
              "    <tspan class=\"displacy-word\" fill=\"currentColor\" x=\"1275\">big</tspan>\n",
              "    <tspan class=\"displacy-tag\" dy=\"2em\" fill=\"currentColor\" x=\"1275\">ADJ</tspan>\n",
              "</text>\n",
              "\n",
              "<text class=\"displacy-token\" fill=\"currentColor\" text-anchor=\"middle\" y=\"309.5\">\n",
              "    <tspan class=\"displacy-word\" fill=\"currentColor\" x=\"1450\">screen</tspan>\n",
              "    <tspan class=\"displacy-tag\" dy=\"2em\" fill=\"currentColor\" x=\"1450\">NOUN</tspan>\n",
              "</text>\n",
              "\n",
              "<text class=\"displacy-token\" fill=\"currentColor\" text-anchor=\"middle\" y=\"309.5\">\n",
              "    <tspan class=\"displacy-word\" fill=\"currentColor\" x=\"1625\"> </tspan>\n",
              "    <tspan class=\"displacy-tag\" dy=\"2em\" fill=\"currentColor\" x=\"1625\">SPACE</tspan>\n",
              "</text>\n",
              "\n",
              "<text class=\"displacy-token\" fill=\"currentColor\" text-anchor=\"middle\" y=\"309.5\">\n",
              "    <tspan class=\"displacy-word\" fill=\"currentColor\" x=\"1800\">The</tspan>\n",
              "    <tspan class=\"displacy-tag\" dy=\"2em\" fill=\"currentColor\" x=\"1800\">DET</tspan>\n",
              "</text>\n",
              "\n",
              "<text class=\"displacy-token\" fill=\"currentColor\" text-anchor=\"middle\" y=\"309.5\">\n",
              "    <tspan class=\"displacy-word\" fill=\"currentColor\" x=\"1975\">audience</tspan>\n",
              "    <tspan class=\"displacy-tag\" dy=\"2em\" fill=\"currentColor\" x=\"1975\">NOUN</tspan>\n",
              "</text>\n",
              "\n",
              "<text class=\"displacy-token\" fill=\"currentColor\" text-anchor=\"middle\" y=\"309.5\">\n",
              "    <tspan class=\"displacy-word\" fill=\"currentColor\" x=\"2150\">applauded</tspan>\n",
              "    <tspan class=\"displacy-tag\" dy=\"2em\" fill=\"currentColor\" x=\"2150\">VERB</tspan>\n",
              "</text>\n",
              "\n",
              "<g class=\"displacy-arrow\">\n",
              "    <path class=\"displacy-arc\" id=\"arrow-b718c2cbf5604368ae7781fef851062b-0-0\" stroke-width=\"2px\" d=\"M70,264.5 C70,177.0 215.0,177.0 215.0,264.5\" fill=\"none\" stroke=\"currentColor\"/>\n",
              "    <text dy=\"1.25em\" style=\"font-size: 0.8em; letter-spacing: 1px\">\n",
              "        <textPath xlink:href=\"#arrow-b718c2cbf5604368ae7781fef851062b-0-0\" class=\"displacy-label\" startOffset=\"50%\" side=\"left\" fill=\"currentColor\" text-anchor=\"middle\">det</textPath>\n",
              "    </text>\n",
              "    <path class=\"displacy-arrowhead\" d=\"M70,266.5 L62,254.5 78,254.5\" fill=\"currentColor\"/>\n",
              "</g>\n",
              "\n",
              "<g class=\"displacy-arrow\">\n",
              "    <path class=\"displacy-arc\" id=\"arrow-b718c2cbf5604368ae7781fef851062b-0-1\" stroke-width=\"2px\" d=\"M245,264.5 C245,177.0 390.0,177.0 390.0,264.5\" fill=\"none\" stroke=\"currentColor\"/>\n",
              "    <text dy=\"1.25em\" style=\"font-size: 0.8em; letter-spacing: 1px\">\n",
              "        <textPath xlink:href=\"#arrow-b718c2cbf5604368ae7781fef851062b-0-1\" class=\"displacy-label\" startOffset=\"50%\" side=\"left\" fill=\"currentColor\" text-anchor=\"middle\">nsubj</textPath>\n",
              "    </text>\n",
              "    <path class=\"displacy-arrowhead\" d=\"M245,266.5 L237,254.5 253,254.5\" fill=\"currentColor\"/>\n",
              "</g>\n",
              "\n",
              "<g class=\"displacy-arrow\">\n",
              "    <path class=\"displacy-arc\" id=\"arrow-b718c2cbf5604368ae7781fef851062b-0-2\" stroke-width=\"2px\" d=\"M595,264.5 C595,177.0 740.0,177.0 740.0,264.5\" fill=\"none\" stroke=\"currentColor\"/>\n",
              "    <text dy=\"1.25em\" style=\"font-size: 0.8em; letter-spacing: 1px\">\n",
              "        <textPath xlink:href=\"#arrow-b718c2cbf5604368ae7781fef851062b-0-2\" class=\"displacy-label\" startOffset=\"50%\" side=\"left\" fill=\"currentColor\" text-anchor=\"middle\">poss</textPath>\n",
              "    </text>\n",
              "    <path class=\"displacy-arrowhead\" d=\"M595,266.5 L587,254.5 603,254.5\" fill=\"currentColor\"/>\n",
              "</g>\n",
              "\n",
              "<g class=\"displacy-arrow\">\n",
              "    <path class=\"displacy-arc\" id=\"arrow-b718c2cbf5604368ae7781fef851062b-0-3\" stroke-width=\"2px\" d=\"M420,264.5 C420,89.5 745.0,89.5 745.0,264.5\" fill=\"none\" stroke=\"currentColor\"/>\n",
              "    <text dy=\"1.25em\" style=\"font-size: 0.8em; letter-spacing: 1px\">\n",
              "        <textPath xlink:href=\"#arrow-b718c2cbf5604368ae7781fef851062b-0-3\" class=\"displacy-label\" startOffset=\"50%\" side=\"left\" fill=\"currentColor\" text-anchor=\"middle\">dobj</textPath>\n",
              "    </text>\n",
              "    <path class=\"displacy-arrowhead\" d=\"M745.0,266.5 L753.0,254.5 737.0,254.5\" fill=\"currentColor\"/>\n",
              "</g>\n",
              "\n",
              "<g class=\"displacy-arrow\">\n",
              "    <path class=\"displacy-arc\" id=\"arrow-b718c2cbf5604368ae7781fef851062b-0-4\" stroke-width=\"2px\" d=\"M420,264.5 C420,2.0 925.0,2.0 925.0,264.5\" fill=\"none\" stroke=\"currentColor\"/>\n",
              "    <text dy=\"1.25em\" style=\"font-size: 0.8em; letter-spacing: 1px\">\n",
              "        <textPath xlink:href=\"#arrow-b718c2cbf5604368ae7781fef851062b-0-4\" class=\"displacy-label\" startOffset=\"50%\" side=\"left\" fill=\"currentColor\" text-anchor=\"middle\">prep</textPath>\n",
              "    </text>\n",
              "    <path class=\"displacy-arrowhead\" d=\"M925.0,266.5 L933.0,254.5 917.0,254.5\" fill=\"currentColor\"/>\n",
              "</g>\n",
              "\n",
              "<g class=\"displacy-arrow\">\n",
              "    <path class=\"displacy-arc\" id=\"arrow-b718c2cbf5604368ae7781fef851062b-0-5\" stroke-width=\"2px\" d=\"M1120,264.5 C1120,89.5 1445.0,89.5 1445.0,264.5\" fill=\"none\" stroke=\"currentColor\"/>\n",
              "    <text dy=\"1.25em\" style=\"font-size: 0.8em; letter-spacing: 1px\">\n",
              "        <textPath xlink:href=\"#arrow-b718c2cbf5604368ae7781fef851062b-0-5\" class=\"displacy-label\" startOffset=\"50%\" side=\"left\" fill=\"currentColor\" text-anchor=\"middle\">det</textPath>\n",
              "    </text>\n",
              "    <path class=\"displacy-arrowhead\" d=\"M1120,266.5 L1112,254.5 1128,254.5\" fill=\"currentColor\"/>\n",
              "</g>\n",
              "\n",
              "<g class=\"displacy-arrow\">\n",
              "    <path class=\"displacy-arc\" id=\"arrow-b718c2cbf5604368ae7781fef851062b-0-6\" stroke-width=\"2px\" d=\"M1295,264.5 C1295,177.0 1440.0,177.0 1440.0,264.5\" fill=\"none\" stroke=\"currentColor\"/>\n",
              "    <text dy=\"1.25em\" style=\"font-size: 0.8em; letter-spacing: 1px\">\n",
              "        <textPath xlink:href=\"#arrow-b718c2cbf5604368ae7781fef851062b-0-6\" class=\"displacy-label\" startOffset=\"50%\" side=\"left\" fill=\"currentColor\" text-anchor=\"middle\">amod</textPath>\n",
              "    </text>\n",
              "    <path class=\"displacy-arrowhead\" d=\"M1295,266.5 L1287,254.5 1303,254.5\" fill=\"currentColor\"/>\n",
              "</g>\n",
              "\n",
              "<g class=\"displacy-arrow\">\n",
              "    <path class=\"displacy-arc\" id=\"arrow-b718c2cbf5604368ae7781fef851062b-0-7\" stroke-width=\"2px\" d=\"M945,264.5 C945,2.0 1450.0,2.0 1450.0,264.5\" fill=\"none\" stroke=\"currentColor\"/>\n",
              "    <text dy=\"1.25em\" style=\"font-size: 0.8em; letter-spacing: 1px\">\n",
              "        <textPath xlink:href=\"#arrow-b718c2cbf5604368ae7781fef851062b-0-7\" class=\"displacy-label\" startOffset=\"50%\" side=\"left\" fill=\"currentColor\" text-anchor=\"middle\">pobj</textPath>\n",
              "    </text>\n",
              "    <path class=\"displacy-arrowhead\" d=\"M1450.0,266.5 L1458.0,254.5 1442.0,254.5\" fill=\"currentColor\"/>\n",
              "</g>\n",
              "\n",
              "<g class=\"displacy-arrow\">\n",
              "    <path class=\"displacy-arc\" id=\"arrow-b718c2cbf5604368ae7781fef851062b-0-8\" stroke-width=\"2px\" d=\"M1470,264.5 C1470,177.0 1615.0,177.0 1615.0,264.5\" fill=\"none\" stroke=\"currentColor\"/>\n",
              "    <text dy=\"1.25em\" style=\"font-size: 0.8em; letter-spacing: 1px\">\n",
              "        <textPath xlink:href=\"#arrow-b718c2cbf5604368ae7781fef851062b-0-8\" class=\"displacy-label\" startOffset=\"50%\" side=\"left\" fill=\"currentColor\" text-anchor=\"middle\"></textPath>\n",
              "    </text>\n",
              "    <path class=\"displacy-arrowhead\" d=\"M1615.0,266.5 L1623.0,254.5 1607.0,254.5\" fill=\"currentColor\"/>\n",
              "</g>\n",
              "\n",
              "<g class=\"displacy-arrow\">\n",
              "    <path class=\"displacy-arc\" id=\"arrow-b718c2cbf5604368ae7781fef851062b-0-9\" stroke-width=\"2px\" d=\"M1820,264.5 C1820,177.0 1965.0,177.0 1965.0,264.5\" fill=\"none\" stroke=\"currentColor\"/>\n",
              "    <text dy=\"1.25em\" style=\"font-size: 0.8em; letter-spacing: 1px\">\n",
              "        <textPath xlink:href=\"#arrow-b718c2cbf5604368ae7781fef851062b-0-9\" class=\"displacy-label\" startOffset=\"50%\" side=\"left\" fill=\"currentColor\" text-anchor=\"middle\">det</textPath>\n",
              "    </text>\n",
              "    <path class=\"displacy-arrowhead\" d=\"M1820,266.5 L1812,254.5 1828,254.5\" fill=\"currentColor\"/>\n",
              "</g>\n",
              "\n",
              "<g class=\"displacy-arrow\">\n",
              "    <path class=\"displacy-arc\" id=\"arrow-b718c2cbf5604368ae7781fef851062b-0-10\" stroke-width=\"2px\" d=\"M1995,264.5 C1995,177.0 2140.0,177.0 2140.0,264.5\" fill=\"none\" stroke=\"currentColor\"/>\n",
              "    <text dy=\"1.25em\" style=\"font-size: 0.8em; letter-spacing: 1px\">\n",
              "        <textPath xlink:href=\"#arrow-b718c2cbf5604368ae7781fef851062b-0-10\" class=\"displacy-label\" startOffset=\"50%\" side=\"left\" fill=\"currentColor\" text-anchor=\"middle\">nsubj</textPath>\n",
              "    </text>\n",
              "    <path class=\"displacy-arrowhead\" d=\"M1995,266.5 L1987,254.5 2003,254.5\" fill=\"currentColor\"/>\n",
              "</g>\n",
              "</svg></span>"
            ],
            "text/plain": [
              "<IPython.core.display.HTML object>"
            ]
          },
          "metadata": {
            "tags": []
          }
        }
      ]
    },
    {
      "cell_type": "code",
      "metadata": {
        "colab": {
          "base_uri": "https://localhost:8080/"
        },
        "id": "Yn2iMfie0PgN",
        "outputId": "6a495825-577c-4689-c2c6-c054b94051be"
      },
      "source": [
        "# Printing root word of each sentence of the doc\n",
        "with open('robotics.txt') as file:\n",
        "    robot_text=file.read()\n",
        "robotics_doc=nlp(robot_text)\n",
        "\n",
        "sentences=list(robotics_doc.sents)\n",
        "print(sentences)\n",
        "for sentence in sentences:\n",
        "    print(sentence.root)"
      ],
      "execution_count": 46,
      "outputs": [
        {
          "output_type": "stream",
          "text": [
            "[Robotics is an interdisciplinary field that integrates computer science and engineering., Robotics involves design, construction, operation, and use of robots., The goal of robotics is to design machines that can help and assist humans., Robotics integrates fields of mechanical engineering, electrical engineering, information engineering, mechatronics, electronics, bioengineering, computer engineering, control engineering, software engineering, mathematics, among others.\n",
            ", Robotics develops machines that can substitute for humans and replicate human actions., Robots can be used in many situations and for many purposes, but today many are used in dangerous environments (including inspection of radioactive materials, bomb detection and deactivation), manufacturing processes, or where humans cannot survive (e.g. in space, underwater, in high heat, and clean up and containment of hazardous materials and radiation)., Robots can take on any form but some are made to resemble humans in appearance., This is said to help in the acceptance of a robot in certain replicative behaviors usually performed by people., Such robots attempt to replicate walking, lifting, speech, cognition, or any other human activity., Many of today's robots are inspired by nature, contributing to the field of bio-inspired robotics.\n",
            ", Certain robots require user input to operate while other robots function autonomously., The concept of creating robots that can operate autonomously dates back to classical times, but research into the functionality and potential uses of robots did not grow substantially until the 20th century., Throughout history, it has been frequently assumed by various scholars, inventors, engineers, and technicians that robots will one day be able to mimic human behavior and manage tasks in a human-like fashion., Today, robotics is a rapidly growing field, as technological advances continue; researching, designing, and building new robots serve various practical purposes, whether domestically, commercially, or militarily., Many robots are built to do jobs that are hazardous to people, such as defusing bombs, finding survivors in unstable ruins, and exploring mines and shipwrecks., Robotics is also used in STEM (science, technology, engineering, and mathematics) as a teaching aid.]\n",
            "is\n",
            "involves\n",
            "is\n",
            "integrates\n",
            "develops\n",
            "used\n",
            "take\n",
            "said\n",
            "attempt\n",
            "inspired\n",
            "require\n",
            "dates\n",
            "assumed\n",
            "is\n",
            "built\n",
            "used\n"
          ],
          "name": "stdout"
        }
      ]
    },
    {
      "cell_type": "code",
      "metadata": {
        "colab": {
          "base_uri": "https://localhost:8080/"
        },
        "id": "-EcPnpk-1Wgj",
        "outputId": "2ac92d28-0322-41fe-df70-385c2a81031c"
      },
      "source": [
        "print([token.text for token in robotics_doc[1].children])"
      ],
      "execution_count": 52,
      "outputs": [
        {
          "output_type": "stream",
          "text": [
            "['Robotics', 'field', '.']\n"
          ],
          "name": "stdout"
        }
      ]
    },
    {
      "cell_type": "markdown",
      "metadata": {
        "id": "dO5Rn-8e2L7X"
      },
      "source": [
        "## Named Entity Recognition\n",
        "\n",
        "Suppose you have a collection of news articles text data. What if you want to know **what companies/organizations have been in the news ?.** How will you do that ?\n",
        "\n",
        "Take another case of text dataset of information about influential people. **What if you want to know the names of influencers in this dataset ?.**\n",
        "\n",
        "The answer to all these questions is NER.\n",
        "\n",
        "**What is NER ?**\n",
        "\n",
        "**NER** is the technique of identifying named entities in the text corpus and assigning them pre-defined categories such as ‘person names’,‘locations’,’organizations’,etc..\n",
        "\n",
        "It is a very useful method especially in the field of claasification problems and search egine optimizations."
      ]
    },
    {
      "cell_type": "markdown",
      "metadata": {
        "id": "Gq3wQdXA3fZa"
      },
      "source": [
        "### **NER can be implemented through nltk**"
      ]
    },
    {
      "cell_type": "markdown",
      "metadata": {
        "id": "kWf8fsiP5AAV"
      },
      "source": [
        "Goal is to identify which tokens are the person names, which is a company\n",
        "\n",
        "Step 1: Need to identify the named entities, you should tokenize the text using **nltk.word_tokenize**.\n",
        "\n",
        "Step 2: Next, pass the tokens through **nltk.pos_tag** to get the part-of-speech tags of each tokens.\n",
        "\n",
        "Step 3: Associate pos tags with each token.\n",
        "\n",
        "Step 4: Obtain the named entities of the text, nltk provide **ne_chunck** method."
      ]
    },
    {
      "cell_type": "code",
      "metadata": {
        "id": "O9xnvw6M6Nwn"
      },
      "source": [
        "nltk.download('averaged_perceptron_tagger')\n",
        "nltk.download('maxent_ne_chunker')\n",
        "nltk.download('words')"
      ],
      "execution_count": null,
      "outputs": []
    },
    {
      "cell_type": "code",
      "metadata": {
        "colab": {
          "base_uri": "https://localhost:8080/"
        },
        "id": "tYVJ5Riv1wT_",
        "outputId": "78908436-1d50-41b9-fa9f-292ed8e8a0b1"
      },
      "source": [
        "sentence = \" John and Emily are from India , they work at Yahoo\"\n",
        "\n",
        "# POS tagging on the text\n",
        "\n",
        "from nltk import word_tokenize, pos_tag , ne_chunk\n",
        "tokens = word_tokenize(sentence)\n",
        "tokens_pos = pos_tag(tokens)\n",
        "print(tokens_pos)\n"
      ],
      "execution_count": 56,
      "outputs": [
        {
          "output_type": "stream",
          "text": [
            "[('John', 'NNP'), ('and', 'CC'), ('Emily', 'NNP'), ('are', 'VBP'), ('from', 'IN'), ('India', 'NNP'), (',', ','), ('they', 'PRP'), ('work', 'VBP'), ('at', 'IN'), ('Yahoo', 'NNP')]\n"
          ],
          "name": "stdout"
        }
      ]
    },
    {
      "cell_type": "code",
      "metadata": {
        "colab": {
          "base_uri": "https://localhost:8080/"
        },
        "id": "6P3zKUqc5xLd",
        "outputId": "cee8c32a-24c9-461e-c4aa-760b9045e9bd"
      },
      "source": [
        "# Print all the named entities\n",
        "named_entity=ne_chunk(tokens_pos)\n",
        "print(named_entity)"
      ],
      "execution_count": 57,
      "outputs": [
        {
          "output_type": "stream",
          "text": [
            "(S\n",
            "  (PERSON John/NNP)\n",
            "  and/CC\n",
            "  (PERSON Emily/NNP)\n",
            "  are/VBP\n",
            "  from/IN\n",
            "  (GPE India/NNP)\n",
            "  ,/,\n",
            "  they/PRP\n",
            "  work/VBP\n",
            "  at/IN\n",
            "  (ORGANIZATION Yahoo/NNP))\n"
          ],
          "name": "stdout"
        }
      ]
    },
    {
      "cell_type": "markdown",
      "metadata": {
        "id": "1XWom6Dz-x-Z"
      },
      "source": [
        "In the above output , you can see that John andd Emily have been categorized as ‘PERSON’ , Yahoo as ‘ORGANIZATION’ just as required."
      ]
    },
    {
      "cell_type": "markdown",
      "metadata": {
        "id": "t1HeHNHn_CLT"
      },
      "source": [
        "### **NER can be implemented through spacy**"
      ]
    },
    {
      "cell_type": "markdown",
      "metadata": {
        "id": "7kbModPN_MoD"
      },
      "source": [
        "For huge data, it will be impossible to print and check for names. Using spaCy can be easier.\n",
        "\n",
        "spacy is highly flexible and advanced library. Named entity recoginition through spacy is easy.\n",
        "\n",
        "Every token of a spacy model, has an attribute **token.label_** which stores the category/ label of each entity.\n",
        "\n",
        "The few common labels are:\n",
        "\n",
        "‘ORG’ : companies,organizations,etc..\n",
        "\n",
        "‘PERSON’ : names of people\n",
        "\n",
        "‘GPE’ : countries,states,etc..\n",
        "\n",
        "‘PRODUCT’ : vehicles,food products and so on\n",
        "\n",
        "‘LANGUAGE’ : Names of different languages"
      ]
    },
    {
      "cell_type": "code",
      "metadata": {
        "id": "otKK7moC6eFC"
      },
      "source": [
        "# Creating a spacy doc of a sentence\n",
        "sentence=' The building is located at London. It is the headquaters of Yahoo. John works there. He speaks English'\n",
        "doc=nlp(sentence)"
      ],
      "execution_count": 58,
      "outputs": []
    },
    {
      "cell_type": "markdown",
      "metadata": {
        "id": "EahSEbUOCQ9M"
      },
      "source": [
        "You can iterate through the entities present in the doc using .ents and print their label through **.label_!**"
      ]
    },
    {
      "cell_type": "code",
      "metadata": {
        "colab": {
          "base_uri": "https://localhost:8080/"
        },
        "id": "Y0FNG9snCLxV",
        "outputId": "f3d94f96-ecfe-4bf8-caa6-faefa52ad93f"
      },
      "source": [
        "# Print named entities\n",
        "for entity in doc.ents:\n",
        "  print(entity.text,'--',entity.label_)"
      ],
      "execution_count": 59,
      "outputs": [
        {
          "output_type": "stream",
          "text": [
            "London -- GPE\n",
            "Yahoo -- ORG\n",
            "John -- PERSON\n",
            "English -- LANGUAGE\n"
          ],
          "name": "stdout"
        }
      ]
    },
    {
      "cell_type": "code",
      "metadata": {
        "colab": {
          "base_uri": "https://localhost:8080/",
          "height": 52
        },
        "id": "l7CUkvf0CXQb",
        "outputId": "ad75962f-0c00-49cd-ac2d-0c431f9a5faf"
      },
      "source": [
        "from spacy import displacy\n",
        "displacy.render(doc,style='ent',jupyter=True)"
      ],
      "execution_count": 60,
      "outputs": [
        {
          "output_type": "display_data",
          "data": {
            "text/html": [
              "<span class=\"tex2jax_ignore\"><div class=\"entities\" style=\"line-height: 2.5; direction: ltr\"> The building is located at \n",
              "<mark class=\"entity\" style=\"background: #feca74; padding: 0.45em 0.6em; margin: 0 0.25em; line-height: 1; border-radius: 0.35em;\">\n",
              "    London\n",
              "    <span style=\"font-size: 0.8em; font-weight: bold; line-height: 1; border-radius: 0.35em; text-transform: uppercase; vertical-align: middle; margin-left: 0.5rem\">GPE</span>\n",
              "</mark>\n",
              ". It is the headquaters of \n",
              "<mark class=\"entity\" style=\"background: #7aecec; padding: 0.45em 0.6em; margin: 0 0.25em; line-height: 1; border-radius: 0.35em;\">\n",
              "    Yahoo\n",
              "    <span style=\"font-size: 0.8em; font-weight: bold; line-height: 1; border-radius: 0.35em; text-transform: uppercase; vertical-align: middle; margin-left: 0.5rem\">ORG</span>\n",
              "</mark>\n",
              ". \n",
              "<mark class=\"entity\" style=\"background: #aa9cfc; padding: 0.45em 0.6em; margin: 0 0.25em; line-height: 1; border-radius: 0.35em;\">\n",
              "    John\n",
              "    <span style=\"font-size: 0.8em; font-weight: bold; line-height: 1; border-radius: 0.35em; text-transform: uppercase; vertical-align: middle; margin-left: 0.5rem\">PERSON</span>\n",
              "</mark>\n",
              " works there. He speaks \n",
              "<mark class=\"entity\" style=\"background: #ff8197; padding: 0.45em 0.6em; margin: 0 0.25em; line-height: 1; border-radius: 0.35em;\">\n",
              "    English\n",
              "    <span style=\"font-size: 0.8em; font-weight: bold; line-height: 1; border-radius: 0.35em; text-transform: uppercase; vertical-align: middle; margin-left: 0.5rem\">LANGUAGE</span>\n",
              "</mark>\n",
              "</div></span>"
            ],
            "text/plain": [
              "<IPython.core.display.HTML object>"
            ]
          },
          "metadata": {
            "tags": []
          }
        }
      ]
    },
    {
      "cell_type": "code",
      "metadata": {
        "id": "bzjU_o10CdTv"
      },
      "source": [
        "news_articles='Restaurant inspections: Space Coast establishments fare well with no closures or vermin Despite strong talk Tallahassee has a lot more to do for Indian River Lagoon | Opinion Kelly Slater-coached surfer from Cocoa Beach wins national title in Texas Despite parachute mishap Boeing Starliner pad abort test a success Vote for FLORIDA TODAY Community Credit Union Athlete of the Week for Oct 28-Nov 2 Brevard diners rave about experiences at Flavor on the Space Coast restaurants Heres what you need to know about Tuesdays municipal elections in Brevard County Save the turtles rally planned to oppose Satellite Beach hotel-condominium project Elon Musk wants humans to colonize space Brad Pitt shows thats easier said than done Google honors actor Will Rogers with new Doodle SpaceX targeting faster deployment of Starlink internet-beaming satellites Rockledge Cocoa hold while Merritt Island gains traction in state football polls Boeing launches and lands Starliner capsule for pad abort test in New Mexico Eight of the 10 most dangerous metro areas for pedestrians are in Florida report says Brevard faith leaders demand apology in open letter to Bill Mick How a Delaware researcher discovered a songbird can predict hurricane seasons Open doors change lives: United Way of Brevard kicks off 2019 campaign Florida man pleads guilty to killing sawfish by removing extended nose with power saw One-woman comedy Excuse My French at Viera Studio dives into authors mind Letters and feedback: Sept 19 2019 Viera talk will highlight technology used for dementia patients Adamson Road open after dump truck crash spilled sand and fuel one injured From the mob to mob movies with Robert De Niro: Meet Larry Mazza former hitman Irishman consultant Tropical Storm Jerry getting stronger in Atlantic; Hurricane Humberto nearing Bermuda Palm Bay Halloween party homicide suspect turns self in police say Fall playoffs: Satellite XC boys win region; Titusville swimmers second Sounds of celebration during Puerto Rican Day Parade in Palm Bay Tractor trailer fire extinguished on I-95 in Cocoa lanes open Logan Harvey bowls a 279 to help Astronaut beat Space Coast in battle of undefeated teams Letters and feedback: Sept 18 2019 Accelerated bargaining a bust as teachers union walks out on second day of pay talks Traffic Alert: Puerto Rican Day Parade set for Palm Bay County commissioners debate biosolids at first of two public hearings US 1 widening in Rockledge under study along with sidewalks and bike lanes Letters and feedback: Nov 3 2019 Titusville man indicted on first-degree murder charge Rockledge Cocoa lead 8 Brevard HS football teams into playoffs Space Coast Junior Achievement accepting business hall of fame nominations Why Brevards proposed moratorium on sewage sludge isnt enough |Rangel Brevard high school football standings after Week 4 Starbucks might build new store at old Checkers site in West Melbourne on US 192 Police search for Palm Bay shooting suspect in Orlando area Does your drivers license have a gold star? Well you need one Cocoa man charged with arson in blaze at triplex where 16 children were celebrating a birthday Unit and lot owners may inspect their ledgers upon written request Palm Bay veteran officer Nelson Moya chosen as police chief By the numbers: Your link to every state salary and what high ranking Florida officials make Longtime state county legislative aide Furru honored by County Commission Week 11: Rockledge pulls out BBQ win; EG Palm Bay Astro win rivalry games County commissioners allocate $446 million to repair South Beaches after Hurricane Dorian Tour of Brevard: Holy Trinity Tigers County Commission begins shakeup of its bloated advisory boards while adding term limits Mystery Jesus plaque washes ashore near Melbourne Beach thanks to Hurricane Humberto waves Widow of combat veteran who died after fight at Brevard Jail appeals to governor Health calendar: June 27-July 4 Going surfing this weekend? Check our wave forecast Have you ever seen a turtle release? Heres your chance Darkness turns to day as SpaceX Falcon Heavy launches from Kennedy Space Center Losing hair in strange places? It could be Alopecia areata Golf tip: Pairing and tee times on the PGA Tour NOAA updates projections saying above normal season could see 5-9 hurricanes 2-4 of them major Cape Canaveral Hospital relocation: Loss of a landmark hopeful future for healthcare and land How do I get adult child to move out start own life? The Atlas V rockets jellyfish in the sky Scores: High school football Week 11 in Brevard County Florida gator caught on camera munching on plastic at St Marks National Wildlife Refuge Q&A: New Melbourne head football coach Tony Rowell Does the First Amendment go too far? | Opinion FHSAA says it has a contingency plan if football associations strike but wont reveal it Tropical Depression Ten forms in central Atlantic; Hurricane Humberto continues to strengthen Updates: Watch SpaceX launch its Falcon Heavy rocket from Kennedy Space Center in Florida Letters and feedback: May 9 2019 The Good Stuff: Soccer star makes Wheaties cover cookies in space and more Highly anticipated pad abort test of Boeingâ€™s Starliner spacecraft is Monday morning Health calendar: Sept 19-26 Naked man running through Titusville Walmart parking lot arrested Lacking money and manpower West Melbourne considers swapping school SROs for armed guards Worst best airports in country: 3 Florida airports make Top 5 worst list Colorado STEM school shooting impacted my family: When will we say enough? | Bellaby Human ashes Legos and a sandwich: Strange things we sent into space Massive 2600-acre burn underway near Brevard County line Health Pro: Trip to Philippines validated nurses career decision Harry Anderson Palm Bays Sitting Man exposes gaps in helping the homeless Brevard School Board splits 4-1 in favor of district plan for teacher pay; union vows war Whos No 1? See the Brevard high school football rankings after Week 4 3 people taken into custody after multiple agencies tracked them at high speeds across Central Florida As dawn breaks over Florida ULA Atlas V rocket lights up morning sky Why breast cancer was called Nuns disease Space Coast-based Rocket Crafters partners with Swiss tech giant RUAG Investigation continues for Palm Bay double killing in 2018 Canâ€™t breastfeed? Tips to provide same nutrition to baby Former Florida Tech golfer Iacobelli wins playoff in Michigan for third pro title Baseball bliss every 50 years: Letâ€™s go Mets! Letâ€™s go Nats! 5 tips to make your holiday travel stress-free Updates: ULA launches Atlas V rocket military satellite from Cape Canaveral Andrew Reed bowls 274 in Eau Gallie win over Satellite Space industry propels Brevard economy into optimistic future; highlights from EDC investors meeting Governor DeSantis signs bill geared toward expanding vocational training Outage leaves 12500 customers without power in Melbourne for nearly an hour Weak cold front brings fall weather after unusually warm October on Space Coast 321 Launch: The space news you might have missed Teacher pay: Union opens pay talks with raise demand supplement for veteran teachers Tour of Brevard: Bayside Bears Youth fishing tournament coming Saturday to Melbourne President Trump heres what Hurricane Michael damage still looks like today Letters and feedback: Aug 8 2019 Man leads police on 100 mph chase through Melbourne Palm Bay Puerto Rican parade to take place this weekend in Palm Bay Viera-based USSSA Pride depart from pro softball league Tip of organized theft ring targeting boats motors leads to arrest of 3 men in Melbourne Multiple crashes slow I-95 traffic near Melbourne Is it time to reconsider how free speech should be? | Bill Cotterell SPCA of Brevard takes influx of cats and dogs from Glades County Brevard residents share some of their favorite recent dining experiences Tuesdays brewery running tour stops at Florida Beer Co in Cape Canaveral 89-year-old Tallahassee Grandma Bunny battles 6-foot snake after it eats visiting birds The horrors of Dorian parallel another nearby tragedy of historic proportions EFSCs Carter Stewart named NJCAA Region 8 Pitcher of the Week Titusville teenager charged with murder of grandfather If Trump bans vape flavors Brevard shops say theyll be out of business Cabana: NASAs Artemis is space explorations next giant leap | Opinion Florida continues cutting phone cords BSOs Confessore starting 25th year as music director High school sports results: May 7 Libraries busy with summer reading programs Four hurricanes in six weeks? Remember 2004 the year of hurricanes Letters and feedback: Nov 2 2019 Letters and feedback: May 8 2019 As Brevard kids head back to school here are five things to make lunchtime happy healthy Palm Bay police investigate overnight shooting that left one dead Rent takes the stage at two playhouses Cinderella Brighton Beach Memoirs arrive on Brevard stages this weekend Junes Saharan dust setting up right conditions for red tide but still too soon to tell Wizarding World of Harry Potter: Dark Arts unleashed on Hogwarts Castle at Universal Orlando Health First restructuring: What we know (and what we dont) From Jack in the Box to In-N-Out Burger: 7 restaurant chains missing in Florida SpaceX anomaly: No further action needed on Crew Dragon explosion cleanup Vietnam War mural pits residents vs Florida community Matter settled  unhappily British cruise line Marella to sail from Port Canaveral in 2021 Kids are at risk as religious exemptions to vaccines spike in Florida Brevard County crime rate falls in 2018 reflecting statewide trend according to FDLE report Florida-Georgia FSU-Miami: Why Saturday afternoon is a college football party in Florida Restaurants in Viera Suntree Port Canaveral Palm Bay Melbourne Beach draw Flavor raves Vote for the FLORIDA TODAY Community Credit Union Athlete of the Week for Sept 9-14 Whats happening May 15-21: Concert in Cocoa summer camps fun fair in Melbourne Port Authority Secretary/Treasurer Harvey seeks more public input at evening meetings SpaceX Falcon Heavy rocket launch: Where to watch from Space Coast Treasure Coast Volusia County Tallahassee Here are 10 of Arizonas most photogenic spots Some of them might surprise you Rockledge police search for suspects after armed robbery Kardashian production features Palm Bay homicide involving sisters-in-law FLORIDA TODAY journalist The holidays are almost here; Space Coast cooks are prepping special meals now How to watch tonights SpaceX Falcon Heavy launch from Kennedy Space Center in Florida New state budget spending wish list includes bug studies lionfish contests stronger coastlines Wheaties: Team USA soccer star Ashlyn Harris make cereal cover and it costs $23 a box Letter carriers Stamp Out Hunger food drive is Saturday May 11 Suzy Fleming Leonard: Fourth-graders talk about journalism share favorite restaurants Falcon Heavys night launch may be seen across portion of Sunshine State Police: Palm Bay teacher jerked autistic student from bus faces abuse charge Kicking axe: Urban axe throwing makes its debut in Brevard as trending sport stress reliever Palm Bay official Andy Anderson hired as Mexico Beach city administrator on Florida Panhandle Daddy Duty: Are we celebrating Mothers Day the right way? Father of 6 dies trying to save sons from rip current in Cocoa Beach Its time we address lack of affordable housing on Space Coast | Opinion Orlando Pride soccer player from Brevard diagnosed with breast cancer Space Coast bus system: Lets peck away at this problem County Commission chair says Do lovebugs have a purpose beyond annoying us all twice a year? Hurricane Humberto continues to strengthen swells expected to affect East-Central Florida surf One more launch this week; Things to know about ULA Atlas V launch from Cape Canaveral Free self-defense class for women this Friday in Cocoa Beach The farce behind blaming video games for El Paso Dayton mass shootings | Rangel Teacher pay talks take new shape as school district and union vow to work together First-place USSSA Pride on hot streak; Bennett on ESPNs Top Plays A legacy of giving: When it comes to giving back Judy and Bryan Roub lead by example Staph infection can come from ocean water beach sand; Florida man gets it from sandbar Its Launch Day! Things to know about SpaceX Falcon Heavy launch from Kennedy Space Center Viera 6 more Brevard HS softball teams enter playoffs Enjoy Jack Daniels tastings in Cocoa Village and Melbourne this month Brevard County location comes in at No 7 on list of US cities that get the most sun Letters and feedback: Oct 31 2019 Vietnam veteran receives settlement from Veterans Affairs  after waiting 20 years Brevard restaurants with outdoor seating wage war against lovebugs Aldi adds beer sparkling wine and dog treats to its collection of Advent calendars If millennials choose socialism fine Just dont make this mistake Gardening: Adding a tree to your Florida landscape? Southern redcedar is a great option Big Brevard high school football rivalries vary in postseason implications 6 hurricanes and 12 named storms predicted for remainder of 2019 hurricane season Cocoa man suspected of firing shots with unwitting mother in tow faces multiple charges Dogs on the beach? County Commission rejects proposal to allow dogs on South Brevard beaches Letters and feedback: Sept 15 2019 Despite weather odds SpaceX launches Falcon 9 rocket from Cape Canaveral Cyberstalking of alleged battery victim lands Rockledge man back in jail Winds are coming back again but inshore fishing is excellent for redfish and trout Exclusive: Trump administration sets plans for 2019 hurricane season after wakeup call of recent disasters Melting Pot: Intimacy of a shared meal makes this Viera spot perfect for date night The Chefs Table: Fine meat seafood draw diners to this Suntree favorite Holmes nurse arrested accused of sexual battery on a patient Tour of Brevard: Satellite Scorpions Djons Steak & Lobster House: Discover old-Florida elegance in Melbourne Beach restaurant Judicial Nominating Commission chair resigns claims governors office interfered with independence Medical marijuana firms seek to open more storefronts in Florida Brevard School votes 4-1 to support superintendents plan for teacher raises; audience not happy Tracking Brevards stars: Arena football champ UCF star PBA rookie lead the way Brevard school district miscalculated attrition savings finds $15 million for teacher pay Brevard high school cross country honor roll Oct 31 NASA Kennedy Space Center team wins Emmy for coverage of SpaceX mission Golf tip: Making adjustments to correct your swing Cruise ship rescues and mishaps: 6 times emergency struck on Royal Caribbean Carnival more Updates: SpaceX launches Falcon 9 from Cape Canaveral Air Force Station Secular group challenges In God We Trust motto on Brevard sheriffs patrol vehicles Chemicals in sunscreen seep into your bloodstream after just one day FDA says Cottage Rose mural dispute resolved in Indialantic after owner applies for permit Humberto strengthens into a hurricane as it moves away from Space Coast; NHC watching 2 more Planting herbs to cutting back on water heres what to do in your Brevard yard this month Viera Suntree Little League team heads to Michigan for Junior World Series We must prevent human trafficking through education | Opinion Please dont eat the deer Family spots Florida panther wandering around Estero backyard Man found hanging onto side of kayak in Atlantic Ocean off Patrick Air Force Base SpaceX set to launch Falcon Heavy on mission with 24 payloads â€“\\xa0including human ashes Erin Baird is 2019 Volunteer of the Year finalist in FLORIDA TODAY Volunteer Recognition Awards ZZ Top Steve Martin and Martin Short coming to King Center Needy Brevard students sleep easier on new beds donated from Ashley HomeStore These fitness trends are worth sticking with over time Florida saw fewer infections from Vibrio vulnificus (aka flesh-eating bacteria) in 2018 Health calendar: April 25-May 2 Young actresses shine in Matilda at Titusville Playhouse Freshman quarterback Gabriel leads UCF over Stanford in Orlando John Daly is 2019 Volunteer of the Year finalist in FLORIDA TODAY Volunteer Recognition Awards Health Pro: Doctors interest grew out of childhood health issues More strong storms move eastward over Brevard; funnel clouds possible in Viera Nurse at Holmes Regional Medical Center arrested on suspicion of sexual battery Strong isolated showers heat impacting Brevard County Brevard firefighters widow wins $9 million verdict in Dominos Pizza delivery death Housing providers may be prohibited from rejecting renters on basis of arrest record 10-foot great white shark Miss May pings off Satellite Beach Palm Bay man 22 dies in overnight crash on Floridas Turnpike Tamara Carroll is 2019 Volunteer of the Year finalist in FLORIDA TODAY Volunteer Recognition Awards Tropical Storm Humberto not expected to affect Space Coast; NHC watching two more disturbances Theater veteran Blackledge passes away unexpectedly Ten dead issues from the 2019 legislative session Letters and feedback: June 23 2019 Rockledge Cocoa win big as Space Coast takes Holy Trinity in OT Surfers can enjoy chest-high waves most of weekend in Brevard Plan ahead for Aug 14-20: Space Coast Symphony performs Mikado Chef Larry tweaks hours Daylight saving time ends on Nov 3 Here are 7 facts to know about the time change Two new Royal Caribbean ships including second largest in world move to Port Canaveral Fla Sen Debbie Mayfield files bill to define e-cigarettes liquid nicotine as tobacco products Escape the hustle and bustle for a western getaway Missing Palm Bay teen found in South Carolina; mother arrested police say Impossible burger Impossible Cottage Pie make 2019 Epcot Food and Wine Festival menu Got bats? Why you need to get rid of them by Tax Day 2 charged with attempted murder; Titusville police say they pistol-whipped waterboarded force-fed him dog food Bicyclist dies in hit-and-run crash on US 1 near Cocoa Group: St Johns River pollution threatens water supplies Rockledge man charged after hoax to shoot up Merritt Island Walmart Man awarded $80M in lawsuit claiming Monsantos Roundup causes cancer Astronauts Alisa Rendina won FLORIDA TODAY Community Credit Union Athlete of the Week vote Alligators and airboats: How to explore Everglades National Park in one day Longtime educator church mother and humanitarian Johnnie Mae Riley remembered in Palm Bay George Clooney astronauts to attend black-tie event at Kennedy Space Center High school sports results: March 27 Bill Nye visits Cocoa Beach ahead of SpaceX Falcon Heavy launch from Kennedy Space Center Health First to relocate Cape Canaveral Hospital to Merritt Island open new facilities Letters and feedback: Aug 7 2019 Duran to host top area amateur golfers this weekend Buckaroo Ball benefits Harmony Farms Get ready to rumble: Atlas V blasting off early Thursday morning War on lovebugs: Social media reactions tweets memes about pesky bugs cars windshields Master association that contains condominiums may be able to collect capital contribution The new LEGO Movie World opens at LEGOLAND River Rocks: Enjoy fresh seafood and river views at this Rockledge tradition March 27: Panthers Walk It Off 10 takeaways from the presidents campaign kickoff visit to Orlando Cocoa man arrested on manslaughter charges after Sharpes shooting Corrections & Clarifications Accused burglars hit five south Brevard stores before Melbourne officer shot one of them Brevard family to receive Filipino World War II veterans Congressional Gold Medal NASA: Want to go to the moon in five years? We need more money How to REALLY clean lovebugs off your windshield car house Top party schools: Florida Florida State make it to top of Princeton Reviews 2020 list Live scores: High school football Week 4 in Brevard County Restaurant inspections: Happy Kitchen in West Melbourne Divine Grace in Palm Bay closed after inspections School district sticks to $770 raise offer for teachers; special magistrate getting involved Candidate lineup is set for 2019 municipal special district elections in Brevard Death investigation underway after mans body found in Titusville ditch November hurricane forecast: Season not technically over but its over | WeatherTiger Tyndall Air Force Bases future remains uncertain after devastation from Hurricane Michael Whats behind a low performing school? Crummy parents | Opinion Well known Chevrolet dealership has The Right Stuff Lovebugs are back Many hate them Experts say theyre here for good The lax disciplinary policies that caused\\xa0Parkland massacre may have spread to your school Port Canaveral commissioners tackle parking issues: 10 things to know Melbourne woman injured in crash dies from her injuries; police looking for witnesses Senate President Galvano calls for Florida lawmakers to focus on mass shootings Governor DeSantis approves $91 billion budget slashes $133 million in local projects Letters and feedback: March 28 2019 Vote for 321prepscom Community Credit Union Athlete of the Week for April 29-May 4 South Patrick Shores approved for federal cleanup program Island H2O Live! water park in Kissimmee opens: Make the plunge or chill in lazy river Travis Proctor is 2019 Citizen of the Year finalist in FLORIDA TODAY Volunteer Recognition Awards Vietnam War 50th anniversary to be remembered at Cape Canaveral National Cemetery Its launch day! Things to know about SpaceX Falcon 9 launch from Cape Canaveral NASA gave Artemis contractors bonuses despite delays and cost overruns GAO says Michael Bloom is 2019 Citizen of the Year finalist in FLORIDA TODAY Volunteer Recognition Awards Health Pro: Eye doctor honed skills on aircraft carrier Brevard pitchers fare well in state horseshoe event The real reason NASAs all-female spacewalk is not happening Hint: Its not discrimination Port Canaveral aquarium the best use of tourism dollars | Opinion SpaceX Falcon Heavy will carry worlds first green rocket fuel mission School District union at odds on whats actually available for teacher raises | Opinion Nuclear power is too costly and too risky Jarvis Wash is 2019 Citizen of the Year finalist in FLORIDA TODAY Volunteer Recognition Awards SpaceX Dragon installed at ISS after launch from Cape Canaveral Rare phenomenon: Hail damage from unusual thunderstorm has Brevard residents talking Signs you live on the Space Coast Titusville couple charged with neglect after infant found malnourished Health coaches a personal way to help you meet goals New Viera elementary school to break ground in fall fast-tracked to open August 2020 Phase out nuclear power? Elizabeth Warren and Bernie Sanders locked in absurd arms race Strange days: Space Coast gets freak hail flaming meteor mysterious rumble red tide over 6 months Four women arrested on prostitution charges in ongoing Melbourne enforcement detail Whose name is on deed - partner or spouse? It matters a lot Florida should steer clear of drug importation from other countries | Opinion Melbourne police investigate Palm Bay Road shooting Brevard bowlers head to state tournament off district wins Florida Historical Societys May 16-18 conference: Countdown to History: Ice Age to the Space Age Turning the Toxic Tide: Florida must address the problem of human waste Contributions pour in to group seeking to ban possession sale of assault weapons in Florida Why Disney World sweets treats desserts are SO worthy of Instagram Satellite Beach girl 10 leads charge for organ donation Poliakoff: Community development district offers different advantages and disadvantages to an HOA Florida Tech in Melbourne hosts International Dinner with food from South Latin America From discovering water to snapping selfies: The lasting memories of Mars rover Opportunity Charges dropped against Texas man after comments against Cocoa Beach hotel werent direct specific threat Brevard Federation of Teachers just cant say yes to raise offers | Opinion How Mars Opportunity rover ranks in list of more than 1000 unmanned space missions by NASA since 1958 321 Flavor members rave about Fresh Scratch Bistro Sushi Factory and Beachside Seafood Texas man recovering after shark bite in Florida Buckeye the manatee rescued again by SeaWorld Rain hail pelts north central Brevard County causing widespread damage Regulators approve merger of Harris L3; deal to close June 29 Teachers approve largest pay raise in years but will it keep them in Brevard? Restaurant review: Continental Flambe in Melbourne shows great promise Weak cool front could bring torrential rain damaging winds to Space Coast Officials: Removing Beachline earthen causeways would improve Banana River water quality Buzz Aldrins outfit is everything in photo of last remaining Apollo astronauts Voting Republican only helps if youre rich | Opinion Homelessness: A national problem with a local solution EPA plans to regulate cancer-causing chemicals found in Americas drinking water UCF has chance to wow recruits playoff voters with a win over Stanford Ping-pong-sized hail pounds Space Coast as severe thunderstorms move through area Harris CEO optimistic about merger finances as deal with L3 nears completion March 26: EFSCâ€™s Carter Stewart named NJCAA Region VIII Pitcher of the Week Knife-wielding suspect leads deputies officers on foot chase in Melbourne 4 Brevard winners in girls regional basketball Thursday March 26: Womenâ€™s Golf Finishes Runner-Up at Barry Invite Some seek healing remembrance at arrival of Vietnam War replica wall High school sports results: March 26 Following surge in discipline problems Brevard students ask lawmakers to address vaping in schools Titusville man 21 pronounced dead after trying to make a U-turn on South Street Donald Trumps criminal justice reform shows results | Opinion Florida cold case solved 22 years later after Google Earth satellite image shows missing mans car Health calendar: Aug 8-15 Tracking Brevards stars: Harris to World Cup; Dawson in golf hunt; Allen Taylor hitting 300 Satellite Beach hotel condo towers homes slated for 27 acres by Hightower Beach park Letters and feedback: Sept 14 2019 Mike Martin Jr to be named Florida States new baseball coach Golf tip: Hit down on hybrids similar to how you hit an iron Stormy weather moves across Space Coast bringing lightning heavy rain Commission OKs pay raises for 625 county employees to address disparities turnover High school sports results: Feb 14 weVENTURE is 2019 Organization of the Year finalist in FLORIDA TODAY Volunteer Recognition Awards Man taken to hospital after domestic incident in Titusville Brevard school district considers selling $800000 in unused land Weather looks OK for SpaceX Falcon Heavy launch from Kennedy Space Center 321 Flavor: Margarita tops the list of Brevards favorite cocktails UCF experiment and Citronaut fly to space on Blue Origins New Shepard Bridges sex assault: Victimâ€™s family sues nonprofit caregiver over pregnancy Sheriff Ivey and Brevard emergency officials send mixed messages during Dorian New proposal on dog cat sales at pet stores is less restrictive than previous one Space Coast Honor Flight is 2019 Organization of the Year finalist in FLORIDA TODAY Volunteer Recognition Awards It goes by so quickly: Brevard teachers back to work as days count down to school County commissioners reject lagoon funding plan saying they want less money for muck projects Yuck! Hypodermic needles stabbing employees inside Brevard recycling plant Hard-line anti-illegal immigration group works to sway sanctuary cities bill Titusville High School principal retires amid accusations of hostile environment Pol Potâ€™s deputy Nuon Chea architect of bloody Khmer Rouge policy dead at 93 in Cambodia NASAs new goal: Land astronauts on the moon by 2024 Going surfing this weekend? Check our forecast Neighbor Up is 2019 Organization of the Year finalist in FLORIDA TODAY Volunteer Recognition Awards Severe storms bring wind lightning and possible hail across Brevard Starbucks in Indialantic West Melbourne may move to larger stores with drive-thru windows SpaceX Falcon Heavy: Why everyone should watch this night launch from Kennedy Space Center Fishing report: Calm seas and good fishing ahead Two World Series commercials feature Brevard celebrities Letters and feedback: May 5 2019 In latest motion US Attorney confirms multiple investigations in Tallahassee Lane 70 softball team wins spring tournament Palm Bay police double down on nightclub safety following four violent episodes Relativity Space signs deal to deliver small satellites to more orbits HBO documentary new surf movie spotlight surf legends Kelly Slater Hobgood twins Plan ahead for April 3-10: Music in Melbourne adult prom in Titusville; art in Eau Gallie Family grieves woman fatally struck by car near Lous Blues bar in Melbourne At Cape Canaveral SpaceX kicks off Star Wars Day with smoke and fire Updates: SpaceX launches Falcon 9 from Cape Canaveral to ISS sticks drone ship landing Letters and feedback: March 27 2019 Florida Tech to host event celebrating Apollo 11 anniversary and future of US space program Boeing on Starliner orbital flight test: We really are close Florida Tech spring football game set for Saturday Feb 14: EFSC womenâ€™s golfer Kacey Walker nominated for 2019 Arnold Palmer Cup Four Panthers Selected to All-SSC Teams Heavy winds and lightning to hit north Brevard County How Ron DeSantis is shaking up the establishment | Opinion High school sports results: May 3 Palm Bay man who asked woman for permission to have illicit sexual encounter with child sentenced Letters and feedback: June 22 2019 Air Force pumped for two launches less than 48 hours apart Heres why NASA scrubbed all-female spacewalk Plan ahead for Nov 6-12: Holiday bazaar in Suntree pet events art openings and food fun Edgewoods Jon Wang shoots one under par for second time this week Burglar steals bolted safe from Melbourne bar in latest smash-and-grab Feb 14: Florida Tech Suffers Last-Second Heartbreaker Against Saint Leo Daddy Duty: My school cheating scandal is an example for my 4-year-old Tropical Storm Humberto forms but isnt expected to affect Space Coast Air Force weather squadron key player in ensuring successful rocket launches Ronsisvalle: Getting through to the disconnected husband How to watch SpaceX launch its Falcon 9 rocket from Cape Canaveral Air Force Station Members of Brevards Bahai Faith community come together to commemorate twin holy days A&Es Tiny House Nation to feature Melbourne tiny home builder Movable Roots Lawmakers grapple with felons voting rights All-female spacewalk canceled due to lack of medium-sized spacesuits Twitter reacts Medical marijuana and 3 other school district policy changes you should know about Felons rights bill heads to Gov DeSantis Lanes open delays persist after Crash on I-95 near Wickham Road Former UCF chair resigns day after Rep Randy Fine proposes UC'"
      ],
      "execution_count": 76,
      "outputs": []
    },
    {
      "cell_type": "code",
      "metadata": {
        "colab": {
          "base_uri": "https://localhost:8080/"
        },
        "id": "iPxx_9qiIAQt",
        "outputId": "ed1cb67d-fe92-4d5e-ebeb-a3259520a3d2"
      },
      "source": [
        "# creating spacy doc\n",
        "news_doc=nlp(news_articles)\n",
        "# creating an empty list to store people's names\n",
        "list_of_people=[]\n",
        "\n",
        "# iterating through every token in news_doc\n",
        "for token in news_doc:\n",
        "  # checking if category matches\n",
        "  if token.ent_type_=='PERSON':\n",
        "    # appending to list if PERSON\n",
        "    list_of_people.append(token.text)\n",
        "\n",
        "print(list_of_people)"
      ],
      "execution_count": 77,
      "outputs": [
        {
          "output_type": "stream",
          "text": [
            "['Kelly', 'Slater', 'Elon', 'Musk', 'Brad', 'Pitt', 'Will', 'Rogers', 'Bill', 'Mick', 'United', 'Way', 'Viera', 'Studio', 'Viera', 'Robert', 'De', 'Niro', 'Larry', 'Mazza', 'hitman', 'Tropical', 'Storm', 'Jerry', 'Logan', 'Harvey', 'Astronaut', 'beat', 'Space', 'Coast', 'Titusville', 'Nelson', 'Moya', 'Jesus', 'Alopecia', 'Atlas', 'New', 'Melbourne', 'Tony', 'Rowell', 'Titusville', 'Walmart', 'Harry', 'Anderson', 'Palm', 'Bays', 'Iacobelli', 'Atlas', 'Andrew', 'Reed', 'Eau', 'Gallie', 'DeSantis', 'Trump', 'Bill', 'Cotterell', 'Bunny', 'Carter', 'Stewart', 'Brevard', 'Cinderella', 'Brighton', 'Jack', 'Box', 'Marella', 'Treasurer', 'Harvey', 'Ashlyn', 'Harris', 'Suzy', 'Fleming', 'Falcon', 'Heavys', 'Andy', 'Anderson', 'Brevard', 'Lets', '|', 'Rangel', 'Teacher', 'Bennett', 'Judy', 'Bryan', 'Roub', 'Staph', 'Viera', 'Enjoy', 'Jack', 'Daniels', 'Aldi', 'Melting', 'Pot', ':', 'Viera', 'Holmes', 'Estero', 'Erin', 'Baird', 'Steve', 'Martin', 'Martin', 'Short', 'Ashley', 'HomeStore', 'Vibrio', 'Gabriel', 'John', 'Daly', 'Aug', 'Mikado', 'Chef', 'Larry', 'Titusville', 'Alisa', 'Rendina', 'Bill', 'Nye', 'Atlas', 'Brevard', 'Melbourne', 'Galvano', 'DeSantis', 'Travis', 'Proctor', 'Michael', 'Bloom', 'Jarvis', 'Wash', 'New', 'Viera', 'Elizabeth', 'Warren', 'Bernie', 'Sanders', 'Melbourne', 'Florida', 'Tech', 'Harris', 'L3', 'Continental', 'Flambe', 'Removing', 'Beachline', 'Buzz', 'Aldrins', 'Stanford', 'Ping', '-', 'pong', 'Harris', 'Stewart', 'Titusville', 'Harris', 'Dawson', 'Allen', 'Taylor', 'Mike', 'Martin', 'Jr', 'Margarita', 'Yuck', 'Pol', 'Nuon', 'Chea', 'Kelly', 'Slater', 'Eau', 'Gallie', 'Family', 'Kacey', 'Walker', 'Ron', 'DeSantis', 'Edgewoods', 'Jon', 'Wang', 'Crash']\n"
          ],
          "name": "stdout"
        }
      ]
    },
    {
      "cell_type": "markdown",
      "metadata": {
        "id": "z1wFL3QOLR86"
      },
      "source": [
        "Also, in many cases you do not want the actual details to be published. So, what if you want to replace every person’s name or organization with ‘UNKNOWN’ to preserve privacy."
      ]
    },
    {
      "cell_type": "code",
      "metadata": {
        "colab": {
          "base_uri": "https://localhost:8080/",
          "height": 126
        },
        "id": "1aA0A9aMINvN",
        "outputId": "12c41141-3cfa-4fbf-b55e-4b3bd86b48ba"
      },
      "source": [
        "# Function to identify  if tokens are named entities and replace them with UNKNOWN\n",
        "def remove_details(word):\n",
        "    if word.ent_type_ == \"PERSON\" or word.ent_type_ == 'ORG' or word.ent_type_ == 'GPE':\n",
        "        return ' UNKNOWN '\n",
        "    return word.string\n",
        "\n",
        "# Function where each token of spacy doc is passed through remove_deatils()\n",
        "def update_article(doc):\n",
        "    # iterating through all named entities\n",
        "    for ent in doc.ents:\n",
        "        ent.merge()\n",
        "    # Passing each token through remove_details() function.\n",
        "    tokens = map(remove_details,doc)\n",
        "    return ''.join(tokens)\n",
        "\n",
        "# Passing our news_doc to the fucntion update_article()\n",
        "update_article(news_doc)\n"
      ],
      "execution_count": 79,
      "outputs": [
        {
          "output_type": "execute_result",
          "data": {
            "application/vnd.google.colaboratory.intrinsic+json": {
              "type": "string"
            },
            "text/plain": [
              "'Restaurant inspections: Space Coast establishments fare well with no closures or vermin Despite strong talk  UNKNOWN has a lot more to do for Indian River Lagoon | Opinion  UNKNOWN -coached surfer from  UNKNOWN wins national title in  UNKNOWN Despite parachute mishap  UNKNOWN Starliner pad abort test a success Vote for  UNKNOWN of the Week for Oct 28-Nov 2 Brevard diners rave about experiences at  UNKNOWN what you need to know about Tuesdays municipal elections in  UNKNOWN Save the turtles rally planned to oppose  UNKNOWN hotel-condominium project  UNKNOWN wants humans to colonize space  UNKNOWN shows thats easier said than done  UNKNOWN honors actor  UNKNOWN with new Doodle SpaceX targeting faster deployment of Starlink internet-beaming satellites Rockledge Cocoa hold while  UNKNOWN gains traction in state football polls  UNKNOWN launches and lands Starliner capsule for pad abort test in  UNKNOWN Eight of the 10 most dangerous metro areas for pedestrians are in  UNKNOWN report says Brevard faith leaders demand apology in open letter to  UNKNOWN How a  UNKNOWN researcher discovered a songbird can predict hurricane seasons Open doors change lives:  UNKNOWN of  UNKNOWN kicks off 2019 campaign  UNKNOWN man pleads guilty to killing sawfish by removing extended nose with power saw One-woman comedy Excuse My French at  UNKNOWN dives into authors mind Letters and feedback: Sept 19 2019  UNKNOWN talk will highlight technology used for dementia patients Adamson Road open after dump truck crash spilled sand and fuel one injured From the mob to mob movies with  UNKNOWN : Meet  UNKNOWN former  UNKNOWN Irishman consultant  UNKNOWN getting stronger in Atlantic; Hurricane Humberto nearing Bermuda Palm Bay Halloween party homicide suspect turns self in police say Fall playoffs: Satellite XC boys win region;  UNKNOWN swimmers second Sounds of celebration during Puerto Rican Day Parade in Palm Bay Tractor trailer fire extinguished on I-95 in  UNKNOWN lanes open  UNKNOWN bowls a 279 to help  UNKNOWN in battle of undefeated teams Letters and feedback: Sept 18 2019 Accelerated bargaining a bust as teachers union walks out on second day of pay talks Traffic Alert: Puerto Rican Day Parade set for Palm Bay County commissioners debate biosolids at first of two public hearings  UNKNOWN widening in  UNKNOWN under study along with sidewalks and bike lanes Letters and feedback: Nov 3 2019  UNKNOWN man indicted on first-degree murder charge Rockledge Cocoa lead 8 Brevard HS football teams into  UNKNOWN accepting business hall of fame nominations Why Brevards proposed moratorium on sewage sludge isnt enough |Rangel Brevard high school football standings after Week 4 Starbucks might build new store at old  UNKNOWN site in  UNKNOWN on  UNKNOWN 192 Police search for Palm Bay shooting suspect in  UNKNOWN area Does your drivers license have a gold star? Well you need one  UNKNOWN man charged with arson in blaze at triplex where 16 children were celebrating a birthday Unit and lot owners may inspect their ledgers upon written request Palm Bay veteran officer  UNKNOWN chosen as police chief By the numbers: Your link to every state salary and what high ranking  UNKNOWN officials make Longtime state county legislative aide  UNKNOWN honored by  UNKNOWN Week 11: Rockledge pulls out  UNKNOWN win; EG Palm Bay Astro win rivalry games County commissioners allocate $446 million to repair South Beaches after Hurricane Dorian Tour of Brevard: Holy Trinity Tigers County Commission begins shakeup of its bloated advisory boards while adding term limits Mystery  UNKNOWN plaque washes ashore near  UNKNOWN thanks to Hurricane Humberto waves Widow of combat veteran who died after fight at  UNKNOWN appeals to governor Health calendar: June 27-July 4 Going surfing this weekend? Check our wave forecast Have you ever seen a turtle release? Heres your chance Darkness turns to day as SpaceX  UNKNOWN Heavy launches from Kennedy Space Center Losing hair in strange places? It could be  UNKNOWN areata Golf tip: Pairing and tee times on  UNKNOWN NOAA updates projections saying above normal season could see 5-9 hurricanes 2-4 of them major  UNKNOWN relocation: Loss of a landmark hopeful future for healthcare and land How do I get adult child to move out start own life? The  UNKNOWN V rockets jellyfish in the sky Scores: High school football Week 11 in  UNKNOWN  UNKNOWN gator caught on camera munching on plastic at  UNKNOWN :  UNKNOWN head football coach  UNKNOWN Does the First Amendment go too far? | Opinion FHSAA says it has a contingency plan if football associations strike but wont reveal it Tropical Depression Ten forms in central Atlantic; Hurricane Humberto continues to strengthen Updates: Watch SpaceX launch its  UNKNOWN Heavy rocket from Kennedy Space Center in  UNKNOWN Letters and feedback: May 9 2019 The Good Stuff: Soccer star makes  UNKNOWN cover cookies in space and more Highly anticipated pad abort test of Boeingâ€™s Starliner spacecraft is Monday morning Health calendar: Sept 19-26 Naked man running through  UNKNOWN parking lot arrested Lacking money and manpower  UNKNOWN considers swapping school SROs for armed guards Worst best airports in country: 3  UNKNOWN airports make Top 5 worst list  UNKNOWN STEM school shooting impacted my family: When will we say enough? | Bellaby Human ashes Legos and a sandwich: Strange things we sent into space Massive 2600-acre burn underway near  UNKNOWN line Health Pro: Trip to  UNKNOWN validated nurses career decision  UNKNOWN Sitting Man exposes gaps in helping the homeless  UNKNOWN splits 4-1 in favor of district plan for teacher pay; union vows war Whos No 1? See the  UNKNOWN high school football rankings after Week 4 3 people taken into custody after multiple agencies tracked them at high speeds across Central Florida As dawn breaks over Florida ULA Atlas V rocket lights up morning sky Why breast cancer was called  UNKNOWN disease Space Coast-based  UNKNOWN partners with Swiss tech giant  UNKNOWN continues for Palm Bay double killing in 2018 Canâ€™t breastfeed? Tips to provide same nutrition to baby Former  UNKNOWN Tech golfer  UNKNOWN wins playoff in  UNKNOWN for third pro title Baseball bliss every 50 years: Letâ€™s go Mets! Letâ€™s go  UNKNOWN ! 5 tips to make your holiday travel stress-free Updates:  UNKNOWN launches  UNKNOWN V rocket military satellite from Cape Canaveral  UNKNOWN bowls 274 in  UNKNOWN win over  UNKNOWN industry propels Brevard economy into optimistic future; highlights from  UNKNOWN investors meeting Governor  UNKNOWN signs bill geared toward expanding vocational training  UNKNOWN leaves 12500 customers without power in  UNKNOWN for nearly an hour Weak cold front brings fall weather after unusually warm October on Space Coast 321 Launch: The space news you might have missed Teacher pay: Union opens pay talks with raise demand supplement for veteran teachers  UNKNOWN Bayside Bears Youth fishing tournament coming Saturday to  UNKNOWN President  UNKNOWN heres what  UNKNOWN damage still looks like today Letters and feedback: Aug 8 2019 Man leads police on 100 mph chase through  UNKNOWN  UNKNOWN parade to take place this weekend in Palm Bay Viera-based  UNKNOWN Pride depart from pro softball league Tip of organized theft ring targeting boats motors leads to arrest of 3 men in  UNKNOWN Multiple crashes slow I-95 traffic near  UNKNOWN Is it time to reconsider how free speech should be? |  UNKNOWN SPCA of Brevard takes influx of cats and dogs from  UNKNOWN residents share some of their favorite recent dining experiences Tuesdays brewery running tour stops at  UNKNOWN in  UNKNOWN 89-year-old  UNKNOWN Grandma  UNKNOWN battles 6-foot snake after it eats visiting birds The horrors of Dorian parallel another nearby tragedy of historic proportions EFSCs  UNKNOWN named  UNKNOWN Region 8 Pitcher of the Week Titusville teenager charged with murder of grandfather If Trump bans vape flavors Brevard shops say theyll be out of business  UNKNOWN : NASAs Artemis is space explorations next giant leap  UNKNOWN  UNKNOWN continues cutting phone cords BSOs Confessore starting 25th year as music director High school sports results: May 7 Libraries busy with summer reading programs Four hurricanes in six weeks? Remember 2004 the year of hurricanes Letters and feedback: Nov 2 2019 Letters and feedback: May 8 2019 As  UNKNOWN kids head back to school here are five things to make lunchtime happy healthy Palm Bay police investigate overnight shooting that left one dead Rent takes the stage at two playhouses  UNKNOWN Beach Memoirs arrive on  UNKNOWN stages this weekend Junes Saharan dust setting up right conditions for red tide but still too soon to tell  UNKNOWN of Harry Potter: Dark Arts unleashed on  UNKNOWN at  UNKNOWN restructuring: What we know (and what we dont) From  UNKNOWN in the  UNKNOWN to In-N-Out Burger: 7 restaurant chains missing in  UNKNOWN SpaceX anomaly: No further action needed on Crew Dragon explosion cleanup Vietnam War mural pits residents vs  UNKNOWN community Matter settled  unhappily British cruise line  UNKNOWN to sail from  UNKNOWN in 2021 Kids are at risk as religious exemptions to vaccines spike in  UNKNOWN crime rate falls in 2018 reflecting statewide trend according to  UNKNOWN report  UNKNOWN - UNKNOWN FSU-Miami: Why Saturday afternoon is a college football party in  UNKNOWN in  UNKNOWN Suntree Port Canaveral Palm Bay  UNKNOWN draw  UNKNOWN raves Vote for  UNKNOWN of the Week for Sept 9-14 Whats happening May 15-21: Concert in  UNKNOWN summer camps fun fair in  UNKNOWN Secretary/ UNKNOWN seeks more public input at evening meetings SpaceX  UNKNOWN Heavy rocket launch: Where to watch from Space Coast Treasure Coast Volusia County  UNKNOWN Here are 10 of  UNKNOWN most photogenic spots Some of them might surprise you Rockledge police search for suspects after armed robbery Kardashian production features Palm Bay homicide involving sisters-in-law  UNKNOWN TODAY journalist The holidays are almost here; Space Coast cooks are prepping special meals now How to watch tonights SpaceX  UNKNOWN Heavy launch from  UNKNOWN in  UNKNOWN New state budget spending wish list includes bug studies lionfish contests stronger coastlines Wheaties:  UNKNOWN soccer star  UNKNOWN make cereal cover and it costs $23 a box Letter carriers Stamp Out Hunger food drive is Saturday May 11  UNKNOWN Leonard: Fourth-graders talk about journalism share favorite restaurants  UNKNOWN night launch may be seen across portion of  UNKNOWN : Palm Bay teacher jerked autistic student from bus faces abuse charge Kicking axe: Urban axe throwing makes its debut in  UNKNOWN as trending sport stress reliever Palm Bay official  UNKNOWN hired as  UNKNOWN city administrator on  UNKNOWN Panhandle Daddy Duty: Are we celebrating Mothers Day the right way? Father of 6 dies trying to save sons from rip current in  UNKNOWN Its time we address lack of affordable housing on Space Coast | Opinion  UNKNOWN Pride soccer player from  UNKNOWN diagnosed with breast cancer Space Coast bus system:  UNKNOWN peck away at this problem  UNKNOWN chair says Do lovebugs have a purpose beyond annoying us all twice a year? Hurricane Humberto continues to strengthen swells expected to affect East-Central Florida surf One more launch this week; Things to know about ULA Atlas V launch from  UNKNOWN Free self-defense class for women this Friday in  UNKNOWN The farce behind blaming video games for  UNKNOWN mass shootings  UNKNOWN pay talks take new shape as school district and union vow to work together First-place USSSA Pride on hot streak;  UNKNOWN on ESPNs Top Plays A legacy of giving: When it comes to giving back  UNKNOWN and  UNKNOWN lead by example  UNKNOWN infection can come from ocean water beach sand;  UNKNOWN man gets it from sandbar Its Launch Day! Things to know about SpaceX  UNKNOWN Heavy launch from Kennedy Space Center  UNKNOWN 6 more  UNKNOWN softball teams enter playoffs  UNKNOWN tastings in  UNKNOWN and  UNKNOWN this month  UNKNOWN location comes in at No 7 on list of  UNKNOWN cities that get the most sun Letters and feedback: Oct 31 2019  UNKNOWN veteran receives settlement from  UNKNOWN  after waiting 20 years Brevard restaurants with outdoor seating wage war against lovebugs  UNKNOWN adds beer sparkling wine and dog treats to its collection of Advent calendars If millennials choose socialism fine Just dont make this mistake Gardening: Adding a tree to your  UNKNOWN landscape? Southern redcedar is a great option  UNKNOWN high school football rivalries vary in postseason implications 6 hurricanes and 12 named storms predicted for remainder of 2019 hurricane season  UNKNOWN man suspected of firing shots with unwitting mother in tow faces multiple charges Dogs on the beach?  UNKNOWN rejects proposal to allow dogs on South Brevard beaches Letters and feedback: Sept 15 2019 Despite weather odds SpaceX launches  UNKNOWN 9 rocket from Cape Canaveral Cyberstalking of alleged battery victim lands Rockledge man back in jail Winds are coming back again but inshore fishing is excellent for redfish and trout Exclusive: Trump administration sets plans for 2019 hurricane season after wakeup call of recent disasters  UNKNOWN Intimacy of a shared meal makes this  UNKNOWN spot perfect for date night The Chefs Table: Fine meat seafood draw diners to this Suntree favorite  UNKNOWN nurse arrested accused of sexual battery on a patient  UNKNOWN : Discover old- UNKNOWN elegance in  UNKNOWN restaurant  UNKNOWN chair resigns claims governors office interfered with independence Medical marijuana firms seek to open more storefronts in  UNKNOWN votes 4-1 to support superintendents plan for teacher raises; audience not happy Tracking Brevards stars: Arena football champ  UNKNOWN star  UNKNOWN rookie lead the way Brevard school district miscalculated attrition savings finds $15 million for teacher pay  UNKNOWN country honor roll Oct 31  UNKNOWN team wins Emmy for coverage of SpaceX mission Golf tip: Making adjustments to correct your swing Cruise ship rescues and mishaps: 6 times emergency struck on  UNKNOWN more Updates: SpaceX launches Falcon 9 from  UNKNOWN group challenges  UNKNOWN We Trust motto on  UNKNOWN sheriffs patrol vehicles Chemicals in sunscreen seep into your bloodstream after just one day  UNKNOWN says  UNKNOWN Rose mural dispute resolved in Indialantic after owner applies for permit  UNKNOWN strengthens into a hurricane as it moves away from Space Coast;  UNKNOWN watching 2 more Planting herbs to cutting back on water heres what to do in your Brevard yard this month  UNKNOWN team heads to  UNKNOWN for Junior World Series We must prevent human trafficking through education | Opinion Please dont eat the deer Family spots  UNKNOWN panther wandering around  UNKNOWN backyard Man found hanging onto side of kayak in Atlantic Ocean off Patrick Air Force Base SpaceX set to launch  UNKNOWN on mission with 24 payloads â€“\\xa0including human ashes  UNKNOWN is 2019 Volunteer of the Year finalist in  UNKNOWN Awards ZZ Top  UNKNOWN and  UNKNOWN coming to  UNKNOWN students sleep easier on new beds donated from  UNKNOWN These fitness trends are worth sticking with over time  UNKNOWN saw fewer infections from  UNKNOWN vulnificus (aka flesh-eating bacteria) in 2018 Health calendar: April 25-May 2 Young actresses shine in  UNKNOWN at Titusville Playhouse Freshman quarterback  UNKNOWN leads  UNKNOWN over  UNKNOWN in  UNKNOWN  UNKNOWN is 2019 Volunteer of the Year finalist in  UNKNOWN Doctors interest grew out of childhood health issues More strong storms move eastward over  UNKNOWN ; funnel clouds possible in  UNKNOWN arrested on suspicion of sexual battery Strong isolated showers heat impacting  UNKNOWN firefighters widow wins $9 million verdict in  UNKNOWN delivery death Housing providers may be prohibited from rejecting renters on basis of arrest record 10-foot great white shark Miss May pings off  UNKNOWN Beach Palm Bay man 22 dies in overnight crash on Floridas Turnpike Tamara Carroll is 2019 Volunteer of the Year finalist in  UNKNOWN Awards Tropical Storm Humberto not expected to affect Space Coast;  UNKNOWN watching two more disturbances  UNKNOWN veteran  UNKNOWN passes away unexpectedly Ten dead issues from the 2019 legislative session Letters and feedback: June 23 2019 Rockledge Cocoa win big as Space Coast takes  UNKNOWN in OT Surfers can enjoy chest-high waves most of weekend in  UNKNOWN ahead for  UNKNOWN 14-20:  UNKNOWN performs  UNKNOWN tweaks hours Daylight saving time ends on Nov 3 Here are 7 facts to know about the time change Two new  UNKNOWN ships including second largest in world move to Port Canaveral Fla Sen Debbie Mayfield files bill to define e-cigarettes liquid nicotine as tobacco products Escape the hustle and bustle for a western getaway Missing Palm Bay teen found in  UNKNOWN ; mother arrested police say Impossible burger Impossible Cottage Pie make 2019 Epcot Food and Wine Festival menu Got bats? Why you need to get rid of them by Tax Day 2 charged with attempted murder;  UNKNOWN police say they pistol-whipped waterboarded force-fed him dog food Bicyclist dies in hit-and-run crash on  UNKNOWN 1 near  UNKNOWN : St Johns River pollution threatens water supplies Rockledge man charged after hoax to shoot up  UNKNOWN awarded $80M in lawsuit claiming Monsantos Roundup causes cancer Astronauts  UNKNOWN won  UNKNOWN of the Week vote Alligators and airboats: How to explore Everglades National Park in one day Longtime educator church mother and humanitarian  UNKNOWN remembered in Palm Bay George Clooney astronauts to attend black-tie event at Kennedy Space Center High school sports results: March 27  UNKNOWN visits  UNKNOWN ahead of SpaceX  UNKNOWN Heavy launch from  UNKNOWN to relocate  UNKNOWN to Merritt Island open new facilities Letters and feedback: Aug 7 2019 Duran to host top area amateur golfers this weekend  UNKNOWN benefits Harmony Farms Get ready to rumble:  UNKNOWN V blasting off early Thursday morning War on lovebugs: Social media reactions tweets memes about pesky bugs cars windshields Master association that contains condominiums may be able to collect capital contribution The new  UNKNOWN opens at LEGOLAND River Rocks: Enjoy fresh seafood and river views at this  UNKNOWN tradition March 27:  UNKNOWN Off 10 takeaways from the presidents campaign kickoff visit to  UNKNOWN man arrested on manslaughter charges after  UNKNOWN burglars hit five south Brevard stores before  UNKNOWN officer shot one of them  UNKNOWN family to receive Filipino World War II veterans Congressional Gold Medal NASA: Want to go to the moon in five years? We need more money How to REALLY clean lovebugs off your windshield car house Top party schools:  UNKNOWN Florida State make it to top of  UNKNOWN 2020 list Live scores: High school football Week 4 in  UNKNOWN Restaurant inspections: Happy Kitchen in  UNKNOWN Divine Grace in Palm Bay closed after inspections School district sticks to $770 raise offer for teachers; special magistrate getting involved Candidate lineup is set for 2019 municipal special district elections in  UNKNOWN investigation underway after mans body found in  UNKNOWN ditch November hurricane forecast: Season not technically over but its over | WeatherTiger Tyndall Air Force Bases future remains uncertain after devastation from Hurricane Michael Whats behind a low performing school? Crummy parents | Opinion Well known  UNKNOWN dealership has The Right Stuff Lovebugs are back Many hate them Experts say theyre here for good The lax disciplinary policies that caused\\xa0Parkland massacre may have spread to your school  UNKNOWN commissioners tackle parking issues: 10 things to know  UNKNOWN woman injured in crash dies from her injuries; police looking for witnesses  UNKNOWN President  UNKNOWN calls for  UNKNOWN lawmakers to focus on mass shootings Governor  UNKNOWN approves $91 billion budget slashes $133 million in local projects  UNKNOWN and feedback: March 28 2019 Vote for 321prepscom  UNKNOWN of the Week for April 29-May 4  UNKNOWN approved for federal cleanup program Island H2O Live! water park in  UNKNOWN opens: Make the plunge or chill in lazy river  UNKNOWN is 2019 Citizen of the Year finalist in  UNKNOWN Awards Vietnam War 50th anniversary to be remembered at  UNKNOWN launch day! Things to know about SpaceX  UNKNOWN 9 launch from  UNKNOWN gave  UNKNOWN contractors bonuses despite delays and cost overruns  UNKNOWN says  UNKNOWN is 2019 Citizen of the Year finalist in  UNKNOWN Eye doctor honed skills on aircraft carrier  UNKNOWN pitchers fare well in state  UNKNOWN event The real reason NASAs all-female spacewalk is not happening  UNKNOWN : Its not discrimination Port Canaveral aquarium the best use of tourism dollars | Opinion SpaceX  UNKNOWN will carry worlds first green rocket fuel mission  UNKNOWN at odds on whats actually available for teacher raises  UNKNOWN power is too costly and too risky  UNKNOWN is 2019 Citizen of the Year finalist in  UNKNOWN TODAY Volunteer Recognition Awards SpaceX Dragon installed at  UNKNOWN after launch from  UNKNOWN phenomenon: Hail damage from unusual thunderstorm has Brevard residents talking Signs you live on the Space Coast Titusville couple charged with neglect after infant found malnourished Health coaches a personal way to help you meet goals  UNKNOWN elementary school to break ground in fall fast-tracked to open August 2020 Phase out nuclear power?  UNKNOWN and  UNKNOWN locked in absurd arms race Strange days: Space Coast gets freak hail flaming meteor mysterious rumble red tide over 6 months Four women arrested on prostitution charges in ongoing  UNKNOWN enforcement detail Whose name is on deed - partner or spouse? It matters a lot  UNKNOWN should steer clear of drug importation from other countries | Opinion Melbourne police investigate Palm Bay Road shooting Brevard bowlers head to state tournament off district wins  UNKNOWN Historical Societys May 16-18 conference: Countdown to History: Ice Age to the Space Age Turning the Toxic Tide:  UNKNOWN must address the problem of human waste Contributions pour in to group seeking to ban possession sale of assault weapons in  UNKNOWN  UNKNOWN sweets treats desserts are SO worthy of Instagram Satellite Beach girl 10 leads charge for organ donation Poliakoff: Community development district offers different advantages and disadvantages to an  UNKNOWN  UNKNOWN in  UNKNOWN hosts International Dinner with food from South Latin America From discovering water to snapping selfies: The lasting memories of Mars rover Opportunity Charges dropped against  UNKNOWN man after comments against Cocoa Beach hotel werent direct specific threat  UNKNOWN just cant say yes to raise offers | Opinion How Mars Opportunity rover ranks in list of more than 1000 unmanned space missions by  UNKNOWN since 1958 321 Flavor members rave about  UNKNOWN and  UNKNOWN  UNKNOWN man recovering after shark bite in  UNKNOWN Buckeye the manatee rescued again by  UNKNOWN Rain hail pelts north central  UNKNOWN causing widespread damage Regulators approve merger of  UNKNOWN ; deal to close June 29 Teachers approve largest pay raise in years but will it keep them in  UNKNOWN ? Restaurant review:  UNKNOWN in  UNKNOWN shows great promise Weak cool front could bring torrential rain damaging winds to  UNKNOWN :  UNKNOWN earthen causeways would improve Banana River water quality  UNKNOWN outfit is everything in photo of last remaining  UNKNOWN astronauts Voting Republican only helps if youre rich | Opinion Homelessness: A national problem with a local solution  UNKNOWN plans to regulate cancer-causing chemicals found in Americas drinking water  UNKNOWN has chance to wow recruits playoff voters with a win over  UNKNOWN -sized hail pounds Space Coast as severe thunderstorms move through area  UNKNOWN CEO optimistic about merger finances as deal with  UNKNOWN nears completion March 26: EFSCâ€™s Carter  UNKNOWN named  UNKNOWN Region VIII Pitcher of the Week Knife-wielding suspect leads deputies officers on foot chase in Melbourne 4 Brevard winners in girls regional basketball Thursday March 26: Womenâ€™s Golf Finishes Runner-Up at Barry Invite Some seek healing remembrance at arrival of  UNKNOWN replica wall High school sports results: March 26 Following surge in discipline problems Brevard students ask lawmakers to address vaping in schools  UNKNOWN man 21 pronounced dead after trying to make a U-turn on South Street Donald Trumps criminal justice reform shows results  UNKNOWN  UNKNOWN cold case solved 22 years later after Google Earth satellite image shows missing mans car Health calendar: Aug 8-15 Tracking Brevards stars:  UNKNOWN to World Cup;  UNKNOWN in golf hunt;  UNKNOWN hitting 300  UNKNOWN hotel condo towers homes slated for 27 acres by Hightower Beach park Letters and feedback: Sept 14 2019  UNKNOWN to be named  UNKNOWN new baseball coach Golf tip: Hit down on hybrids similar to how you hit an iron  UNKNOWN weather moves across Space Coast bringing lightning heavy rain Commission OKs pay raises for 625 county employees to address disparities turnover High school sports results: Feb 14 weVENTURE is 2019 Organization of the Year finalist in  UNKNOWN Man taken to hospital after domestic incident in Titusville Brevard school district considers selling $800000 in unused land Weather looks OK for SpaceX  UNKNOWN Heavy launch from  UNKNOWN Flavor:  UNKNOWN tops the list of Brevards favorite cocktails  UNKNOWN experiment and  UNKNOWN fly to space on  UNKNOWN New Shepard Bridges sex assault: Victimâ€™s family sues nonprofit caregiver over pregnancy Sheriff Ivey and Brevard emergency officials send mixed messages during Dorian New proposal on dog cat sales at pet stores is less restrictive than previous one Space Coast Honor Flight is 2019 Organization of the Year finalist in  UNKNOWN It goes by so quickly: Brevard teachers back to work as days count down to school County commissioners reject lagoon funding plan saying they want less money for muck projects  UNKNOWN ! Hypodermic needles stabbing employees inside Brevard recycling plant Hard-line anti-illegal immigration group works to sway sanctuary cities bill  UNKNOWN principal retires amid accusations of hostile environment  UNKNOWN Potâ€™s deputy  UNKNOWN architect of bloody  UNKNOWN policy dead at 93 in  UNKNOWN NASAs new goal: Land astronauts on the moon by 2024 Going surfing this weekend? Check our forecast Neighbor Up is 2019 Organization of the Year finalist in  UNKNOWN TODAY Volunteer Recognition Awards Severe storms bring wind lightning and possible hail across  UNKNOWN in  UNKNOWN Melbourne may move to larger stores with drive-thru windows SpaceX  UNKNOWN Heavy: Why everyone should watch this night launch from  UNKNOWN report: Calm seas and good fishing ahead Two World Series commercials feature Brevard celebrities Letters and feedback: May 5 2019 In latest motion  UNKNOWN Attorney confirms multiple investigations in Tallahassee Lane 70 softball team wins spring tournament Palm Bay police double down on nightclub safety following four violent episodes  UNKNOWN signs deal to deliver small satellites to more orbits  UNKNOWN documentary new surf movie spotlight surf legends  UNKNOWN Hobgood twins Plan ahead for April 3-10: Music in  UNKNOWN adult prom in  UNKNOWN ; art in  UNKNOWN grieves woman fatally struck by car near Lous Blues bar in  UNKNOWN At Cape Canaveral SpaceX kicks off Star Wars Day with smoke and fire Updates: SpaceX launches  UNKNOWN 9 from  UNKNOWN to  UNKNOWN sticks drone ship landing Letters and feedback: March 27 2019  UNKNOWN Tech to host event celebrating Apollo 11 anniversary and future of  UNKNOWN space program  UNKNOWN on  UNKNOWN orbital flight test: We really are close  UNKNOWN spring football game set for Saturday Feb 14: EFSC womenâ€™s golfer  UNKNOWN nominated for 2019 Arnold Palmer Cup Four Panthers Selected to All-SSC Teams Heavy winds and lightning to hit north  UNKNOWN How  UNKNOWN is shaking up the establishment | Opinion High school sports results: May 3 Palm Bay man who asked woman for permission to have illicit sexual encounter with child sentenced Letters and feedback: June 22 2019  UNKNOWN pumped for two launches less than 48 hours apart Heres why  UNKNOWN scrubbed all-female spacewalk Plan ahead for Nov 6-12: Holiday bazaar in  UNKNOWN pet events art openings and food fun  UNKNOWN shoots one under par for second time this week Burglar steals bolted safe from  UNKNOWN bar in latest smash-and-grab Feb 14:  UNKNOWN Tech Suffers Last-Second Heartbreaker Against Saint Leo Daddy Duty: My school cheating scandal is an example for my 4-year-old Tropical Storm Humberto forms but isnt expected to affect  UNKNOWN weather squadron key player in ensuring successful rocket launches  UNKNOWN : Getting through to the disconnected husband How to watch SpaceX launch its  UNKNOWN 9 rocket from  UNKNOWN Members of  UNKNOWN Bahai Faith community come together to commemorate twin holy days A&Es  UNKNOWN to feature  UNKNOWN tiny home builder Movable Roots Lawmakers grapple with felons voting rights All-female spacewalk canceled due to lack of medium-sized spacesuits  UNKNOWN and 3 other school district policy changes you should know about Felons rights bill heads to Gov DeSantis Lanes open delays persist after  UNKNOWN on I-95 near Wickham Road Former  UNKNOWN chair resigns day after  UNKNOWN proposes UC'"
            ]
          },
          "metadata": {
            "tags": []
          },
          "execution_count": 79
        }
      ]
    },
    {
      "cell_type": "markdown",
      "metadata": {
        "id": "kn7UwkBRO2vC"
      },
      "source": [
        "#Implementing NLP Tasks"
      ]
    },
    {
      "cell_type": "markdown",
      "metadata": {
        "id": "MYozeRavQZc1"
      },
      "source": [
        "## Text Summarization"
      ]
    },
    {
      "cell_type": "code",
      "metadata": {
        "id": "IHH6Z2ZNJQaT"
      },
      "source": [
        ""
      ],
      "execution_count": null,
      "outputs": []
    }
  ]
}