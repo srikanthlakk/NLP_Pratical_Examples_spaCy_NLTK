{
  "nbformat": 4,
  "nbformat_minor": 0,
  "metadata": {
    "colab": {
      "name": "Text Summarization.ipynb",
      "provenance": [],
      "collapsed_sections": [],
      "toc_visible": true,
      "authorship_tag": "ABX9TyOgf26O5ZYSGUjbJwf8xanQ",
      "include_colab_link": true
    },
    "kernelspec": {
      "name": "python3",
      "display_name": "Python 3"
    },
    "language_info": {
      "name": "python"
    },
    "widgets": {
      "application/vnd.jupyter.widget-state+json": {
        "fac00972bf7b4db89ec93023937268a9": {
          "model_module": "@jupyter-widgets/controls",
          "model_name": "HBoxModel",
          "state": {
            "_view_name": "HBoxView",
            "_dom_classes": [],
            "_model_name": "HBoxModel",
            "_view_module": "@jupyter-widgets/controls",
            "_model_module_version": "1.5.0",
            "_view_count": null,
            "_view_module_version": "1.5.0",
            "box_style": "",
            "layout": "IPY_MODEL_4cec97c49586434f88fa86ddfa5666af",
            "_model_module": "@jupyter-widgets/controls",
            "children": [
              "IPY_MODEL_fed0d6f93ba2463aa5e9550bfe8e3eb5",
              "IPY_MODEL_90c5b14bcf9c4778904c850b7e0aca2f"
            ]
          }
        },
        "4cec97c49586434f88fa86ddfa5666af": {
          "model_module": "@jupyter-widgets/base",
          "model_name": "LayoutModel",
          "state": {
            "_view_name": "LayoutView",
            "grid_template_rows": null,
            "right": null,
            "justify_content": null,
            "_view_module": "@jupyter-widgets/base",
            "overflow": null,
            "_model_module_version": "1.2.0",
            "_view_count": null,
            "flex_flow": null,
            "width": null,
            "min_width": null,
            "border": null,
            "align_items": null,
            "bottom": null,
            "_model_module": "@jupyter-widgets/base",
            "top": null,
            "grid_column": null,
            "overflow_y": null,
            "overflow_x": null,
            "grid_auto_flow": null,
            "grid_area": null,
            "grid_template_columns": null,
            "flex": null,
            "_model_name": "LayoutModel",
            "justify_items": null,
            "grid_row": null,
            "max_height": null,
            "align_content": null,
            "visibility": null,
            "align_self": null,
            "height": null,
            "min_height": null,
            "padding": null,
            "grid_auto_rows": null,
            "grid_gap": null,
            "max_width": null,
            "order": null,
            "_view_module_version": "1.2.0",
            "grid_template_areas": null,
            "object_position": null,
            "object_fit": null,
            "grid_auto_columns": null,
            "margin": null,
            "display": null,
            "left": null
          }
        },
        "fed0d6f93ba2463aa5e9550bfe8e3eb5": {
          "model_module": "@jupyter-widgets/controls",
          "model_name": "FloatProgressModel",
          "state": {
            "_view_name": "ProgressView",
            "style": "IPY_MODEL_c38e89afd1094af3a056a8c0eec6ae89",
            "_dom_classes": [],
            "description": "Downloading: 100%",
            "_model_name": "FloatProgressModel",
            "bar_style": "success",
            "max": 1802,
            "_view_module": "@jupyter-widgets/controls",
            "_model_module_version": "1.5.0",
            "value": 1802,
            "_view_count": null,
            "_view_module_version": "1.5.0",
            "orientation": "horizontal",
            "min": 0,
            "description_tooltip": null,
            "_model_module": "@jupyter-widgets/controls",
            "layout": "IPY_MODEL_48b1ce6a9e634cab95de5209c04c864a"
          }
        },
        "90c5b14bcf9c4778904c850b7e0aca2f": {
          "model_module": "@jupyter-widgets/controls",
          "model_name": "HTMLModel",
          "state": {
            "_view_name": "HTMLView",
            "style": "IPY_MODEL_ec604b15922f4757bf8c86da49dde0c1",
            "_dom_classes": [],
            "description": "",
            "_model_name": "HTMLModel",
            "placeholder": "​",
            "_view_module": "@jupyter-widgets/controls",
            "_model_module_version": "1.5.0",
            "value": " 1.80k/1.80k [00:38&lt;00:00, 47.2B/s]",
            "_view_count": null,
            "_view_module_version": "1.5.0",
            "description_tooltip": null,
            "_model_module": "@jupyter-widgets/controls",
            "layout": "IPY_MODEL_7e51f398acb54a0ab9b383e4cda7fd25"
          }
        },
        "c38e89afd1094af3a056a8c0eec6ae89": {
          "model_module": "@jupyter-widgets/controls",
          "model_name": "ProgressStyleModel",
          "state": {
            "_view_name": "StyleView",
            "_model_name": "ProgressStyleModel",
            "description_width": "initial",
            "_view_module": "@jupyter-widgets/base",
            "_model_module_version": "1.5.0",
            "_view_count": null,
            "_view_module_version": "1.2.0",
            "bar_color": null,
            "_model_module": "@jupyter-widgets/controls"
          }
        },
        "48b1ce6a9e634cab95de5209c04c864a": {
          "model_module": "@jupyter-widgets/base",
          "model_name": "LayoutModel",
          "state": {
            "_view_name": "LayoutView",
            "grid_template_rows": null,
            "right": null,
            "justify_content": null,
            "_view_module": "@jupyter-widgets/base",
            "overflow": null,
            "_model_module_version": "1.2.0",
            "_view_count": null,
            "flex_flow": null,
            "width": null,
            "min_width": null,
            "border": null,
            "align_items": null,
            "bottom": null,
            "_model_module": "@jupyter-widgets/base",
            "top": null,
            "grid_column": null,
            "overflow_y": null,
            "overflow_x": null,
            "grid_auto_flow": null,
            "grid_area": null,
            "grid_template_columns": null,
            "flex": null,
            "_model_name": "LayoutModel",
            "justify_items": null,
            "grid_row": null,
            "max_height": null,
            "align_content": null,
            "visibility": null,
            "align_self": null,
            "height": null,
            "min_height": null,
            "padding": null,
            "grid_auto_rows": null,
            "grid_gap": null,
            "max_width": null,
            "order": null,
            "_view_module_version": "1.2.0",
            "grid_template_areas": null,
            "object_position": null,
            "object_fit": null,
            "grid_auto_columns": null,
            "margin": null,
            "display": null,
            "left": null
          }
        },
        "ec604b15922f4757bf8c86da49dde0c1": {
          "model_module": "@jupyter-widgets/controls",
          "model_name": "DescriptionStyleModel",
          "state": {
            "_view_name": "StyleView",
            "_model_name": "DescriptionStyleModel",
            "description_width": "",
            "_view_module": "@jupyter-widgets/base",
            "_model_module_version": "1.5.0",
            "_view_count": null,
            "_view_module_version": "1.2.0",
            "_model_module": "@jupyter-widgets/controls"
          }
        },
        "7e51f398acb54a0ab9b383e4cda7fd25": {
          "model_module": "@jupyter-widgets/base",
          "model_name": "LayoutModel",
          "state": {
            "_view_name": "LayoutView",
            "grid_template_rows": null,
            "right": null,
            "justify_content": null,
            "_view_module": "@jupyter-widgets/base",
            "overflow": null,
            "_model_module_version": "1.2.0",
            "_view_count": null,
            "flex_flow": null,
            "width": null,
            "min_width": null,
            "border": null,
            "align_items": null,
            "bottom": null,
            "_model_module": "@jupyter-widgets/base",
            "top": null,
            "grid_column": null,
            "overflow_y": null,
            "overflow_x": null,
            "grid_auto_flow": null,
            "grid_area": null,
            "grid_template_columns": null,
            "flex": null,
            "_model_name": "LayoutModel",
            "justify_items": null,
            "grid_row": null,
            "max_height": null,
            "align_content": null,
            "visibility": null,
            "align_self": null,
            "height": null,
            "min_height": null,
            "padding": null,
            "grid_auto_rows": null,
            "grid_gap": null,
            "max_width": null,
            "order": null,
            "_view_module_version": "1.2.0",
            "grid_template_areas": null,
            "object_position": null,
            "object_fit": null,
            "grid_auto_columns": null,
            "margin": null,
            "display": null,
            "left": null
          }
        },
        "6f2eedd618fa407093e78c2b46192a7e": {
          "model_module": "@jupyter-widgets/controls",
          "model_name": "HBoxModel",
          "state": {
            "_view_name": "HBoxView",
            "_dom_classes": [],
            "_model_name": "HBoxModel",
            "_view_module": "@jupyter-widgets/controls",
            "_model_module_version": "1.5.0",
            "_view_count": null,
            "_view_module_version": "1.5.0",
            "box_style": "",
            "layout": "IPY_MODEL_c8361ffa52594fc8af53ca4c680dd5b2",
            "_model_module": "@jupyter-widgets/controls",
            "children": [
              "IPY_MODEL_11841c0bfa5f41e2acca6ed3d4c03225",
              "IPY_MODEL_242cddf8258a4b4c992f43e59320de0c"
            ]
          }
        },
        "c8361ffa52594fc8af53ca4c680dd5b2": {
          "model_module": "@jupyter-widgets/base",
          "model_name": "LayoutModel",
          "state": {
            "_view_name": "LayoutView",
            "grid_template_rows": null,
            "right": null,
            "justify_content": null,
            "_view_module": "@jupyter-widgets/base",
            "overflow": null,
            "_model_module_version": "1.2.0",
            "_view_count": null,
            "flex_flow": null,
            "width": null,
            "min_width": null,
            "border": null,
            "align_items": null,
            "bottom": null,
            "_model_module": "@jupyter-widgets/base",
            "top": null,
            "grid_column": null,
            "overflow_y": null,
            "overflow_x": null,
            "grid_auto_flow": null,
            "grid_area": null,
            "grid_template_columns": null,
            "flex": null,
            "_model_name": "LayoutModel",
            "justify_items": null,
            "grid_row": null,
            "max_height": null,
            "align_content": null,
            "visibility": null,
            "align_self": null,
            "height": null,
            "min_height": null,
            "padding": null,
            "grid_auto_rows": null,
            "grid_gap": null,
            "max_width": null,
            "order": null,
            "_view_module_version": "1.2.0",
            "grid_template_areas": null,
            "object_position": null,
            "object_fit": null,
            "grid_auto_columns": null,
            "margin": null,
            "display": null,
            "left": null
          }
        },
        "11841c0bfa5f41e2acca6ed3d4c03225": {
          "model_module": "@jupyter-widgets/controls",
          "model_name": "FloatProgressModel",
          "state": {
            "_view_name": "ProgressView",
            "style": "IPY_MODEL_afcf8fe21a0741dcba3fa30b50614831",
            "_dom_classes": [],
            "description": "Downloading: 100%",
            "_model_name": "FloatProgressModel",
            "bar_style": "success",
            "max": 1222317369,
            "_view_module": "@jupyter-widgets/controls",
            "_model_module_version": "1.5.0",
            "value": 1222317369,
            "_view_count": null,
            "_view_module_version": "1.5.0",
            "orientation": "horizontal",
            "min": 0,
            "description_tooltip": null,
            "_model_module": "@jupyter-widgets/controls",
            "layout": "IPY_MODEL_ddecd89430aa4ffda15ba5cd0934fdbb"
          }
        },
        "242cddf8258a4b4c992f43e59320de0c": {
          "model_module": "@jupyter-widgets/controls",
          "model_name": "HTMLModel",
          "state": {
            "_view_name": "HTMLView",
            "style": "IPY_MODEL_a5a77e53f8e849f59ec1f7e5878ec740",
            "_dom_classes": [],
            "description": "",
            "_model_name": "HTMLModel",
            "placeholder": "​",
            "_view_module": "@jupyter-widgets/controls",
            "_model_module_version": "1.5.0",
            "value": " 1.22G/1.22G [00:37&lt;00:00, 32.5MB/s]",
            "_view_count": null,
            "_view_module_version": "1.5.0",
            "description_tooltip": null,
            "_model_module": "@jupyter-widgets/controls",
            "layout": "IPY_MODEL_4db5a1396ab84932af95a34eb04f62bd"
          }
        },
        "afcf8fe21a0741dcba3fa30b50614831": {
          "model_module": "@jupyter-widgets/controls",
          "model_name": "ProgressStyleModel",
          "state": {
            "_view_name": "StyleView",
            "_model_name": "ProgressStyleModel",
            "description_width": "initial",
            "_view_module": "@jupyter-widgets/base",
            "_model_module_version": "1.5.0",
            "_view_count": null,
            "_view_module_version": "1.2.0",
            "bar_color": null,
            "_model_module": "@jupyter-widgets/controls"
          }
        },
        "ddecd89430aa4ffda15ba5cd0934fdbb": {
          "model_module": "@jupyter-widgets/base",
          "model_name": "LayoutModel",
          "state": {
            "_view_name": "LayoutView",
            "grid_template_rows": null,
            "right": null,
            "justify_content": null,
            "_view_module": "@jupyter-widgets/base",
            "overflow": null,
            "_model_module_version": "1.2.0",
            "_view_count": null,
            "flex_flow": null,
            "width": null,
            "min_width": null,
            "border": null,
            "align_items": null,
            "bottom": null,
            "_model_module": "@jupyter-widgets/base",
            "top": null,
            "grid_column": null,
            "overflow_y": null,
            "overflow_x": null,
            "grid_auto_flow": null,
            "grid_area": null,
            "grid_template_columns": null,
            "flex": null,
            "_model_name": "LayoutModel",
            "justify_items": null,
            "grid_row": null,
            "max_height": null,
            "align_content": null,
            "visibility": null,
            "align_self": null,
            "height": null,
            "min_height": null,
            "padding": null,
            "grid_auto_rows": null,
            "grid_gap": null,
            "max_width": null,
            "order": null,
            "_view_module_version": "1.2.0",
            "grid_template_areas": null,
            "object_position": null,
            "object_fit": null,
            "grid_auto_columns": null,
            "margin": null,
            "display": null,
            "left": null
          }
        },
        "a5a77e53f8e849f59ec1f7e5878ec740": {
          "model_module": "@jupyter-widgets/controls",
          "model_name": "DescriptionStyleModel",
          "state": {
            "_view_name": "StyleView",
            "_model_name": "DescriptionStyleModel",
            "description_width": "",
            "_view_module": "@jupyter-widgets/base",
            "_model_module_version": "1.5.0",
            "_view_count": null,
            "_view_module_version": "1.2.0",
            "_model_module": "@jupyter-widgets/controls"
          }
        },
        "4db5a1396ab84932af95a34eb04f62bd": {
          "model_module": "@jupyter-widgets/base",
          "model_name": "LayoutModel",
          "state": {
            "_view_name": "LayoutView",
            "grid_template_rows": null,
            "right": null,
            "justify_content": null,
            "_view_module": "@jupyter-widgets/base",
            "overflow": null,
            "_model_module_version": "1.2.0",
            "_view_count": null,
            "flex_flow": null,
            "width": null,
            "min_width": null,
            "border": null,
            "align_items": null,
            "bottom": null,
            "_model_module": "@jupyter-widgets/base",
            "top": null,
            "grid_column": null,
            "overflow_y": null,
            "overflow_x": null,
            "grid_auto_flow": null,
            "grid_area": null,
            "grid_template_columns": null,
            "flex": null,
            "_model_name": "LayoutModel",
            "justify_items": null,
            "grid_row": null,
            "max_height": null,
            "align_content": null,
            "visibility": null,
            "align_self": null,
            "height": null,
            "min_height": null,
            "padding": null,
            "grid_auto_rows": null,
            "grid_gap": null,
            "max_width": null,
            "order": null,
            "_view_module_version": "1.2.0",
            "grid_template_areas": null,
            "object_position": null,
            "object_fit": null,
            "grid_auto_columns": null,
            "margin": null,
            "display": null,
            "left": null
          }
        },
        "e150f00c25d448e69164bfead1f95530": {
          "model_module": "@jupyter-widgets/controls",
          "model_name": "HBoxModel",
          "state": {
            "_view_name": "HBoxView",
            "_dom_classes": [],
            "_model_name": "HBoxModel",
            "_view_module": "@jupyter-widgets/controls",
            "_model_module_version": "1.5.0",
            "_view_count": null,
            "_view_module_version": "1.5.0",
            "box_style": "",
            "layout": "IPY_MODEL_7341617c108d4335b63124e7cf5c80b4",
            "_model_module": "@jupyter-widgets/controls",
            "children": [
              "IPY_MODEL_8abe0fc2c3924c55aade9662ec818395",
              "IPY_MODEL_03ac4d0c8ee64f75bf0ffbbd2a149b9c"
            ]
          }
        },
        "7341617c108d4335b63124e7cf5c80b4": {
          "model_module": "@jupyter-widgets/base",
          "model_name": "LayoutModel",
          "state": {
            "_view_name": "LayoutView",
            "grid_template_rows": null,
            "right": null,
            "justify_content": null,
            "_view_module": "@jupyter-widgets/base",
            "overflow": null,
            "_model_module_version": "1.2.0",
            "_view_count": null,
            "flex_flow": null,
            "width": null,
            "min_width": null,
            "border": null,
            "align_items": null,
            "bottom": null,
            "_model_module": "@jupyter-widgets/base",
            "top": null,
            "grid_column": null,
            "overflow_y": null,
            "overflow_x": null,
            "grid_auto_flow": null,
            "grid_area": null,
            "grid_template_columns": null,
            "flex": null,
            "_model_name": "LayoutModel",
            "justify_items": null,
            "grid_row": null,
            "max_height": null,
            "align_content": null,
            "visibility": null,
            "align_self": null,
            "height": null,
            "min_height": null,
            "padding": null,
            "grid_auto_rows": null,
            "grid_gap": null,
            "max_width": null,
            "order": null,
            "_view_module_version": "1.2.0",
            "grid_template_areas": null,
            "object_position": null,
            "object_fit": null,
            "grid_auto_columns": null,
            "margin": null,
            "display": null,
            "left": null
          }
        },
        "8abe0fc2c3924c55aade9662ec818395": {
          "model_module": "@jupyter-widgets/controls",
          "model_name": "FloatProgressModel",
          "state": {
            "_view_name": "ProgressView",
            "style": "IPY_MODEL_e6fc1405beb34b3a9937e6818285335e",
            "_dom_classes": [],
            "description": "Downloading: 100%",
            "_model_name": "FloatProgressModel",
            "bar_style": "success",
            "max": 26,
            "_view_module": "@jupyter-widgets/controls",
            "_model_module_version": "1.5.0",
            "value": 26,
            "_view_count": null,
            "_view_module_version": "1.5.0",
            "orientation": "horizontal",
            "min": 0,
            "description_tooltip": null,
            "_model_module": "@jupyter-widgets/controls",
            "layout": "IPY_MODEL_7986acbbb4ba4d67ae0b42dbf4a1c4c8"
          }
        },
        "03ac4d0c8ee64f75bf0ffbbd2a149b9c": {
          "model_module": "@jupyter-widgets/controls",
          "model_name": "HTMLModel",
          "state": {
            "_view_name": "HTMLView",
            "style": "IPY_MODEL_d230b28b53ab42d4baf6fd581129d168",
            "_dom_classes": [],
            "description": "",
            "_model_name": "HTMLModel",
            "placeholder": "​",
            "_view_module": "@jupyter-widgets/controls",
            "_model_module_version": "1.5.0",
            "value": " 26.0/26.0 [00:00&lt;00:00, 48.4B/s]",
            "_view_count": null,
            "_view_module_version": "1.5.0",
            "description_tooltip": null,
            "_model_module": "@jupyter-widgets/controls",
            "layout": "IPY_MODEL_a4b6be752c964b1cbf54c540c91a8b0c"
          }
        },
        "e6fc1405beb34b3a9937e6818285335e": {
          "model_module": "@jupyter-widgets/controls",
          "model_name": "ProgressStyleModel",
          "state": {
            "_view_name": "StyleView",
            "_model_name": "ProgressStyleModel",
            "description_width": "initial",
            "_view_module": "@jupyter-widgets/base",
            "_model_module_version": "1.5.0",
            "_view_count": null,
            "_view_module_version": "1.2.0",
            "bar_color": null,
            "_model_module": "@jupyter-widgets/controls"
          }
        },
        "7986acbbb4ba4d67ae0b42dbf4a1c4c8": {
          "model_module": "@jupyter-widgets/base",
          "model_name": "LayoutModel",
          "state": {
            "_view_name": "LayoutView",
            "grid_template_rows": null,
            "right": null,
            "justify_content": null,
            "_view_module": "@jupyter-widgets/base",
            "overflow": null,
            "_model_module_version": "1.2.0",
            "_view_count": null,
            "flex_flow": null,
            "width": null,
            "min_width": null,
            "border": null,
            "align_items": null,
            "bottom": null,
            "_model_module": "@jupyter-widgets/base",
            "top": null,
            "grid_column": null,
            "overflow_y": null,
            "overflow_x": null,
            "grid_auto_flow": null,
            "grid_area": null,
            "grid_template_columns": null,
            "flex": null,
            "_model_name": "LayoutModel",
            "justify_items": null,
            "grid_row": null,
            "max_height": null,
            "align_content": null,
            "visibility": null,
            "align_self": null,
            "height": null,
            "min_height": null,
            "padding": null,
            "grid_auto_rows": null,
            "grid_gap": null,
            "max_width": null,
            "order": null,
            "_view_module_version": "1.2.0",
            "grid_template_areas": null,
            "object_position": null,
            "object_fit": null,
            "grid_auto_columns": null,
            "margin": null,
            "display": null,
            "left": null
          }
        },
        "d230b28b53ab42d4baf6fd581129d168": {
          "model_module": "@jupyter-widgets/controls",
          "model_name": "DescriptionStyleModel",
          "state": {
            "_view_name": "StyleView",
            "_model_name": "DescriptionStyleModel",
            "description_width": "",
            "_view_module": "@jupyter-widgets/base",
            "_model_module_version": "1.5.0",
            "_view_count": null,
            "_view_module_version": "1.2.0",
            "_model_module": "@jupyter-widgets/controls"
          }
        },
        "a4b6be752c964b1cbf54c540c91a8b0c": {
          "model_module": "@jupyter-widgets/base",
          "model_name": "LayoutModel",
          "state": {
            "_view_name": "LayoutView",
            "grid_template_rows": null,
            "right": null,
            "justify_content": null,
            "_view_module": "@jupyter-widgets/base",
            "overflow": null,
            "_model_module_version": "1.2.0",
            "_view_count": null,
            "flex_flow": null,
            "width": null,
            "min_width": null,
            "border": null,
            "align_items": null,
            "bottom": null,
            "_model_module": "@jupyter-widgets/base",
            "top": null,
            "grid_column": null,
            "overflow_y": null,
            "overflow_x": null,
            "grid_auto_flow": null,
            "grid_area": null,
            "grid_template_columns": null,
            "flex": null,
            "_model_name": "LayoutModel",
            "justify_items": null,
            "grid_row": null,
            "max_height": null,
            "align_content": null,
            "visibility": null,
            "align_self": null,
            "height": null,
            "min_height": null,
            "padding": null,
            "grid_auto_rows": null,
            "grid_gap": null,
            "max_width": null,
            "order": null,
            "_view_module_version": "1.2.0",
            "grid_template_areas": null,
            "object_position": null,
            "object_fit": null,
            "grid_auto_columns": null,
            "margin": null,
            "display": null,
            "left": null
          }
        },
        "5432eb1e0270482899f240195a382ff2": {
          "model_module": "@jupyter-widgets/controls",
          "model_name": "HBoxModel",
          "state": {
            "_view_name": "HBoxView",
            "_dom_classes": [],
            "_model_name": "HBoxModel",
            "_view_module": "@jupyter-widgets/controls",
            "_model_module_version": "1.5.0",
            "_view_count": null,
            "_view_module_version": "1.5.0",
            "box_style": "",
            "layout": "IPY_MODEL_262355caa0fa4119a770934aed76fe2c",
            "_model_module": "@jupyter-widgets/controls",
            "children": [
              "IPY_MODEL_0711fb051af548718b11052abe49d743",
              "IPY_MODEL_85e450bf309c4f29b417556f12c14f91"
            ]
          }
        },
        "262355caa0fa4119a770934aed76fe2c": {
          "model_module": "@jupyter-widgets/base",
          "model_name": "LayoutModel",
          "state": {
            "_view_name": "LayoutView",
            "grid_template_rows": null,
            "right": null,
            "justify_content": null,
            "_view_module": "@jupyter-widgets/base",
            "overflow": null,
            "_model_module_version": "1.2.0",
            "_view_count": null,
            "flex_flow": null,
            "width": null,
            "min_width": null,
            "border": null,
            "align_items": null,
            "bottom": null,
            "_model_module": "@jupyter-widgets/base",
            "top": null,
            "grid_column": null,
            "overflow_y": null,
            "overflow_x": null,
            "grid_auto_flow": null,
            "grid_area": null,
            "grid_template_columns": null,
            "flex": null,
            "_model_name": "LayoutModel",
            "justify_items": null,
            "grid_row": null,
            "max_height": null,
            "align_content": null,
            "visibility": null,
            "align_self": null,
            "height": null,
            "min_height": null,
            "padding": null,
            "grid_auto_rows": null,
            "grid_gap": null,
            "max_width": null,
            "order": null,
            "_view_module_version": "1.2.0",
            "grid_template_areas": null,
            "object_position": null,
            "object_fit": null,
            "grid_auto_columns": null,
            "margin": null,
            "display": null,
            "left": null
          }
        },
        "0711fb051af548718b11052abe49d743": {
          "model_module": "@jupyter-widgets/controls",
          "model_name": "FloatProgressModel",
          "state": {
            "_view_name": "ProgressView",
            "style": "IPY_MODEL_75f3b191a1944eaaaf5392b03acc1bdf",
            "_dom_classes": [],
            "description": "Downloading: 100%",
            "_model_name": "FloatProgressModel",
            "bar_style": "success",
            "max": 898822,
            "_view_module": "@jupyter-widgets/controls",
            "_model_module_version": "1.5.0",
            "value": 898822,
            "_view_count": null,
            "_view_module_version": "1.5.0",
            "orientation": "horizontal",
            "min": 0,
            "description_tooltip": null,
            "_model_module": "@jupyter-widgets/controls",
            "layout": "IPY_MODEL_6e65f19d80ab4a5abe4b1c44032017a7"
          }
        },
        "85e450bf309c4f29b417556f12c14f91": {
          "model_module": "@jupyter-widgets/controls",
          "model_name": "HTMLModel",
          "state": {
            "_view_name": "HTMLView",
            "style": "IPY_MODEL_8388aab261294360a449d91d4e83934a",
            "_dom_classes": [],
            "description": "",
            "_model_name": "HTMLModel",
            "placeholder": "​",
            "_view_module": "@jupyter-widgets/controls",
            "_model_module_version": "1.5.0",
            "value": " 899k/899k [00:01&lt;00:00, 740kB/s]",
            "_view_count": null,
            "_view_module_version": "1.5.0",
            "description_tooltip": null,
            "_model_module": "@jupyter-widgets/controls",
            "layout": "IPY_MODEL_b23da3a6e44641a0b59494cb12853232"
          }
        },
        "75f3b191a1944eaaaf5392b03acc1bdf": {
          "model_module": "@jupyter-widgets/controls",
          "model_name": "ProgressStyleModel",
          "state": {
            "_view_name": "StyleView",
            "_model_name": "ProgressStyleModel",
            "description_width": "initial",
            "_view_module": "@jupyter-widgets/base",
            "_model_module_version": "1.5.0",
            "_view_count": null,
            "_view_module_version": "1.2.0",
            "bar_color": null,
            "_model_module": "@jupyter-widgets/controls"
          }
        },
        "6e65f19d80ab4a5abe4b1c44032017a7": {
          "model_module": "@jupyter-widgets/base",
          "model_name": "LayoutModel",
          "state": {
            "_view_name": "LayoutView",
            "grid_template_rows": null,
            "right": null,
            "justify_content": null,
            "_view_module": "@jupyter-widgets/base",
            "overflow": null,
            "_model_module_version": "1.2.0",
            "_view_count": null,
            "flex_flow": null,
            "width": null,
            "min_width": null,
            "border": null,
            "align_items": null,
            "bottom": null,
            "_model_module": "@jupyter-widgets/base",
            "top": null,
            "grid_column": null,
            "overflow_y": null,
            "overflow_x": null,
            "grid_auto_flow": null,
            "grid_area": null,
            "grid_template_columns": null,
            "flex": null,
            "_model_name": "LayoutModel",
            "justify_items": null,
            "grid_row": null,
            "max_height": null,
            "align_content": null,
            "visibility": null,
            "align_self": null,
            "height": null,
            "min_height": null,
            "padding": null,
            "grid_auto_rows": null,
            "grid_gap": null,
            "max_width": null,
            "order": null,
            "_view_module_version": "1.2.0",
            "grid_template_areas": null,
            "object_position": null,
            "object_fit": null,
            "grid_auto_columns": null,
            "margin": null,
            "display": null,
            "left": null
          }
        },
        "8388aab261294360a449d91d4e83934a": {
          "model_module": "@jupyter-widgets/controls",
          "model_name": "DescriptionStyleModel",
          "state": {
            "_view_name": "StyleView",
            "_model_name": "DescriptionStyleModel",
            "description_width": "",
            "_view_module": "@jupyter-widgets/base",
            "_model_module_version": "1.5.0",
            "_view_count": null,
            "_view_module_version": "1.2.0",
            "_model_module": "@jupyter-widgets/controls"
          }
        },
        "b23da3a6e44641a0b59494cb12853232": {
          "model_module": "@jupyter-widgets/base",
          "model_name": "LayoutModel",
          "state": {
            "_view_name": "LayoutView",
            "grid_template_rows": null,
            "right": null,
            "justify_content": null,
            "_view_module": "@jupyter-widgets/base",
            "overflow": null,
            "_model_module_version": "1.2.0",
            "_view_count": null,
            "flex_flow": null,
            "width": null,
            "min_width": null,
            "border": null,
            "align_items": null,
            "bottom": null,
            "_model_module": "@jupyter-widgets/base",
            "top": null,
            "grid_column": null,
            "overflow_y": null,
            "overflow_x": null,
            "grid_auto_flow": null,
            "grid_area": null,
            "grid_template_columns": null,
            "flex": null,
            "_model_name": "LayoutModel",
            "justify_items": null,
            "grid_row": null,
            "max_height": null,
            "align_content": null,
            "visibility": null,
            "align_self": null,
            "height": null,
            "min_height": null,
            "padding": null,
            "grid_auto_rows": null,
            "grid_gap": null,
            "max_width": null,
            "order": null,
            "_view_module_version": "1.2.0",
            "grid_template_areas": null,
            "object_position": null,
            "object_fit": null,
            "grid_auto_columns": null,
            "margin": null,
            "display": null,
            "left": null
          }
        },
        "941f21b9dbf849e0828bf23e0050f7b9": {
          "model_module": "@jupyter-widgets/controls",
          "model_name": "HBoxModel",
          "state": {
            "_view_name": "HBoxView",
            "_dom_classes": [],
            "_model_name": "HBoxModel",
            "_view_module": "@jupyter-widgets/controls",
            "_model_module_version": "1.5.0",
            "_view_count": null,
            "_view_module_version": "1.5.0",
            "box_style": "",
            "layout": "IPY_MODEL_4fb3ebf503c646adbec18227bc83e296",
            "_model_module": "@jupyter-widgets/controls",
            "children": [
              "IPY_MODEL_54710569f65748dfbfba57bba346a3de",
              "IPY_MODEL_b21b8dd00f3241a296c9b692f12a0b66"
            ]
          }
        },
        "4fb3ebf503c646adbec18227bc83e296": {
          "model_module": "@jupyter-widgets/base",
          "model_name": "LayoutModel",
          "state": {
            "_view_name": "LayoutView",
            "grid_template_rows": null,
            "right": null,
            "justify_content": null,
            "_view_module": "@jupyter-widgets/base",
            "overflow": null,
            "_model_module_version": "1.2.0",
            "_view_count": null,
            "flex_flow": null,
            "width": null,
            "min_width": null,
            "border": null,
            "align_items": null,
            "bottom": null,
            "_model_module": "@jupyter-widgets/base",
            "top": null,
            "grid_column": null,
            "overflow_y": null,
            "overflow_x": null,
            "grid_auto_flow": null,
            "grid_area": null,
            "grid_template_columns": null,
            "flex": null,
            "_model_name": "LayoutModel",
            "justify_items": null,
            "grid_row": null,
            "max_height": null,
            "align_content": null,
            "visibility": null,
            "align_self": null,
            "height": null,
            "min_height": null,
            "padding": null,
            "grid_auto_rows": null,
            "grid_gap": null,
            "max_width": null,
            "order": null,
            "_view_module_version": "1.2.0",
            "grid_template_areas": null,
            "object_position": null,
            "object_fit": null,
            "grid_auto_columns": null,
            "margin": null,
            "display": null,
            "left": null
          }
        },
        "54710569f65748dfbfba57bba346a3de": {
          "model_module": "@jupyter-widgets/controls",
          "model_name": "FloatProgressModel",
          "state": {
            "_view_name": "ProgressView",
            "style": "IPY_MODEL_acb0d22870104e458ba5c2240dc1e58d",
            "_dom_classes": [],
            "description": "Downloading: 100%",
            "_model_name": "FloatProgressModel",
            "bar_style": "success",
            "max": 456318,
            "_view_module": "@jupyter-widgets/controls",
            "_model_module_version": "1.5.0",
            "value": 456318,
            "_view_count": null,
            "_view_module_version": "1.5.0",
            "orientation": "horizontal",
            "min": 0,
            "description_tooltip": null,
            "_model_module": "@jupyter-widgets/controls",
            "layout": "IPY_MODEL_5605fb1b31e7409f95142c454e896bf2"
          }
        },
        "b21b8dd00f3241a296c9b692f12a0b66": {
          "model_module": "@jupyter-widgets/controls",
          "model_name": "HTMLModel",
          "state": {
            "_view_name": "HTMLView",
            "style": "IPY_MODEL_6a28703c3d294ff5a9daec7705fe7284",
            "_dom_classes": [],
            "description": "",
            "_model_name": "HTMLModel",
            "placeholder": "​",
            "_view_module": "@jupyter-widgets/controls",
            "_model_module_version": "1.5.0",
            "value": " 456k/456k [00:00&lt;00:00, 610kB/s]",
            "_view_count": null,
            "_view_module_version": "1.5.0",
            "description_tooltip": null,
            "_model_module": "@jupyter-widgets/controls",
            "layout": "IPY_MODEL_4440adec288b43f09e39995de864ba0c"
          }
        },
        "acb0d22870104e458ba5c2240dc1e58d": {
          "model_module": "@jupyter-widgets/controls",
          "model_name": "ProgressStyleModel",
          "state": {
            "_view_name": "StyleView",
            "_model_name": "ProgressStyleModel",
            "description_width": "initial",
            "_view_module": "@jupyter-widgets/base",
            "_model_module_version": "1.5.0",
            "_view_count": null,
            "_view_module_version": "1.2.0",
            "bar_color": null,
            "_model_module": "@jupyter-widgets/controls"
          }
        },
        "5605fb1b31e7409f95142c454e896bf2": {
          "model_module": "@jupyter-widgets/base",
          "model_name": "LayoutModel",
          "state": {
            "_view_name": "LayoutView",
            "grid_template_rows": null,
            "right": null,
            "justify_content": null,
            "_view_module": "@jupyter-widgets/base",
            "overflow": null,
            "_model_module_version": "1.2.0",
            "_view_count": null,
            "flex_flow": null,
            "width": null,
            "min_width": null,
            "border": null,
            "align_items": null,
            "bottom": null,
            "_model_module": "@jupyter-widgets/base",
            "top": null,
            "grid_column": null,
            "overflow_y": null,
            "overflow_x": null,
            "grid_auto_flow": null,
            "grid_area": null,
            "grid_template_columns": null,
            "flex": null,
            "_model_name": "LayoutModel",
            "justify_items": null,
            "grid_row": null,
            "max_height": null,
            "align_content": null,
            "visibility": null,
            "align_self": null,
            "height": null,
            "min_height": null,
            "padding": null,
            "grid_auto_rows": null,
            "grid_gap": null,
            "max_width": null,
            "order": null,
            "_view_module_version": "1.2.0",
            "grid_template_areas": null,
            "object_position": null,
            "object_fit": null,
            "grid_auto_columns": null,
            "margin": null,
            "display": null,
            "left": null
          }
        },
        "6a28703c3d294ff5a9daec7705fe7284": {
          "model_module": "@jupyter-widgets/controls",
          "model_name": "DescriptionStyleModel",
          "state": {
            "_view_name": "StyleView",
            "_model_name": "DescriptionStyleModel",
            "description_width": "",
            "_view_module": "@jupyter-widgets/base",
            "_model_module_version": "1.5.0",
            "_view_count": null,
            "_view_module_version": "1.2.0",
            "_model_module": "@jupyter-widgets/controls"
          }
        },
        "4440adec288b43f09e39995de864ba0c": {
          "model_module": "@jupyter-widgets/base",
          "model_name": "LayoutModel",
          "state": {
            "_view_name": "LayoutView",
            "grid_template_rows": null,
            "right": null,
            "justify_content": null,
            "_view_module": "@jupyter-widgets/base",
            "overflow": null,
            "_model_module_version": "1.2.0",
            "_view_count": null,
            "flex_flow": null,
            "width": null,
            "min_width": null,
            "border": null,
            "align_items": null,
            "bottom": null,
            "_model_module": "@jupyter-widgets/base",
            "top": null,
            "grid_column": null,
            "overflow_y": null,
            "overflow_x": null,
            "grid_auto_flow": null,
            "grid_area": null,
            "grid_template_columns": null,
            "flex": null,
            "_model_name": "LayoutModel",
            "justify_items": null,
            "grid_row": null,
            "max_height": null,
            "align_content": null,
            "visibility": null,
            "align_self": null,
            "height": null,
            "min_height": null,
            "padding": null,
            "grid_auto_rows": null,
            "grid_gap": null,
            "max_width": null,
            "order": null,
            "_view_module_version": "1.2.0",
            "grid_template_areas": null,
            "object_position": null,
            "object_fit": null,
            "grid_auto_columns": null,
            "margin": null,
            "display": null,
            "left": null
          }
        }
      }
    }
  },
  "cells": [
    {
      "cell_type": "markdown",
      "metadata": {
        "id": "view-in-github",
        "colab_type": "text"
      },
      "source": [
        "<a href=\"https://colab.research.google.com/github/srikanthlakk/NLP_Pratical_Examples_spaCy_NLTK/blob/main/Text_Summarization.ipynb\" target=\"_parent\"><img src=\"https://colab.research.google.com/assets/colab-badge.svg\" alt=\"Open In Colab\"/></a>"
      ]
    },
    {
      "cell_type": "markdown",
      "metadata": {
        "id": "-HSujNcjapTy"
      },
      "source": [
        "# Text Summarization\n",
        "\n",
        "The technique of creating a concise summary of a large text data , without losing the key information is referred as **Text Summarization.**\n",
        "\n",
        "**Text Summarization** is highly useful in today’s digital world. "
      ]
    },
    {
      "cell_type": "markdown",
      "metadata": {
        "id": "PBmHp2nob31b"
      },
      "source": [
        "## **Extractive Text Summarization** \n",
        "**Extractive Text Summarization** is a traditional method, in which the process is to identify significant phrase/sentences of the text corpus and include them in the summary. The summary obtained from this method will contain the key-sentences of the original text corpus. "
      ]
    },
    {
      "cell_type": "markdown",
      "metadata": {
        "id": "jS1_6NLyh7kI"
      },
      "source": [
        "###**Extractive Text Summarization using Gensim** :\n",
        "The text summarization process using gensim library is based on **TextRank Algorithm**.\n",
        "\n",
        "What does the **TextRank Algorithm** do ?\n",
        "\n",
        "*   The raw text is preprocessed.(All stopwords ,punctuations removed, words are lemmatized).\n",
        "\n",
        "*   Each sentence of the text corpus undergoes vectorization i.e, we create word embeddings to represent the sentence.\n",
        "\n",
        "*   Next, the algorithm calculates the similarities between sentence vectors whose values are stored in a matrix.\n",
        "\n",
        "*   Now, it builds a graph representation. Each sentence represents a NODE , and the similarity between sentences( stored in the matrix ) are the EDGE values.\n",
        "\n",
        "*   The sentences are ranked according to significance of weights .\n",
        "\n",
        "The top significant sentences are choosen to be a part of the summary."
      ]
    },
    {
      "cell_type": "code",
      "metadata": {
        "id": "alHeeS1FaPN8"
      },
      "source": [
        "# Import gensim library\n",
        "import gensim\n",
        "from gensim.summarization import summarize\n"
      ],
      "execution_count": 2,
      "outputs": []
    },
    {
      "cell_type": "code",
      "metadata": {
        "id": "sh8T6PO6jHlw"
      },
      "source": [
        "article_text='Junk foods taste good thatâ€™s why it is mostly liked by everyone of any age group especially kids and school going children. They generally ask for the junk food daily because they have been trend so by their parents from the childhood. They never have been discussed by their parents about the harmful effects of junk foods over health. According to the research by scientists, it has been found that junk foods have negative effects on the health in many ways. They are generally fried food found in the market in the packets. They become high in calories, high in cholesterol, low in healthy nutrients, high in sodium mineral, high in sugar, starch, unhealthy fat, lack of protein and lack of dietary fibers. Processed and junk foods are the means of rapid and unhealthy weight gain and negatively impact the whole body throughout the life. It makes able a person to gain excessive weight which is called as obesity. Junk foods tastes good and looks good however do not fulfil the healthy calorie requirement of the body. Some of the foods like french fries, fried foods, pizza, burgers, candy, soft drinks, baked goods, ice cream, cookies, etc are the example of high-sugar and high-fat containing foods. It is found according to the Centres for Disease Control and Prevention that Kids and children eating junk food are more prone to the type-2 diabetes. In type-2 diabetes our body become unable to regulate blood sugar level. Risk of getting this disease is increasing as one become more obese or overweight. It increases the risk of kidney failure. Eating junk food daily lead us to the nutritional deficiencies in the body because it is lack of essential nutrients, vitamins, iron, minerals and dietary fibers. It increases risk of cardiovascular diseases because it is rich in saturated fat, sodium and bad cholesterol. High sodium and bad cholesterol diet increases blood pressure and overloads the heart functioning. One who like junk food develop more risk to put on extra weight and become fatter and unhealthier. Junk foods contain high level carbohydrate which spike blood sugar level and make person more lethargic, sleepy and less active and alert. Reflexes and senses of the people eating this food become dull day by day thus they live more sedentary life. Junk foods are the source of constipation and other disease like diabetes, heart ailments, clogged arteries, heart attack, strokes, etc because of being poor in nutrition. Junk food is the easiest way to gain unhealthy weight. The amount of fats and sugar in the food makes you gain weight rapidly. However, this is not a healthy weight. It is more of fats and cholesterol which will have a harmful impact on your health. Junk food is also one of the main reasons for the increase in obesity nowadays.This food only looks and tastes good, other than that, it has no positive points. The amount of calorie your body requires to stay fit is not fulfilled by this food. For instance, foods like French fries, burgers, candy, and cookies, all have high amounts of sugar and fats. Therefore, this can result in long-term illnesses like diabetes and high blood pressure. This may also result in kidney failure. Above all, you can get various nutritional deficiencies when you donâ€™t consume the essential nutrients, vitamins, minerals and more. You become prone to cardiovascular diseases due to the consumption of bad cholesterol and fat plus sodium. In other words, all this interferes with the functioning of your heart. Furthermore, junk food contains a higher level of carbohydrates. It will instantly spike your blood sugar levels. This will result in lethargy, inactiveness, and sleepiness. A person reflex becomes dull overtime and they lead an inactive life. To make things worse, junk food also clogs your arteries and increases the risk of a heart attack. Therefore, it must be avoided at the first instance to save your life from becoming ruined.The main problem with junk food is that people donâ€™t realize its ill effects now. When the time comes, it is too late. Most importantly, the issue is that it does not impact you instantly. It works on your overtime; you will face the consequences sooner or later. Thus, it is better to stop now.You can avoid junk food by encouraging your children from an early age to eat green vegetables. Their taste buds must be developed as such that they find healthy food tasty. Moreover, try to mix things up. Do not serve the same green vegetable daily in the same style. Incorporate different types of healthy food in their diet following different recipes. This will help them to try foods at home rather than being attracted to junk food.In short, do not deprive them completely of it as that will not help. Children will find one way or the other to have it. Make sure you give them junk food in limited quantities and at healthy periods of time. Hope it will help you'\n"
      ],
      "execution_count": 7,
      "outputs": []
    },
    {
      "cell_type": "code",
      "metadata": {
        "colab": {
          "base_uri": "https://localhost:8080/"
        },
        "id": "o5XTxrrFjTu7",
        "outputId": "614aeff3-0f31-4801-f841-939396bbf149"
      },
      "source": [
        "short_summary = summarize(article_text)\n",
        "print(short_summary)"
      ],
      "execution_count": 5,
      "outputs": [
        {
          "output_type": "stream",
          "text": [
            "They become high in calories, high in cholesterol, low in healthy nutrients, high in sodium mineral, high in sugar, starch, unhealthy fat, lack of protein and lack of dietary fibers.\n",
            "Processed and junk foods are the means of rapid and unhealthy weight gain and negatively impact the whole body throughout the life.\n",
            "Junk foods tastes good and looks good however do not fulfil the healthy calorie requirement of the body.\n",
            "It is found according to the Centres for Disease Control and Prevention that Kids and children eating junk food are more prone to the type-2 diabetes.\n",
            "Eating junk food daily lead us to the nutritional deficiencies in the body because it is lack of essential nutrients, vitamins, iron, minerals and dietary fibers.\n",
            "It increases risk of cardiovascular diseases because it is rich in saturated fat, sodium and bad cholesterol.\n",
            "High sodium and bad cholesterol diet increases blood pressure and overloads the heart functioning.\n",
            "One who like junk food develop more risk to put on extra weight and become fatter and unhealthier.\n",
            "Junk foods contain high level carbohydrate which spike blood sugar level and make person more lethargic, sleepy and less active and alert.\n",
            "For instance, foods like French fries, burgers, candy, and cookies, all have high amounts of sugar and fats.\n"
          ],
          "name": "stdout"
        }
      ]
    },
    {
      "cell_type": "markdown",
      "metadata": {
        "id": "OfPo3Twpkp32"
      },
      "source": [
        "If the summary is too long, you can change the default parameters of the summarize function according to your requirements\n",
        "The parameters are :\n",
        "*  ratio : It can take values between 0 to 1. It represents the proportion of the summary compared to the original text.\n",
        "* word_count : It decides the number of words in the summary\n"
      ]
    },
    {
      "cell_type": "code",
      "metadata": {
        "colab": {
          "base_uri": "https://localhost:8080/"
        },
        "id": "s_owp5DtjpPH",
        "outputId": "fda8cc74-378f-4c01-a267-9de750e01b4c"
      },
      "source": [
        "# Only 10% of original text is taken as summary.\n",
        "\n",
        "summary_by_ratio=summarize(article_text,ratio=0.1)\n",
        "print(summary_by_ratio)"
      ],
      "execution_count": 10,
      "outputs": [
        {
          "output_type": "stream",
          "text": [
            "They become high in calories, high in cholesterol, low in healthy nutrients, high in sodium mineral, high in sugar, starch, unhealthy fat, lack of protein and lack of dietary fibers.\n",
            "Processed and junk foods are the means of rapid and unhealthy weight gain and negatively impact the whole body throughout the life.\n",
            "Eating junk food daily lead us to the nutritional deficiencies in the body because it is lack of essential nutrients, vitamins, iron, minerals and dietary fibers.\n",
            "High sodium and bad cholesterol diet increases blood pressure and overloads the heart functioning.\n",
            "Junk foods contain high level carbohydrate which spike blood sugar level and make person more lethargic, sleepy and less active and alert.\n"
          ],
          "name": "stdout"
        }
      ]
    },
    {
      "cell_type": "code",
      "metadata": {
        "colab": {
          "base_uri": "https://localhost:8080/"
        },
        "id": "M9oi-_hxkyZ2",
        "outputId": "a01662ce-7065-4e88-e806-d0c972f1bd89"
      },
      "source": [
        "# word_count of 30 words taken into consideration\n",
        "summary_by_word_count=summarize(article_text,word_count=30)\n",
        "print(summary_by_word_count)"
      ],
      "execution_count": 11,
      "outputs": [
        {
          "output_type": "stream",
          "text": [
            "They become high in calories, high in cholesterol, low in healthy nutrients, high in sodium mineral, high in sugar, starch, unhealthy fat, lack of protein and lack of dietary fibers.\n"
          ],
          "name": "stdout"
        }
      ]
    },
    {
      "cell_type": "code",
      "metadata": {
        "colab": {
          "base_uri": "https://localhost:8080/"
        },
        "id": "0-7qGRhvk1pj",
        "outputId": "9a4901e4-d6c4-4d6b-f7a3-1de640c7275b"
      },
      "source": [
        "# Summarize will take word_count as precedence over ratio, if both are mentioned in the fucnction.\n",
        "summary=summarize(article_text,ratio=0.1,word_count=30)\n",
        "print(summary)"
      ],
      "execution_count": 13,
      "outputs": [
        {
          "output_type": "stream",
          "text": [
            "They become high in calories, high in cholesterol, low in healthy nutrients, high in sodium mineral, high in sugar, starch, unhealthy fat, lack of protein and lack of dietary fibers.\n"
          ],
          "name": "stdout"
        }
      ]
    },
    {
      "cell_type": "markdown",
      "metadata": {
        "id": "ydr2dy8MmI2k"
      },
      "source": [
        "###**Extractive Text Summarization with spacy :**"
      ]
    },
    {
      "cell_type": "code",
      "metadata": {
        "id": "svhw5iZvlItf"
      },
      "source": [
        "# Importing & creating a spacy object\n",
        "\n",
        "import spacy\n",
        "nlp = spacy.load('en_core_web_sm')\n",
        "doc=nlp(article_text)"
      ],
      "execution_count": 14,
      "outputs": []
    },
    {
      "cell_type": "code",
      "metadata": {
        "id": "pJz4wwoTmXY_"
      },
      "source": [
        "# creating a empty list to store keywords\n",
        "keywords_list = []\n",
        "\n",
        "# List of the POS categories which you think are significant\n",
        "desired_pos = ['PROPN','ADJ','NOUN','VERB']\n",
        "\n",
        "# import punctuations for text cleaning\n",
        "from string import punctuation\n",
        "\n",
        "# Iterating through tokens\n",
        "for token in doc:\n",
        "\n",
        "    # checking if a token is stopword or punctuation\n",
        "    if (token.text in nlp.Defaults.stop_words or token.text in punctuation):\n",
        "        continue\n",
        "\n",
        "    # checking if the POS tag of the token is in our desired list\n",
        "    if(token.pos_ in desired_pos):\n",
        "\n",
        "        # If true, append to keyword_list \n",
        "        keywords_list.append(token.text)\n"
      ],
      "execution_count": 16,
      "outputs": []
    },
    {
      "cell_type": "code",
      "metadata": {
        "colab": {
          "base_uri": "https://localhost:8080/"
        },
        "id": "XaD0JUnWs5oH",
        "outputId": "310cdbfa-697d-4d32-ed01-d0c01b03600a"
      },
      "source": [
        "# Importing Counter from Collections module\n",
        "from collections import Counter\n",
        "\n",
        "# creating dictionary of keywords and its frequency\n",
        "dictionary = Counter(keywords_list)\n",
        "print(dictionary)"
      ],
      "execution_count": 17,
      "outputs": [
        {
          "output_type": "stream",
          "text": [
            "Counter({'food': 19, 'junk': 13, 'foods': 12, 'high': 9, 'sugar': 7, 'Junk': 6, 'healthy': 6, 'weight': 6, 'cholesterol': 5, 'body': 5, 'blood': 5, 'heart': 5, 'good': 4, 'sodium': 4, 'fat': 4, 'gain': 4, 'life': 4, 'diabetes': 4, 'level': 4, 'increases': 4, 'risk': 4, 'children': 3, 'effects': 3, 'health': 3, 'found': 3, 'nutrients': 3, 'unhealthy': 3, 'lack': 3, 'impact': 3, 'person': 3, 'bad': 3, 'fats': 3, 'result': 3, 'help': 3, 'taste': 2, 'age': 2, 'parents': 2, 'harmful': 2, 'fried': 2, 'dietary': 2, 'fibers': 2, 'makes': 2, 'obesity': 2, 'tastes': 2, 'looks': 2, 'calorie': 2, 'fries': 2, 'burgers': 2, 'candy': 2, 'cookies': 2, 'eating': 2, 'prone': 2, 'type-2': 2, 'disease': 2, 'kidney': 2, 'failure': 2, 'lead': 2, 'nutritional': 2, 'deficiencies': 2, 'essential': 2, 'vitamins': 2, 'minerals': 2, 'cardiovascular': 2, 'diseases': 2, 'diet': 2, 'pressure': 2, 'functioning': 2, 'spike': 2, 'people': 2, 'dull': 2, 'day': 2, 'arteries': 2, 'attack': 2, 'way': 2, 'main': 2, 'instance': 2, 'donâ€': 2, 't': 2, 'overtime': 2, 'things': 2, 'time': 2, 'green': 2, 'find': 2, 'try': 2, 'different': 2, 'thatâ€': 1, 'liked': 1, 'group': 1, 'kids': 1, 'school': 1, 'going': 1, 'ask': 1, 'trend': 1, 'childhood': 1, 'discussed': 1, 'According': 1, 'research': 1, 'scientists': 1, 'negative': 1, 'ways': 1, 'market': 1, 'packets': 1, 'calories': 1, 'low': 1, 'mineral': 1, 'starch': 1, 'protein': 1, 'Processed': 1, 'means': 1, 'rapid': 1, 'able': 1, 'excessive': 1, 'called': 1, 'fulfil': 1, 'requirement': 1, 'french': 1, 'pizza': 1, 'soft': 1, 'drinks': 1, 'baked': 1, 'goods': 1, 'ice': 1, 'cream': 1, 'example': 1, 'containing': 1, 'according': 1, 'Centres': 1, 'Disease': 1, 'Control': 1, 'Prevention': 1, 'Kids': 1, 'unable': 1, 'regulate': 1, 'Risk': 1, 'getting': 1, 'increasing': 1, 'obese': 1, 'overweight': 1, 'Eating': 1, 'iron': 1, 'rich': 1, 'saturated': 1, 'High': 1, 'overloads': 1, 'like': 1, 'develop': 1, 'extra': 1, 'fatter': 1, 'unhealthier': 1, 'contain': 1, 'carbohydrate': 1, 'lethargic': 1, 'sleepy': 1, 'active': 1, 'alert': 1, 'Reflexes': 1, 'senses': 1, 'live': 1, 'sedentary': 1, 'source': 1, 'constipation': 1, 'ailments': 1, 'clogged': 1, 'strokes': 1, 'poor': 1, 'nutrition': 1, 'easiest': 1, 'reasons': 1, 'increase': 1, 'positive': 1, 'points': 1, 'requires': 1, 'stay': 1, 'fit': 1, 'fulfilled': 1, 'French': 1, 'amounts': 1, 'long': 1, 'term': 1, 'illnesses': 1, 'consume': 1, 'consumption': 1, 'words': 1, 'interferes': 1, 'contains': 1, 'higher': 1, 'carbohydrates': 1, 'levels': 1, 'lethargy': 1, 'inactiveness': 1, 'sleepiness': 1, 'reflex': 1, 'inactive': 1, 'worse': 1, 'clogs': 1, 'avoided': 1, 'save': 1, 'ruined': 1, 'problem': 1, 'realize': 1, 'ill': 1, 'comes': 1, 'late': 1, 'issue': 1, 'works': 1, 'face': 1, 'consequences': 1, 'better': 1, 'stop': 1, 'avoid': 1, 'encouraging': 1, 'early': 1, 'eat': 1, 'vegetables': 1, 'buds': 1, 'developed': 1, 'tasty': 1, 'mix': 1, 'serve': 1, 'vegetable': 1, 'style': 1, 'Incorporate': 1, 'types': 1, 'following': 1, 'recipes': 1, 'home': 1, 'attracted': 1, 'short': 1, 'deprive': 1, 'Children': 1, 'Make': 1, 'sure': 1, 'limited': 1, 'quantities': 1, 'periods': 1, 'Hope': 1})\n"
          ],
          "name": "stdout"
        }
      ]
    },
    {
      "cell_type": "code",
      "metadata": {
        "colab": {
          "base_uri": "https://localhost:8080/"
        },
        "id": "sWbXDKUbtfSU",
        "outputId": "5a37f6e7-052d-4cf3-f004-825c29128511"
      },
      "source": [
        "# Need to normalize the frequency of all keywords. For that, find the highest frequency using .most_common method. \n",
        "# Then apply the normalization formula to all keywords frequencies in the dictionary.\n",
        "\n",
        "highest_frq = Counter(keywords_list).most_common(1)[0][1]\n",
        "print(\"highest_frq is\",highest_frq )\n",
        "\n",
        "# Normalizing process\n",
        "for word in dictionary:\n",
        "    dictionary[word] = (dictionary[word]/highest_frq)\n",
        "print(dictionary)"
      ],
      "execution_count": 27,
      "outputs": [
        {
          "output_type": "stream",
          "text": [
            "highest_frq is 19\n",
            "Counter({'food': 1.0, 'junk': 0.6842105263157895, 'foods': 0.631578947368421, 'high': 0.47368421052631576, 'sugar': 0.3684210526315789, 'Junk': 0.3157894736842105, 'healthy': 0.3157894736842105, 'weight': 0.3157894736842105, 'cholesterol': 0.2631578947368421, 'body': 0.2631578947368421, 'blood': 0.2631578947368421, 'heart': 0.2631578947368421, 'good': 0.21052631578947367, 'sodium': 0.21052631578947367, 'fat': 0.21052631578947367, 'gain': 0.21052631578947367, 'life': 0.21052631578947367, 'diabetes': 0.21052631578947367, 'level': 0.21052631578947367, 'increases': 0.21052631578947367, 'risk': 0.21052631578947367, 'children': 0.15789473684210525, 'effects': 0.15789473684210525, 'health': 0.15789473684210525, 'found': 0.15789473684210525, 'nutrients': 0.15789473684210525, 'unhealthy': 0.15789473684210525, 'lack': 0.15789473684210525, 'impact': 0.15789473684210525, 'person': 0.15789473684210525, 'bad': 0.15789473684210525, 'fats': 0.15789473684210525, 'result': 0.15789473684210525, 'help': 0.15789473684210525, 'taste': 0.10526315789473684, 'age': 0.10526315789473684, 'parents': 0.10526315789473684, 'harmful': 0.10526315789473684, 'fried': 0.10526315789473684, 'dietary': 0.10526315789473684, 'fibers': 0.10526315789473684, 'makes': 0.10526315789473684, 'obesity': 0.10526315789473684, 'tastes': 0.10526315789473684, 'looks': 0.10526315789473684, 'calorie': 0.10526315789473684, 'fries': 0.10526315789473684, 'burgers': 0.10526315789473684, 'candy': 0.10526315789473684, 'cookies': 0.10526315789473684, 'eating': 0.10526315789473684, 'prone': 0.10526315789473684, 'type-2': 0.10526315789473684, 'disease': 0.10526315789473684, 'kidney': 0.10526315789473684, 'failure': 0.10526315789473684, 'lead': 0.10526315789473684, 'nutritional': 0.10526315789473684, 'deficiencies': 0.10526315789473684, 'essential': 0.10526315789473684, 'vitamins': 0.10526315789473684, 'minerals': 0.10526315789473684, 'cardiovascular': 0.10526315789473684, 'diseases': 0.10526315789473684, 'diet': 0.10526315789473684, 'pressure': 0.10526315789473684, 'functioning': 0.10526315789473684, 'spike': 0.10526315789473684, 'people': 0.10526315789473684, 'dull': 0.10526315789473684, 'day': 0.10526315789473684, 'arteries': 0.10526315789473684, 'attack': 0.10526315789473684, 'way': 0.10526315789473684, 'main': 0.10526315789473684, 'instance': 0.10526315789473684, 'donâ€': 0.10526315789473684, 't': 0.10526315789473684, 'overtime': 0.10526315789473684, 'things': 0.10526315789473684, 'time': 0.10526315789473684, 'green': 0.10526315789473684, 'find': 0.10526315789473684, 'try': 0.10526315789473684, 'different': 0.10526315789473684, 'thatâ€': 0.05263157894736842, 'liked': 0.05263157894736842, 'group': 0.05263157894736842, 'kids': 0.05263157894736842, 'school': 0.05263157894736842, 'going': 0.05263157894736842, 'ask': 0.05263157894736842, 'trend': 0.05263157894736842, 'childhood': 0.05263157894736842, 'discussed': 0.05263157894736842, 'According': 0.05263157894736842, 'research': 0.05263157894736842, 'scientists': 0.05263157894736842, 'negative': 0.05263157894736842, 'ways': 0.05263157894736842, 'market': 0.05263157894736842, 'packets': 0.05263157894736842, 'calories': 0.05263157894736842, 'low': 0.05263157894736842, 'mineral': 0.05263157894736842, 'starch': 0.05263157894736842, 'protein': 0.05263157894736842, 'Processed': 0.05263157894736842, 'means': 0.05263157894736842, 'rapid': 0.05263157894736842, 'able': 0.05263157894736842, 'excessive': 0.05263157894736842, 'called': 0.05263157894736842, 'fulfil': 0.05263157894736842, 'requirement': 0.05263157894736842, 'french': 0.05263157894736842, 'pizza': 0.05263157894736842, 'soft': 0.05263157894736842, 'drinks': 0.05263157894736842, 'baked': 0.05263157894736842, 'goods': 0.05263157894736842, 'ice': 0.05263157894736842, 'cream': 0.05263157894736842, 'example': 0.05263157894736842, 'containing': 0.05263157894736842, 'according': 0.05263157894736842, 'Centres': 0.05263157894736842, 'Disease': 0.05263157894736842, 'Control': 0.05263157894736842, 'Prevention': 0.05263157894736842, 'Kids': 0.05263157894736842, 'unable': 0.05263157894736842, 'regulate': 0.05263157894736842, 'Risk': 0.05263157894736842, 'getting': 0.05263157894736842, 'increasing': 0.05263157894736842, 'obese': 0.05263157894736842, 'overweight': 0.05263157894736842, 'Eating': 0.05263157894736842, 'iron': 0.05263157894736842, 'rich': 0.05263157894736842, 'saturated': 0.05263157894736842, 'High': 0.05263157894736842, 'overloads': 0.05263157894736842, 'like': 0.05263157894736842, 'develop': 0.05263157894736842, 'extra': 0.05263157894736842, 'fatter': 0.05263157894736842, 'unhealthier': 0.05263157894736842, 'contain': 0.05263157894736842, 'carbohydrate': 0.05263157894736842, 'lethargic': 0.05263157894736842, 'sleepy': 0.05263157894736842, 'active': 0.05263157894736842, 'alert': 0.05263157894736842, 'Reflexes': 0.05263157894736842, 'senses': 0.05263157894736842, 'live': 0.05263157894736842, 'sedentary': 0.05263157894736842, 'source': 0.05263157894736842, 'constipation': 0.05263157894736842, 'ailments': 0.05263157894736842, 'clogged': 0.05263157894736842, 'strokes': 0.05263157894736842, 'poor': 0.05263157894736842, 'nutrition': 0.05263157894736842, 'easiest': 0.05263157894736842, 'reasons': 0.05263157894736842, 'increase': 0.05263157894736842, 'positive': 0.05263157894736842, 'points': 0.05263157894736842, 'requires': 0.05263157894736842, 'stay': 0.05263157894736842, 'fit': 0.05263157894736842, 'fulfilled': 0.05263157894736842, 'French': 0.05263157894736842, 'amounts': 0.05263157894736842, 'long': 0.05263157894736842, 'term': 0.05263157894736842, 'illnesses': 0.05263157894736842, 'consume': 0.05263157894736842, 'consumption': 0.05263157894736842, 'words': 0.05263157894736842, 'interferes': 0.05263157894736842, 'contains': 0.05263157894736842, 'higher': 0.05263157894736842, 'carbohydrates': 0.05263157894736842, 'levels': 0.05263157894736842, 'lethargy': 0.05263157894736842, 'inactiveness': 0.05263157894736842, 'sleepiness': 0.05263157894736842, 'reflex': 0.05263157894736842, 'inactive': 0.05263157894736842, 'worse': 0.05263157894736842, 'clogs': 0.05263157894736842, 'avoided': 0.05263157894736842, 'save': 0.05263157894736842, 'ruined': 0.05263157894736842, 'problem': 0.05263157894736842, 'realize': 0.05263157894736842, 'ill': 0.05263157894736842, 'comes': 0.05263157894736842, 'late': 0.05263157894736842, 'issue': 0.05263157894736842, 'works': 0.05263157894736842, 'face': 0.05263157894736842, 'consequences': 0.05263157894736842, 'better': 0.05263157894736842, 'stop': 0.05263157894736842, 'avoid': 0.05263157894736842, 'encouraging': 0.05263157894736842, 'early': 0.05263157894736842, 'eat': 0.05263157894736842, 'vegetables': 0.05263157894736842, 'buds': 0.05263157894736842, 'developed': 0.05263157894736842, 'tasty': 0.05263157894736842, 'mix': 0.05263157894736842, 'serve': 0.05263157894736842, 'vegetable': 0.05263157894736842, 'style': 0.05263157894736842, 'Incorporate': 0.05263157894736842, 'types': 0.05263157894736842, 'following': 0.05263157894736842, 'recipes': 0.05263157894736842, 'home': 0.05263157894736842, 'attracted': 0.05263157894736842, 'short': 0.05263157894736842, 'deprive': 0.05263157894736842, 'Children': 0.05263157894736842, 'Make': 0.05263157894736842, 'sure': 0.05263157894736842, 'limited': 0.05263157894736842, 'quantities': 0.05263157894736842, 'periods': 0.05263157894736842, 'Hope': 0.05263157894736842})\n"
          ],
          "name": "stdout"
        }
      ]
    },
    {
      "cell_type": "markdown",
      "metadata": {
        "id": "s2MtFzK4w1d-"
      },
      "source": [
        "Next , you need to assign scores to each sentence. You can access the sentences in a doc through **doc.sents**. You can iterate through each token of sentence , select the keyword values and store them in a dictionary score."
      ]
    },
    {
      "cell_type": "code",
      "metadata": {
        "colab": {
          "base_uri": "https://localhost:8080/"
        },
        "id": "s--M29Byt6LB",
        "outputId": "7d91579d-1f77-4340-cf1b-8a3121d42ca5"
      },
      "source": [
        "# Creating a dictionary to store the score of each sentence\n",
        "score={}\n",
        "\n",
        "# Iterating through each sentence\n",
        "for sentence in doc.sents: \n",
        "\n",
        "    # Iterating through token of each sentence\n",
        "    for token in sentence:\n",
        "        # checking if the token is a keyword \n",
        "        if token.text in dictionary.keys():\n",
        "            # If true , add the frequency of keyword to the score dictionary \n",
        "            if sentence in score.keys():\n",
        "                score[sentence]+=dictionary[token.text]\n",
        "            else:   \n",
        "                score[sentence]=dictionary[token.text]\n",
        "\n",
        "print(score)\n"
      ],
      "execution_count": 29,
      "outputs": [
        {
          "output_type": "stream",
          "text": [
            "{Junk foods taste good thatâ€™s why it is mostly liked by everyone of any age group especially kids and school going children.: 1.8421052631578942, They generally ask for the junk food daily because they have been trend so by their parents from the childhood.: 1.9473684210526316, They never have been discussed by their parents about the harmful effects of junk foods over health.: 1.894736842105263, According to the research by scientists, it has been found that junk foods have negative effects on the health in many ways.: 2.0526315789473686, They are generally fried food found in the market in the packets.: 1.3684210526315788, They become high in calories, high in cholesterol, low in healthy nutrients, high in sodium mineral, high in sugar, starch, unhealthy fat, lack of protein and lack of dietary fibers.: 4.36842105263158, Processed and junk foods are the means of rapid and unhealthy weight gain and negatively impact the whole body throughout the life.: 2.7894736842105265, It makes able a person to gain excessive weight which is called as obesity.: 1.0526315789473686, Junk foods tastes good and looks good however do not fulfil the healthy calorie requirement of the body.: 2.3684210526315788, Some of the foods like french fries, fried foods, pizza, burgers, candy, soft drinks, baked goods, ice cream, cookies, etc are the example of high-sugar and high-fat containing foods.: 4.526315789473684, It is found according to the Centres for Disease Control and Prevention that Kids and children eating junk food are more prone to the type-2 diabetes.: 2.8421052631578947, In type-2 diabetes our body become unable to regulate blood sugar level.: 1.526315789473684, Risk of getting this disease is increasing as one become more obese or overweight.: 0.3684210526315789, It increases the risk of kidney failure.: 0.631578947368421, Eating junk food daily lead us to the nutritional deficiencies in the body because it is lack of essential nutrients, vitamins, iron, minerals and dietary fibers.: 3.210526315789473, It increases risk of cardiovascular diseases because it is rich in saturated fat, sodium and bad cholesterol.: 1.5789473684210524, High sodium and bad cholesterol diet increases blood pressure and overloads the heart functioning.: 1.789473684210526, One who like junk food develop more risk to put on extra weight and become fatter and unhealthier.: 2.4736842105263164, Junk foods contain high level carbohydrate which spike blood sugar level and make person more lethargic, sleepy and less active and alert.: 3.052631578947369, Reflexes and senses of the people eating this food become dull day by day: 1.6315789473684208, thus they live more sedentary life.: 0.3157894736842105, Junk foods are the source of constipation and other disease like diabetes, heart ailments, clogged arteries, heart attack, strokes, etc because of being poor in nutrition.: 2.4210526315789473, Junk food is the easiest way to gain unhealthy weight.: 2.1578947368421053, The amount of fats and sugar in the food makes you gain weight rapidly.: 2.157894736842105, However, this is not a healthy weight.: 0.631578947368421, It is more of fats and cholesterol which will have a harmful impact on your health.: 0.8421052631578947, Junk food is also one of the main reasons for the increase in obesity nowadays.: 1.6315789473684208, This food only looks and tastes good, other than that, it has no positive points.: 1.5263157894736838, The amount of calorie your body requires to stay fit is not fulfilled by this food.: 1.5789473684210527, For instance, foods like French fries, burgers, candy, and cookies, all have high amounts of sugar and fats.: 2.31578947368421, Therefore, this can result in long-term illnesses like diabetes and high blood pressure.: 1.4210526315789473, This may also result in kidney failure.: 0.3684210526315789, Above all, you can get various nutritional deficiencies when you donâ€™t consume the essential nutrients, vitamins, minerals and more.: 0.9473684210526316, You become prone to cardiovascular diseases due to the consumption of bad cholesterol and fat plus sodium.: 1.2105263157894737, In other words, all this interferes with the functioning of your heart.: 0.47368421052631576, Furthermore, junk food contains a higher level of carbohydrates.: 2.052631578947368, It will instantly spike your blood sugar levels.: 0.7894736842105263, This will result in lethargy, inactiveness, and sleepiness.: 0.3157894736842105, A person reflex becomes dull overtime: 0.42105263157894735, and they lead an inactive life.: 0.3684210526315789, To make things worse, junk food also clogs your arteries and increases the risk of a heart attack.: 2.7894736842105257, Therefore, it must be avoided at the first instance to save your life from becoming ruined.: 0.47368421052631576, The main problem with junk food is that people donâ€™t realize its ill effects now.: 2.4210526315789473, When the time comes, it is too late.: 0.21052631578947367, Most importantly, the issue is that it does not impact you instantly.: 0.21052631578947367, It works on your overtime; you will face the consequences sooner or later.: 0.2631578947368421, Thus, it is better to stop now.: 0.10526315789473684, You can avoid junk food by encouraging your children from an early age to eat green vegetables.: 2.3157894736842106, Their taste buds must be developed as such that they find healthy food tasty.: 1.6842105263157894, Moreover, try to mix things up.: 0.2631578947368421, Do not serve the same green vegetable daily in the same style.: 0.2631578947368421, Incorporate different types of healthy food in their diet following different recipes.: 1.8421052631578945, This will help them to try foods at home rather than being attracted to junk food.: 2.6842105263157894, In short, do not deprive them completely of it as that will not help.: 0.2631578947368421, Children will find one way or the other to have it.: 0.2631578947368421, Make sure you give them junk food in limited quantities and at healthy periods of time.: 2.3684210526315788, Hope it will help you: 0.21052631578947367}\n"
          ],
          "name": "stdout"
        }
      ]
    },
    {
      "cell_type": "code",
      "metadata": {
        "colab": {
          "base_uri": "https://localhost:8080/"
        },
        "id": "9pbrWx24xeEr",
        "outputId": "12a0bcd2-a91a-4037-df8c-cf97d1102e29"
      },
      "source": [
        "# Now that you have score of each sentence, you can sort the sentences in the descending order of their significance.\n",
        "\n",
        "sorted_score = sorted(score.items(), key=lambda kv: kv[1], reverse=True)\n",
        "print(sorted_score)\n",
        "print(len(sorted_score))"
      ],
      "execution_count": 32,
      "outputs": [
        {
          "output_type": "stream",
          "text": [
            "[(Some of the foods like french fries, fried foods, pizza, burgers, candy, soft drinks, baked goods, ice cream, cookies, etc are the example of high-sugar and high-fat containing foods., 4.526315789473684), (They become high in calories, high in cholesterol, low in healthy nutrients, high in sodium mineral, high in sugar, starch, unhealthy fat, lack of protein and lack of dietary fibers., 4.36842105263158), (Eating junk food daily lead us to the nutritional deficiencies in the body because it is lack of essential nutrients, vitamins, iron, minerals and dietary fibers., 3.210526315789473), (Junk foods contain high level carbohydrate which spike blood sugar level and make person more lethargic, sleepy and less active and alert., 3.052631578947369), (It is found according to the Centres for Disease Control and Prevention that Kids and children eating junk food are more prone to the type-2 diabetes., 2.8421052631578947), (Processed and junk foods are the means of rapid and unhealthy weight gain and negatively impact the whole body throughout the life., 2.7894736842105265), (To make things worse, junk food also clogs your arteries and increases the risk of a heart attack., 2.7894736842105257), (This will help them to try foods at home rather than being attracted to junk food., 2.6842105263157894), (One who like junk food develop more risk to put on extra weight and become fatter and unhealthier., 2.4736842105263164), (Junk foods are the source of constipation and other disease like diabetes, heart ailments, clogged arteries, heart attack, strokes, etc because of being poor in nutrition., 2.4210526315789473), (The main problem with junk food is that people donâ€™t realize its ill effects now., 2.4210526315789473), (Junk foods tastes good and looks good however do not fulfil the healthy calorie requirement of the body., 2.3684210526315788), (Make sure you give them junk food in limited quantities and at healthy periods of time., 2.3684210526315788), (You can avoid junk food by encouraging your children from an early age to eat green vegetables., 2.3157894736842106), (For instance, foods like French fries, burgers, candy, and cookies, all have high amounts of sugar and fats., 2.31578947368421), (Junk food is the easiest way to gain unhealthy weight., 2.1578947368421053), (The amount of fats and sugar in the food makes you gain weight rapidly., 2.157894736842105), (According to the research by scientists, it has been found that junk foods have negative effects on the health in many ways., 2.0526315789473686), (Furthermore, junk food contains a higher level of carbohydrates., 2.052631578947368), (They generally ask for the junk food daily because they have been trend so by their parents from the childhood., 1.9473684210526316), (They never have been discussed by their parents about the harmful effects of junk foods over health., 1.894736842105263), (Incorporate different types of healthy food in their diet following different recipes., 1.8421052631578945), (Junk foods taste good thatâ€™s why it is mostly liked by everyone of any age group especially kids and school going children., 1.8421052631578942), (High sodium and bad cholesterol diet increases blood pressure and overloads the heart functioning., 1.789473684210526), (Their taste buds must be developed as such that they find healthy food tasty., 1.6842105263157894), (Reflexes and senses of the people eating this food become dull day by day, 1.6315789473684208), (Junk food is also one of the main reasons for the increase in obesity nowadays., 1.6315789473684208), (The amount of calorie your body requires to stay fit is not fulfilled by this food., 1.5789473684210527), (It increases risk of cardiovascular diseases because it is rich in saturated fat, sodium and bad cholesterol., 1.5789473684210524), (In type-2 diabetes our body become unable to regulate blood sugar level., 1.526315789473684), (This food only looks and tastes good, other than that, it has no positive points., 1.5263157894736838), (Therefore, this can result in long-term illnesses like diabetes and high blood pressure., 1.4210526315789473), (They are generally fried food found in the market in the packets., 1.3684210526315788), (You become prone to cardiovascular diseases due to the consumption of bad cholesterol and fat plus sodium., 1.2105263157894737), (It makes able a person to gain excessive weight which is called as obesity., 1.0526315789473686), (Above all, you can get various nutritional deficiencies when you donâ€™t consume the essential nutrients, vitamins, minerals and more., 0.9473684210526316), (It is more of fats and cholesterol which will have a harmful impact on your health., 0.8421052631578947), (It will instantly spike your blood sugar levels., 0.7894736842105263), (It increases the risk of kidney failure., 0.631578947368421), (However, this is not a healthy weight., 0.631578947368421), (In other words, all this interferes with the functioning of your heart., 0.47368421052631576), (Therefore, it must be avoided at the first instance to save your life from becoming ruined., 0.47368421052631576), (A person reflex becomes dull overtime, 0.42105263157894735), (Risk of getting this disease is increasing as one become more obese or overweight., 0.3684210526315789), (This may also result in kidney failure., 0.3684210526315789), (and they lead an inactive life., 0.3684210526315789), (thus they live more sedentary life., 0.3157894736842105), (This will result in lethargy, inactiveness, and sleepiness., 0.3157894736842105), (It works on your overtime; you will face the consequences sooner or later., 0.2631578947368421), (Moreover, try to mix things up., 0.2631578947368421), (Do not serve the same green vegetable daily in the same style., 0.2631578947368421), (In short, do not deprive them completely of it as that will not help., 0.2631578947368421), (Children will find one way or the other to have it., 0.2631578947368421), (When the time comes, it is too late., 0.21052631578947367), (Most importantly, the issue is that it does not impact you instantly., 0.21052631578947367), (Hope it will help you, 0.21052631578947367), (Thus, it is better to stop now., 0.10526315789473684)]\n",
            "57\n"
          ],
          "name": "stdout"
        }
      ]
    },
    {
      "cell_type": "code",
      "metadata": {
        "colab": {
          "base_uri": "https://localhost:8080/"
        },
        "id": "_rz6tK0wx6qu",
        "outputId": "8f389817-0adf-41e1-a5d9-fd6fa0bf9405"
      },
      "source": [
        "# Depending upon number of sentences you required, add sentences from the sorted_score untill you have reached the desired number of sentences.\n",
        "\n",
        "# list to store sentences of summary\n",
        "\n",
        "text_summary = []\n",
        "\n",
        "# Deciding the total number of sentences in summary\n",
        "no_of_sentences = 4\n",
        "\n",
        "total = 0\n",
        "for i in range(len(sorted_score)):\n",
        "    # appending to the summary\n",
        "    #print(sorted_score[i][0])\n",
        "    text_summary.append(str(sorted_score[i][0]).capitalize())\n",
        "    total += 1\n",
        "    # checking if limit exceeded\n",
        "    if(total >= no_of_sentences):\n",
        "        break \n",
        "\n",
        "print(text_summary)\n",
        "\n"
      ],
      "execution_count": 40,
      "outputs": [
        {
          "output_type": "stream",
          "text": [
            "['Some of the foods like french fries, fried foods, pizza, burgers, candy, soft drinks, baked goods, ice cream, cookies, etc are the example of high-sugar and high-fat containing foods.', 'They become high in calories, high in cholesterol, low in healthy nutrients, high in sodium mineral, high in sugar, starch, unhealthy fat, lack of protein and lack of dietary fibers.', 'Eating junk food daily lead us to the nutritional deficiencies in the body because it is lack of essential nutrients, vitamins, iron, minerals and dietary fibers.', 'Junk foods contain high level carbohydrate which spike blood sugar level and make person more lethargic, sleepy and less active and alert.']\n"
          ],
          "name": "stdout"
        }
      ]
    },
    {
      "cell_type": "markdown",
      "metadata": {
        "id": "sft45dm10E7q"
      },
      "source": [
        "### Conclusion : Text Summarization using spaCy is more lenghty approach compared to using gensim"
      ]
    },
    {
      "cell_type": "markdown",
      "metadata": {
        "id": "4pYCwg641DwP"
      },
      "source": [
        "## Generative Text Summarization\n",
        "In the extractive method, the sentences of the summary are all taken from the original text. There is no change in structure of any sentence.\n",
        "\n",
        "Generative text summarization methods overcome this shortcoming. The concept is based on capturing the meaning of the text and generating entitrely new sentences to best represent them in the summary."
      ]
    },
    {
      "cell_type": "markdown",
      "metadata": {
        "id": "WxgMsECA1V1s"
      },
      "source": [
        "### Generative text summarization using **Hugging face**\n",
        "Hugging face is supported by Pytorch and tensorflow 2.0 currently. You can use transformers of Hugging Face to implement Summarization. \n"
      ]
    },
    {
      "cell_type": "code",
      "metadata": {
        "colab": {
          "base_uri": "https://localhost:8080/"
        },
        "id": "K_aH5KHqzdtB",
        "outputId": "a7de9873-5609-40c8-e32c-be81a29604f1"
      },
      "source": [
        "# Download Hugging Face Transformers\n",
        "\n",
        "!pip install transformers --upgrade"
      ],
      "execution_count": 42,
      "outputs": [
        {
          "output_type": "stream",
          "text": [
            "Collecting transformers\n",
            "\u001b[?25l  Downloading https://files.pythonhosted.org/packages/fd/1a/41c644c963249fd7f3836d926afa1e3f1cc234a1c40d80c5f03ad8f6f1b2/transformers-4.8.2-py3-none-any.whl (2.5MB)\n",
            "\u001b[K     |████████████████████████████████| 2.5MB 5.4MB/s \n",
            "\u001b[?25hRequirement already satisfied, skipping upgrade: numpy>=1.17 in /usr/local/lib/python3.7/dist-packages (from transformers) (1.19.5)\n",
            "Requirement already satisfied, skipping upgrade: tqdm>=4.27 in /usr/local/lib/python3.7/dist-packages (from transformers) (4.41.1)\n",
            "Requirement already satisfied, skipping upgrade: filelock in /usr/local/lib/python3.7/dist-packages (from transformers) (3.0.12)\n",
            "Collecting tokenizers<0.11,>=0.10.1\n",
            "\u001b[?25l  Downloading https://files.pythonhosted.org/packages/d4/e2/df3543e8ffdab68f5acc73f613de9c2b155ac47f162e725dcac87c521c11/tokenizers-0.10.3-cp37-cp37m-manylinux_2_5_x86_64.manylinux1_x86_64.manylinux_2_12_x86_64.manylinux2010_x86_64.whl (3.3MB)\n",
            "\u001b[K     |████████████████████████████████| 3.3MB 14.3MB/s \n",
            "\u001b[?25hRequirement already satisfied, skipping upgrade: pyyaml in /usr/local/lib/python3.7/dist-packages (from transformers) (3.13)\n",
            "Collecting sacremoses\n",
            "\u001b[?25l  Downloading https://files.pythonhosted.org/packages/75/ee/67241dc87f266093c533a2d4d3d69438e57d7a90abb216fa076e7d475d4a/sacremoses-0.0.45-py3-none-any.whl (895kB)\n",
            "\u001b[K     |████████████████████████████████| 901kB 47.7MB/s \n",
            "\u001b[?25hRequirement already satisfied, skipping upgrade: packaging in /usr/local/lib/python3.7/dist-packages (from transformers) (21.0)\n",
            "Requirement already satisfied, skipping upgrade: importlib-metadata; python_version < \"3.8\" in /usr/local/lib/python3.7/dist-packages (from transformers) (4.6.1)\n",
            "Requirement already satisfied, skipping upgrade: requests in /usr/local/lib/python3.7/dist-packages (from transformers) (2.23.0)\n",
            "Collecting huggingface-hub==0.0.12\n",
            "  Downloading https://files.pythonhosted.org/packages/2f/ee/97e253668fda9b17e968b3f97b2f8e53aa0127e8807d24a547687423fe0b/huggingface_hub-0.0.12-py3-none-any.whl\n",
            "Requirement already satisfied, skipping upgrade: regex!=2019.12.17 in /usr/local/lib/python3.7/dist-packages (from transformers) (2019.12.20)\n",
            "Requirement already satisfied, skipping upgrade: joblib in /usr/local/lib/python3.7/dist-packages (from sacremoses->transformers) (1.0.1)\n",
            "Requirement already satisfied, skipping upgrade: six in /usr/local/lib/python3.7/dist-packages (from sacremoses->transformers) (1.15.0)\n",
            "Requirement already satisfied, skipping upgrade: click in /usr/local/lib/python3.7/dist-packages (from sacremoses->transformers) (7.1.2)\n",
            "Requirement already satisfied, skipping upgrade: pyparsing>=2.0.2 in /usr/local/lib/python3.7/dist-packages (from packaging->transformers) (2.4.7)\n",
            "Requirement already satisfied, skipping upgrade: typing-extensions>=3.6.4; python_version < \"3.8\" in /usr/local/lib/python3.7/dist-packages (from importlib-metadata; python_version < \"3.8\"->transformers) (3.7.4.3)\n",
            "Requirement already satisfied, skipping upgrade: zipp>=0.5 in /usr/local/lib/python3.7/dist-packages (from importlib-metadata; python_version < \"3.8\"->transformers) (3.5.0)\n",
            "Requirement already satisfied, skipping upgrade: certifi>=2017.4.17 in /usr/local/lib/python3.7/dist-packages (from requests->transformers) (2021.5.30)\n",
            "Requirement already satisfied, skipping upgrade: idna<3,>=2.5 in /usr/local/lib/python3.7/dist-packages (from requests->transformers) (2.10)\n",
            "Requirement already satisfied, skipping upgrade: urllib3!=1.25.0,!=1.25.1,<1.26,>=1.21.1 in /usr/local/lib/python3.7/dist-packages (from requests->transformers) (1.24.3)\n",
            "Requirement already satisfied, skipping upgrade: chardet<4,>=3.0.2 in /usr/local/lib/python3.7/dist-packages (from requests->transformers) (3.0.4)\n",
            "Installing collected packages: tokenizers, sacremoses, huggingface-hub, transformers\n",
            "Successfully installed huggingface-hub-0.0.12 sacremoses-0.0.45 tokenizers-0.10.3 transformers-4.8.2\n"
          ],
          "name": "stdout"
        }
      ]
    },
    {
      "cell_type": "code",
      "metadata": {
        "id": "PXqKceLf1tnC"
      },
      "source": [
        "# Importing torch library\n",
        "import torch\n",
        "\n",
        "# import pipeline from transformers. It is the model instance\n",
        "from transformers import pipeline"
      ],
      "execution_count": 45,
      "outputs": []
    },
    {
      "cell_type": "markdown",
      "metadata": {
        "id": "vPlRnEDx2_eR"
      },
      "source": [
        "The pipeline has parameters which you can set as per the requirements of your problem.\n",
        "Some main parameters are:\n",
        "\n",
        "*  task : You can choose among a set of strings that specify the task , and the corresponding pipeline will bw returned.example : **task=summarization** returns a **SummarizationPipeline**\n",
        "*  model : To specify the model that will be used by the pipeline. You can use pretrained models\n",
        "*  tokenizer : You can specify the tokenizer you want to use for encoding the data for the model. You can use PreTrained Tokenizers.\n",
        "\n",
        "Note : model and tokenizer are optional arguments. If not specified, the default one for the pipeline will be used.\n"
      ]
    },
    {
      "cell_type": "code",
      "metadata": {
        "colab": {
          "base_uri": "https://localhost:8080/",
          "height": 268,
          "referenced_widgets": [
            "fac00972bf7b4db89ec93023937268a9",
            "4cec97c49586434f88fa86ddfa5666af",
            "fed0d6f93ba2463aa5e9550bfe8e3eb5",
            "90c5b14bcf9c4778904c850b7e0aca2f",
            "c38e89afd1094af3a056a8c0eec6ae89",
            "48b1ce6a9e634cab95de5209c04c864a",
            "ec604b15922f4757bf8c86da49dde0c1",
            "7e51f398acb54a0ab9b383e4cda7fd25",
            "6f2eedd618fa407093e78c2b46192a7e",
            "c8361ffa52594fc8af53ca4c680dd5b2",
            "11841c0bfa5f41e2acca6ed3d4c03225",
            "242cddf8258a4b4c992f43e59320de0c",
            "afcf8fe21a0741dcba3fa30b50614831",
            "ddecd89430aa4ffda15ba5cd0934fdbb",
            "a5a77e53f8e849f59ec1f7e5878ec740",
            "4db5a1396ab84932af95a34eb04f62bd",
            "e150f00c25d448e69164bfead1f95530",
            "7341617c108d4335b63124e7cf5c80b4",
            "8abe0fc2c3924c55aade9662ec818395",
            "03ac4d0c8ee64f75bf0ffbbd2a149b9c",
            "e6fc1405beb34b3a9937e6818285335e",
            "7986acbbb4ba4d67ae0b42dbf4a1c4c8",
            "d230b28b53ab42d4baf6fd581129d168",
            "a4b6be752c964b1cbf54c540c91a8b0c",
            "5432eb1e0270482899f240195a382ff2",
            "262355caa0fa4119a770934aed76fe2c",
            "0711fb051af548718b11052abe49d743",
            "85e450bf309c4f29b417556f12c14f91",
            "75f3b191a1944eaaaf5392b03acc1bdf",
            "6e65f19d80ab4a5abe4b1c44032017a7",
            "8388aab261294360a449d91d4e83934a",
            "b23da3a6e44641a0b59494cb12853232",
            "941f21b9dbf849e0828bf23e0050f7b9",
            "4fb3ebf503c646adbec18227bc83e296",
            "54710569f65748dfbfba57bba346a3de",
            "b21b8dd00f3241a296c9b692f12a0b66",
            "acb0d22870104e458ba5c2240dc1e58d",
            "5605fb1b31e7409f95142c454e896bf2",
            "6a28703c3d294ff5a9daec7705fe7284",
            "4440adec288b43f09e39995de864ba0c"
          ]
        },
        "id": "zKnLl68-29c-",
        "outputId": "123a7cb1-9e41-4720-b2c8-a5843723814b"
      },
      "source": [
        "# Below pipeline returns a SummarizationPipeline\n",
        "summarizer=pipeline(task=\"summarization\")"
      ],
      "execution_count": 47,
      "outputs": [
        {
          "output_type": "display_data",
          "data": {
            "application/vnd.jupyter.widget-view+json": {
              "model_id": "fac00972bf7b4db89ec93023937268a9",
              "version_minor": 0,
              "version_major": 2
            },
            "text/plain": [
              "HBox(children=(FloatProgress(value=0.0, description='Downloading', max=1802.0, style=ProgressStyle(description…"
            ]
          },
          "metadata": {
            "tags": []
          }
        },
        {
          "output_type": "stream",
          "text": [
            "\n"
          ],
          "name": "stdout"
        },
        {
          "output_type": "display_data",
          "data": {
            "application/vnd.jupyter.widget-view+json": {
              "model_id": "6f2eedd618fa407093e78c2b46192a7e",
              "version_minor": 0,
              "version_major": 2
            },
            "text/plain": [
              "HBox(children=(FloatProgress(value=0.0, description='Downloading', max=1222317369.0, style=ProgressStyle(descr…"
            ]
          },
          "metadata": {
            "tags": []
          }
        },
        {
          "output_type": "stream",
          "text": [
            "\n"
          ],
          "name": "stdout"
        },
        {
          "output_type": "display_data",
          "data": {
            "application/vnd.jupyter.widget-view+json": {
              "model_id": "e150f00c25d448e69164bfead1f95530",
              "version_minor": 0,
              "version_major": 2
            },
            "text/plain": [
              "HBox(children=(FloatProgress(value=0.0, description='Downloading', max=26.0, style=ProgressStyle(description_w…"
            ]
          },
          "metadata": {
            "tags": []
          }
        },
        {
          "output_type": "stream",
          "text": [
            "\n"
          ],
          "name": "stdout"
        },
        {
          "output_type": "display_data",
          "data": {
            "application/vnd.jupyter.widget-view+json": {
              "model_id": "5432eb1e0270482899f240195a382ff2",
              "version_minor": 0,
              "version_major": 2
            },
            "text/plain": [
              "HBox(children=(FloatProgress(value=0.0, description='Downloading', max=898822.0, style=ProgressStyle(descripti…"
            ]
          },
          "metadata": {
            "tags": []
          }
        },
        {
          "output_type": "stream",
          "text": [
            "\n"
          ],
          "name": "stdout"
        },
        {
          "output_type": "display_data",
          "data": {
            "application/vnd.jupyter.widget-view+json": {
              "model_id": "941f21b9dbf849e0828bf23e0050f7b9",
              "version_minor": 0,
              "version_major": 2
            },
            "text/plain": [
              "HBox(children=(FloatProgress(value=0.0, description='Downloading', max=456318.0, style=ProgressStyle(descripti…"
            ]
          },
          "metadata": {
            "tags": []
          }
        },
        {
          "output_type": "stream",
          "text": [
            "\n"
          ],
          "name": "stdout"
        }
      ]
    },
    {
      "cell_type": "code",
      "metadata": {
        "colab": {
          "base_uri": "https://localhost:8080/"
        },
        "id": "tYYu7ixW342l",
        "outputId": "b9f53181-5a1f-46e4-f026-f54fffaa4c2c"
      },
      "source": [
        "summarizer"
      ],
      "execution_count": 48,
      "outputs": [
        {
          "output_type": "execute_result",
          "data": {
            "text/plain": [
              "<transformers.pipelines.text2text_generation.SummarizationPipeline at 0x7f59f56a0750>"
            ]
          },
          "metadata": {
            "tags": []
          },
          "execution_count": 48
        }
      ]
    },
    {
      "cell_type": "code",
      "metadata": {
        "id": "1zLQV7rN75eh"
      },
      "source": [
        "article_text='Junk foods taste good thatâ€™s why it is mostly liked by everyone of any age group especially kids and school going children. They generally ask for the junk food daily because they have been trend so by their parents from the childhood. They never have been discussed by their parents about the harmful effects of junk foods over health. According to the research by scientists, it has been found that junk foods have negative effects on the health in many ways. They are generally fried food found in the market in the packets. They become high in calories, high in cholesterol, low in healthy nutrients, high in sodium mineral, high in sugar, starch, unhealthy fat, lack of protein and lack of dietary fibers. Processed and junk foods are the means of rapid and unhealthy weight gain and negatively impact the whole body throughout the life. It makes able a person to gain excessive weight which is called as obesity. Junk foods tastes good and looks good however do not fulfil the healthy calorie requirement of the body. Some of the foods like french fries, fried foods, pizza, burgers, candy, soft drinks, baked goods, ice cream, cookies, etc are the example of high-sugar and high-fat containing foods. It is found according to the Centres for Disease Control and Prevention that Kids and children eating junk food are more prone to the type-2 diabetes. In type-2 diabetes our body become unable to regulate blood sugar level. Risk of getting this disease is increasing as one become more obese or overweight. It increases the risk of kidney failure. Eating junk food daily lead us to the nutritional deficiencies in the body because it is lack of essential nutrients, vitamins, iron, minerals and dietary fibers. It increases risk of cardiovascular diseases because it is rich in saturated fat, sodium and bad cholesterol. High sodium and bad cholesterol diet increases blood pressure and overloads the heart functioning. One who like junk food develop more risk to put on extra weight and become fatter and unhealthier. Junk foods contain high level carbohydrate which spike blood sugar level and make person more lethargic, sleepy and less active and alert. Reflexes and senses of the people eating this food become dull day by day thus they live more sedentary life. Junk foods are the source of constipation and other disease like diabetes, heart ailments, clogged arteries, heart attack, strokes, etc because of being poor in nutrition. Junk food is the easiest way to gain unhealthy weight. The amount of fats and sugar in the food makes you gain weight rapidly. However, this is not a healthy weight. It is more of fats and cholesterol which will have a harmful impact on your health. Junk food is also one of the main reasons for the increase in obesity nowadays.This food only looks and tastes good, other than that, it has no positive points. The amount of calorie your body requires to stay fit is not fulfilled by this food. For instance, foods like French fries, burgers, candy, and cookies, all have high amounts of sugar and fats. Therefore, this can result in long-term illnesses like diabetes and high blood pressure. This may also result in kidney failure. Above all, you can get various nutritional deficiencies when you donâ€™t consume the essential nutrients, vitamins, minerals and more. You become prone to cardiovascular diseases due to the consumption of bad cholesterol and fat plus sodium. In other words, all this interferes with the functioning of your heart. Furthermore, junk food contains a higher level of carbohydrates. It will instantly spike your blood sugar levels. This will result in lethargy, inactiveness, and sleepiness. A person reflex becomes dull overtime and they lead an inactive life. To make things worse, junk food also clogs your arteries and increases the risk of a heart attack. Therefore, it must be avoided at the first instance to save your life from becoming ruined.The main problem with junk food is that people donâ€™t realize its ill effects now. When the time comes, it is too late. Most importantly, the issue is that it does not impact you instantly. It works on your overtime; you will face the consequences sooner or later. Thus, it is better to stop now.You can avoid junk food by encouraging your children from an early age to eat green vegetables. Their taste buds must be developed as such that they find healthy food tasty. Moreover, try to mix things up. Do not serve the same green vegetable daily in the same style. Incorporate different types of healthy food in their diet following different recipes. This will help them to try foods at home rather than being attracted to junk food.In short, do not deprive them completely of it as that will not help. Children will find one way or the other to have it. Make sure you give them junk food in limited quantities and at healthy periods of time. '"
      ],
      "execution_count": 49,
      "outputs": []
    },
    {
      "cell_type": "code",
      "metadata": {
        "colab": {
          "base_uri": "https://localhost:8080/"
        },
        "id": "i-8zcg1-787s",
        "outputId": "5f106011-46e8-4f88-a76e-c6cb2669d451"
      },
      "source": [
        "our_summary=summarizer( article_text,min_length=2,max_length=100)\n",
        "print(our_summary)"
      ],
      "execution_count": 51,
      "outputs": [
        {
          "output_type": "stream",
          "text": [
            "[{'summary_text': ' Junk foods taste good thatâ€™s why it is mostly liked by everyone of any age group especially kids and school going children . They generally ask for the junk food daily because they have been trend so by their parents from the childhood . Kids and children eating junk food are more prone to the type-2 diabetes . The amount of fats and sugar in the food makes you gain weight rapidly .'}]\n"
          ],
          "name": "stdout"
        }
      ]
    },
    {
      "cell_type": "code",
      "metadata": {
        "id": "gLSw7Pmz7_qz"
      },
      "source": [
        ""
      ],
      "execution_count": null,
      "outputs": []
    }
  ]
}